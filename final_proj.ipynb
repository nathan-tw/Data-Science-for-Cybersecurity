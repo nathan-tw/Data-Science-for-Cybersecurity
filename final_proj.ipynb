{
  "nbformat": 4,
  "nbformat_minor": 0,
  "metadata": {
    "colab": {
      "name": "final proj.ipynb",
      "provenance": [],
      "collapsed_sections": [],
      "toc_visible": true,
      "mount_file_id": "10lYor5WiXapmtjsAHyB3bR4uTSwGSYSD",
      "authorship_tag": "ABX9TyP+1vNVB4sXf0Ebaweh4F0f",
      "include_colab_link": true
    },
    "kernelspec": {
      "name": "python3",
      "display_name": "Python 3"
    }
  },
  "cells": [
    {
      "cell_type": "markdown",
      "metadata": {
        "id": "view-in-github",
        "colab_type": "text"
      },
      "source": [
        "<a href=\"https://colab.research.google.com/github/nathan-tw/Data-Science-for-Cybersecurity/blob/master/final_proj.ipynb\" target=\"_parent\"><img src=\"https://colab.research.google.com/assets/colab-badge.svg\" alt=\"Open In Colab\"/></a>"
      ]
    },
    {
      "cell_type": "code",
      "metadata": {
        "id": "HHWGw8Gv_eAh",
        "colab_type": "code",
        "colab": {}
      },
      "source": [
        "import pandas as pd\n",
        "import numpy as np"
      ],
      "execution_count": 0,
      "outputs": []
    },
    {
      "cell_type": "markdown",
      "metadata": {
        "id": "y30Hs95XnfPW",
        "colab_type": "text"
      },
      "source": [
        "## 資料切割 "
      ]
    },
    {
      "cell_type": "markdown",
      "metadata": {
        "id": "CV0LMQFOeeX8",
        "colab_type": "text"
      },
      "source": [
        "因為檔案太大, colab的ram不夠如果直接讀取會crash, 因此先以10w行切割"
      ]
    },
    {
      "cell_type": "markdown",
      "metadata": {
        "id": "bt6InLWy6SDy",
        "colab_type": "text"
      },
      "source": [
        "<code> !split -l 100000 'path/to/train_features_1.jsonl' 'path/to/train_features_1.part'"
      ]
    },
    {
      "cell_type": "code",
      "metadata": {
        "id": "5F0v6tfoBuro",
        "colab_type": "code",
        "colab": {}
      },
      "source": [
        "df = pd.read_json('/content/drive/My Drive/Malware Dataset/ember_2017_2/train_features_1.partaa', lines=True)"
      ],
      "execution_count": 0,
      "outputs": []
    },
    {
      "cell_type": "markdown",
      "metadata": {
        "id": "J8ZyVMPwfExQ",
        "colab_type": "text"
      },
      "source": [
        "1代表惡意程式, 0代表正常, -1代表未標記"
      ]
    },
    {
      "cell_type": "code",
      "metadata": {
        "id": "osr1PaIkeI5Y",
        "colab_type": "code",
        "outputId": "7d9669c9-a0f1-4283-aa71-cf1a02a51691",
        "colab": {
          "base_uri": "https://localhost:8080/",
          "height": 85
        }
      },
      "source": [
        "df['label'].value_counts()"
      ],
      "execution_count": 0,
      "outputs": [
        {
          "output_type": "execute_result",
          "data": {
            "text/plain": [
              " 1    39081\n",
              "-1    35953\n",
              " 0    24966\n",
              "Name: label, dtype: int64"
            ]
          },
          "metadata": {
            "tags": []
          },
          "execution_count": 9
        }
      ]
    },
    {
      "cell_type": "markdown",
      "metadata": {
        "id": "Ip23ONNVfVqV",
        "colab_type": "text"
      },
      "source": [
        "由於我要做的是二分類,所以我將標籤為-1的資料全部drop掉"
      ]
    },
    {
      "cell_type": "code",
      "metadata": {
        "id": "syfOFlTLfELp",
        "colab_type": "code",
        "colab": {}
      },
      "source": [
        "df = df[df.label != -1]"
      ],
      "execution_count": 0,
      "outputs": []
    },
    {
      "cell_type": "code",
      "metadata": {
        "id": "BuiZL6q1qcYN",
        "colab_type": "code",
        "colab": {}
      },
      "source": [
        "df = df.reset_index(drop=True)"
      ],
      "execution_count": 0,
      "outputs": []
    },
    {
      "cell_type": "markdown",
      "metadata": {
        "id": "VOYIcKN5mGob",
        "colab_type": "text"
      },
      "source": [
        "將所有欄位印出來,並前五項的值"
      ]
    },
    {
      "cell_type": "code",
      "metadata": {
        "id": "rNUI-NQVl401",
        "colab_type": "code",
        "outputId": "5c7fe51f-bb6c-404c-bb02-172443f4f126",
        "colab": {
          "base_uri": "https://localhost:8080/",
          "height": 1000
        }
      },
      "source": [
        "# print each columns and first 5 data point\n",
        "for each in df:\n",
        "  print(each)\n",
        "  for rows in df[each][:5]:\n",
        "    print(rows)\n",
        "  print()"
      ],
      "execution_count": 0,
      "outputs": [
        {
          "output_type": "stream",
          "text": [
            "sha256\n",
            "000262d3f5a33f394ce0febea6eebf0fad8c5e7a1e37c57879ec560efe1a6b4a\n",
            "000392132cfb94be17945f5491dbaf2ee2dab9373fa15163c13104416a7f24a0\n",
            "0004516e04da9ad037e630186ffc351f9c8af63d57a530ba67190ad02c8e4e5f\n",
            "0004945f1288920c4f66e29327b2919a4d9724d4d17a3dde69f5b161a7369556\n",
            "000578c7d1978b8360a8ec43e62fae8ce797d5394a78056c9efa8ac50fc9823c\n",
            "\n",
            "appeared\n",
            "2017-01\n",
            "2017-01\n",
            "2017-01\n",
            "2017-01\n",
            "2017-01\n",
            "\n",
            "label\n",
            "1\n",
            "1\n",
            "1\n",
            "0\n",
            "1\n",
            "\n",
            "histogram\n",
            "[1977, 577, 504, 621, 641, 552, 543, 531, 579, 470, 432, 518, 580, 424, 399, 473, 598, 355, 359, 366, 448, 393, 333, 412, 425, 416, 330, 357, 431, 313, 293, 348, 595, 377, 298, 374, 420, 316, 306, 315, 351, 352, 281, 400, 386, 370, 335, 355, 457, 304, 378, 360, 403, 329, 349, 323, 360, 353, 306, 393, 351, 322, 289, 314, 489, 447, 323, 391, 392, 358, 345, 351, 397, 309, 296, 326, 336, 395, 288, 300, 412, 321, 297, 373, 351, 332, 354, 366, 360, 320, 297, 387, 338, 305, 285, 345, 370, 387, 340, 397, 465, 407, 403, 333, 439, 391, 352, 327, 452, 354, 356, 387, 448, 243, 381, 432, 562, 501, 315, 347, 332, 333, 238, 325, 329, 279, 275, 322, 516, 399, 300, 495, 372, 301, 271, 274, 346, 426, 337, 483, 325, 401, 224, 277, 490, 262, 304, 301, 262, 298, 335, 262, 281, 256, 306, 305, 285, 253, 234, 272, 340, 326, 258, 325, 293, 249, 316, 221, 296, 244, 242, 243, 319, 251, 234, 249, 372, 313, 291, 290, 295, 299, 334, 320, 381, 319, 318, 302, 272, 312, 245, 299, 387, 373, 328, 380, 309, 263, 302, 305, 428, 311, 221, 246, 287, 288, 271, 263, 381, 302, 242, 343, 286, 240, 275, 289, 372, 363, 261, 412, 322, 293, 270, 312, 397, 288, 256, 291, 376, 235, 245, 280, 498, 348, 223, 448, 354, 306, 273, 268, 386, 257, 292, 287, 301, 236, 307, 361, 394, 263, 243, 370, 385, 282, 341, 725]\n",
            "[132076, 5025, 2481, 1664, 3405, 1668, 1150, 1353, 4368, 795, 909, 836, 2149, 706, 676, 1691, 3312, 532, 569, 458, 1443, 748, 359, 417, 1021, 334, 382, 284, 765, 260, 311, 319, 2629, 270, 379, 261, 2466, 746, 239, 290, 741, 347, 257, 583, 756, 585, 646, 212, 3018, 1087, 1143, 4286, 1537, 1168, 1035, 1047, 1708, 1093, 1307, 1850, 1645, 1183, 984, 980, 6269, 2192, 2921, 3450, 2690, 10820, 1466, 847, 1172, 646, 454, 524, 967, 1292, 607, 742, 4166, 1007, 1135, 3531, 1599, 3901, 2191, 1511, 818, 2299, 1175, 2283, 606, 1480, 1889, 1151, 500, 1878, 469, 1093, 3567, 3521, 1524, 700, 2692, 1815, 1863, 420, 1769, 818, 2300, 2386, 1219, 164, 2228, 1694, 6591, 3086, 535, 493, 1108, 589, 318, 478, 1088, 842, 618, 451, 3244, 545, 213, 3654, 1840, 2274, 413, 292, 1091, 5012, 949, 25119, 732, 3362, 223, 255, 1566, 263, 313, 392, 683, 358, 208, 186, 535, 180, 149, 202, 428, 176, 203, 158, 540, 1429, 215, 399, 406, 299, 217, 200, 566, 233, 251, 215, 450, 175, 169, 235, 1011, 323, 673, 287, 486, 197, 256, 378, 1169, 762, 1022, 732, 534, 219, 298, 281, 5513, 380, 721, 5776, 1905, 318, 2468, 1600, 821, 721, 305, 317, 703, 197, 433, 264, 1162, 448, 1245, 768, 822, 348, 968, 627, 2064, 346, 632, 959, 826, 243, 380, 296, 896, 239, 398, 251, 709, 520, 216, 255, 11315, 1322, 440, 2416, 2215, 284, 384, 292, 2770, 414, 801, 580, 1598, 253, 1077, 598, 2640, 510, 1281, 1769, 4830, 1591, 2721, 23672]\n",
            "[26450, 9240, 8608, 8749, 8855, 8588, 8490, 8528, 9225, 8486, 8369, 8334, 8599, 8474, 8421, 8919, 8926, 8271, 8288, 8526, 8659, 8609, 8403, 8442, 8573, 8281, 8317, 8289, 8467, 8285, 8374, 8322, 8537, 8304, 8306, 8210, 8722, 8336, 8320, 8345, 8248, 8388, 8411, 8412, 8384, 8318, 8410, 8298, 8551, 8683, 8518, 8371, 8297, 8420, 8558, 8310, 8512, 8680, 8397, 8388, 8303, 8332, 8470, 8330, 6185, 5251, 3665, 4044, 3771, 5559, 3723, 3617, 3735, 3723, 3625, 3619, 3686, 3757, 3746, 3711, 4587, 3655, 3766, 4075, 3815, 4064, 3810, 3774, 3661, 3844, 3705, 3797, 3694, 3856, 3670, 3674, 3631, 4904, 3986, 4251, 4201, 5328, 4099, 4058, 4179, 4513, 4043, 3873, 4342, 4125, 4585, 4589, 4106, 3613, 4773, 4606, 4745, 4494, 3757, 3847, 3716, 3944, 3697, 3631, 3604, 3735, 3631, 3587, 3875, 3671, 3586, 4735, 3738, 4205, 3643, 3534, 3679, 5181, 3666, 5510, 3611, 4164, 3527, 3551, 5127, 3610, 3541, 3586, 3591, 3614, 3565, 3677, 3567, 3593, 3572, 3544, 3543, 3636, 3583, 3566, 3603, 3675, 3566, 3595, 3597, 3696, 3584, 3596, 3576, 3597, 3540, 3572, 3544, 3527, 3563, 3584, 3638, 3539, 3617, 3611, 3655, 3642, 3771, 3636, 3731, 3642, 3592, 3564, 3648, 3595, 3594, 3676, 4119, 3782, 3755, 3928, 3852, 3570, 3713, 3947, 3728, 3573, 3710, 3611, 3724, 3626, 3613, 3603, 3838, 3662, 3642, 3609, 3603, 3656, 3633, 3600, 3809, 3620, 3702, 3751, 3711, 3670, 3603, 3656, 4095, 3583, 3707, 3629, 3727, 3764, 3640, 3580, 4108, 3783, 3684, 4077, 3874, 3595, 3691, 3659, 3846, 3618, 3647, 3630, 3752, 3588, 3671, 3883, 4067, 3749, 3710, 3758, 4079, 3759, 3768, 5402]\n",
            "[35358, 2741, 2100, 1088, 1436, 459, 535, 640, 1624, 342, 351, 536, 849, 373, 190, 4654, 3452, 414, 107, 110, 536, 449, 198, 861, 628, 343, 117, 112, 381, 133, 106, 283, 969, 123, 155, 188, 2424, 334, 108, 104, 349, 85, 92, 428, 312, 482, 145, 97, 529, 259, 201, 1120, 410, 319, 278, 267, 725, 416, 256, 900, 731, 465, 226, 415, 581, 433, 314, 337, 971, 1468, 460, 350, 363, 309, 142, 105, 692, 688, 200, 410, 812, 241, 206, 496, 575, 608, 534, 529, 337, 638, 113, 335, 246, 599, 435, 386, 419, 558, 207, 302, 486, 959, 2893, 307, 640, 507, 722, 169, 715, 250, 932, 555, 523, 307, 601, 562, 1903, 1522, 292, 258, 238, 288, 131, 86, 525, 469, 351, 332, 530, 661, 106, 1901, 526, 1423, 150, 124, 468, 2283, 220, 5000, 189, 1112, 152, 106, 243, 40, 58, 48, 175, 148, 46, 47, 144, 173, 41, 104, 112, 95, 62, 62, 169, 218, 65, 149, 156, 103, 79, 52, 183, 92, 92, 82, 150, 54, 79, 106, 189, 56, 58, 53, 157, 91, 443, 297, 300, 137, 115, 82, 194, 148, 162, 546, 1509, 1703, 569, 882, 586, 253, 460, 1010, 809, 470, 256, 195, 979, 137, 188, 390, 610, 283, 366, 200, 177, 197, 219, 167, 349, 172, 107, 193, 233, 147, 86, 104, 600, 326, 209, 124, 312, 276, 226, 191, 1769, 591, 226, 777, 546, 107, 118, 343, 747, 238, 466, 241, 221, 78, 408, 293, 662, 367, 241, 367, 487, 322, 508, 7725]\n",
            "[10562, 231, 114, 1598, 667, 197, 90, 84, 130, 98, 97, 70, 96, 82, 53, 107, 292, 62, 52, 54, 80, 108, 79, 91, 100, 121, 68, 56, 167, 65, 82, 83, 298, 57, 102, 60, 153, 105, 78, 76, 138, 93, 102, 71, 71, 58, 170, 96, 149, 97, 137, 152, 76, 51, 83, 86, 75, 47, 78, 22, 64, 35, 47, 26, 186, 112, 67, 153, 85, 132, 104, 93, 77, 84, 53, 55, 123, 106, 59, 71, 144, 60, 64, 88, 98, 116, 95, 84, 50, 65, 17, 39, 83, 47, 39, 46, 29, 399, 126, 225, 195, 542, 118, 119, 179, 368, 132, 71, 287, 172, 331, 340, 184, 66, 308, 327, 428, 210, 92, 143, 148, 118, 48, 30, 52, 34, 57, 50, 207, 63, 16, 65, 33, 50, 42, 34, 41, 105, 28, 242, 34, 44, 35, 28, 68, 33, 25, 20, 25, 48, 22, 71, 66, 49, 27, 54, 86, 61, 49, 42, 45, 32, 36, 44, 42, 22, 62, 22, 41, 59, 45, 22, 35, 43, 41, 84, 40, 27, 61, 42, 39, 53, 20, 25, 61, 43, 34, 41, 30, 27, 28, 32, 125, 77, 59, 64, 67, 37, 37, 62, 64, 36, 33, 36, 245, 52, 35, 45, 43, 29, 42, 23, 31, 35, 30, 39, 29, 59, 48, 55, 51, 50, 38, 42, 48, 24, 29, 18, 34, 37, 36, 41, 104, 86, 42, 53, 189, 308, 252, 257, 271, 212, 215, 262, 236, 272, 291, 364, 386, 330, 276, 256, 308, 239, 692, 5413]\n",
            "\n",
            "byteentropy\n",
            "[0, 0, 0, 0, 0, 0, 0, 0, 0, 0, 0, 0, 0, 0, 0, 0, 0, 0, 0, 0, 0, 0, 0, 0, 0, 0, 0, 0, 0, 0, 0, 0, 0, 0, 0, 0, 0, 0, 0, 0, 0, 0, 0, 0, 0, 0, 0, 0, 0, 0, 0, 0, 0, 0, 0, 0, 0, 0, 0, 0, 0, 0, 0, 0, 0, 0, 0, 0, 0, 0, 0, 0, 0, 0, 0, 0, 0, 0, 0, 0, 0, 0, 0, 0, 0, 0, 0, 0, 0, 0, 0, 0, 0, 0, 0, 0, 0, 0, 0, 0, 0, 0, 0, 0, 0, 0, 0, 0, 0, 0, 0, 0, 0, 0, 0, 0, 0, 0, 0, 0, 0, 0, 0, 0, 0, 0, 0, 0, 0, 0, 0, 0, 0, 0, 0, 0, 0, 0, 0, 0, 0, 0, 0, 0, 0, 0, 0, 0, 0, 0, 0, 0, 0, 0, 0, 0, 0, 0, 0, 0, 1113, 64, 52, 43, 82, 64, 132, 69, 91, 34, 40, 36, 56, 47, 48, 77, 0, 0, 0, 0, 0, 0, 0, 0, 0, 0, 0, 0, 0, 0, 0, 0, 892, 94, 77, 67, 102, 89, 109, 88, 119, 61, 40, 41, 73, 56, 64, 76, 0, 0, 0, 0, 0, 0, 0, 0, 0, 0, 0, 0, 0, 0, 0, 0, 580, 131, 93, 106, 97, 102, 106, 108, 156, 55, 34, 101, 85, 98, 79, 117, 16468, 11872, 11222, 10801, 11038, 10462, 11781, 10887, 10948, 9095, 8547, 9573, 9529, 9552, 9821, 10436]\n",
            "[126938, 14, 0, 0, 0, 2, 2, 8, 0, 0, 2, 0, 0, 2, 2, 6, 0, 0, 0, 0, 0, 0, 0, 0, 0, 0, 0, 0, 0, 0, 0, 0, 0, 0, 0, 0, 0, 0, 0, 0, 0, 0, 0, 0, 0, 0, 0, 0, 0, 0, 0, 0, 0, 0, 0, 0, 0, 0, 0, 0, 0, 0, 0, 0, 0, 0, 0, 0, 0, 0, 0, 0, 0, 0, 0, 0, 0, 0, 0, 0, 4660, 27, 69, 91, 182, 70, 521, 295, 54, 57, 15, 19, 21, 20, 12, 31, 1477, 31, 44, 18, 39, 16, 5, 17, 43, 35, 12, 19, 27, 16, 18, 231, 10246, 211, 1123, 77, 454, 134, 3528, 1892, 57, 24, 34, 24, 55, 16, 22, 535, 6586, 281, 364, 120, 2018, 894, 6561, 3237, 99, 28, 18, 14, 52, 20, 26, 162, 6772, 176, 415, 676, 531, 131, 616, 452, 275, 168, 111, 124, 149, 261, 465, 966, 9488, 428, 653, 1168, 2572, 895, 4141, 2173, 690, 323, 113, 151, 303, 251, 480, 747, 27367, 3390, 2751, 26411, 9892, 3315, 8434, 5410, 3648, 2572, 2091, 2275, 2647, 2881, 3041, 4467, 12495, 864, 1024, 873, 5232, 1813, 4535, 2390, 2100, 757, 470, 713, 1328, 967, 886, 2465, 37490, 4494, 4249, 5055, 15965, 12256, 8480, 7383, 23505, 1911, 2048, 3657, 9055, 4987, 9370, 22127, 75408, 13091, 12101, 15649, 37212, 41946, 17772, 19722, 67961, 6117, 7082, 10254, 31240, 14842, 29981, 62470, 0, 0, 0, 0, 0, 0, 0, 0, 0, 0, 0, 0, 0, 0, 0, 0]\n",
            "[0, 0, 0, 0, 0, 0, 0, 0, 0, 0, 0, 0, 0, 0, 0, 0, 0, 0, 0, 0, 0, 0, 0, 0, 0, 0, 0, 0, 0, 0, 0, 0, 0, 0, 0, 0, 0, 0, 0, 0, 0, 0, 0, 0, 0, 0, 0, 0, 1832, 45, 2, 8, 72, 39, 10, 3, 1, 1, 0, 24, 0, 2, 9, 0, 1757, 7, 17, 8, 40, 31, 85, 27, 9, 12, 3, 7, 16, 6, 6, 17, 1398, 0, 0, 75, 59, 21, 6219, 2468, 0, 0, 0, 0, 0, 0, 0, 0, 4360, 1, 90, 233, 308, 240, 5894, 3168, 2, 3, 1, 1, 32, 1, 1, 1, 1050, 0, 0, 763, 30, 14, 2941, 1346, 0, 0, 0, 0, 0, 0, 0, 0, 4479, 106, 101, 359, 2331, 1244, 542, 226, 75, 54, 45, 75, 183, 294, 57, 69, 3737, 314, 112, 679, 1681, 404, 3055, 1391, 85, 79, 70, 76, 228, 161, 70, 146, 1944, 130, 115, 103, 1182, 112, 703, 333, 98, 84, 85, 84, 81, 81, 593, 416, 6315, 358, 434, 512, 3283, 400, 1233, 829, 484, 283, 238, 307, 324, 1339, 1021, 1072, 1310, 97, 149, 168, 373, 177, 187, 135, 438, 91, 60, 86, 122, 33, 392, 278, 8941, 1704, 716, 943, 3607, 2937, 1018, 1454, 6215, 1337, 308, 673, 2216, 956, 2383, 3504, 10231, 2067, 1353, 1228, 4203, 3632, 1541, 1992, 6614, 2276, 541, 1062, 2674, 1124, 2376, 4190, 264665, 265072, 264638, 265006, 113574, 113542, 113871, 113511, 113590, 113507, 113397, 113805, 113744, 113463, 113405, 113994]\n",
            "[14336, 0, 0, 0, 0, 0, 0, 0, 0, 0, 0, 0, 0, 0, 0, 0, 0, 0, 0, 0, 0, 0, 0, 0, 0, 0, 0, 0, 0, 0, 0, 0, 0, 0, 0, 0, 0, 0, 0, 0, 0, 0, 0, 0, 0, 0, 0, 0, 0, 0, 0, 0, 0, 0, 0, 0, 0, 0, 0, 0, 0, 0, 0, 0, 0, 0, 0, 0, 0, 0, 0, 0, 0, 0, 0, 0, 0, 0, 0, 0, 0, 0, 0, 0, 0, 0, 0, 0, 0, 0, 0, 0, 0, 0, 0, 0, 1553, 147, 12, 18, 48, 20, 10, 24, 23, 8, 4, 12, 100, 20, 7, 42, 10061, 273, 1024, 169, 552, 329, 2294, 1308, 79, 17, 30, 25, 109, 26, 25, 63, 4339, 107, 428, 654, 272, 169, 1296, 618, 31, 29, 29, 36, 28, 27, 40, 89, 6503, 738, 477, 180, 852, 519, 2569, 1328, 153, 86, 89, 75, 136, 92, 422, 117, 7096, 722, 758, 825, 482, 322, 1061, 610, 291, 169, 180, 191, 229, 235, 442, 723, 4158, 655, 600, 4268, 538, 525, 971, 676, 560, 354, 393, 370, 471, 447, 504, 894, 4805, 591, 350, 364, 591, 506, 473, 514, 1199, 272, 293, 541, 688, 413, 708, 2028, 30134, 7482, 5566, 4188, 5942, 4914, 8333, 5160, 13494, 1194, 1289, 2842, 10559, 2831, 5510, 11394, 21783, 5727, 3539, 4339, 6321, 6866, 4194, 6517, 14068, 1063, 1348, 1956, 8464, 3121, 5823, 11367, 0, 0, 0, 0, 0, 0, 0, 0, 0, 0, 0, 0, 0, 0, 0, 0]\n",
            "[0, 0, 0, 0, 0, 0, 0, 0, 0, 0, 0, 0, 0, 0, 0, 0, 0, 0, 0, 0, 0, 0, 0, 0, 0, 0, 0, 0, 0, 0, 0, 0, 0, 0, 0, 0, 0, 0, 0, 0, 0, 0, 0, 0, 0, 0, 0, 0, 0, 0, 0, 0, 0, 0, 0, 0, 0, 0, 0, 0, 0, 0, 0, 0, 467, 5, 6, 2, 0, 0, 8, 7, 11, 2, 4, 4, 1, 12, 66, 1453, 3535, 113, 45, 37, 33, 21, 73, 44, 90, 25, 40, 43, 54, 61, 286, 5740, 2218, 60, 34, 29, 19, 22, 37, 23, 34, 52, 46, 41, 56, 67, 586, 4868, 5663, 116, 224, 374, 315, 192, 1149, 539, 55, 52, 33, 36, 88, 34, 124, 1246, 2133, 27, 114, 96, 137, 62, 551, 285, 9, 5, 10, 5, 11, 2, 158, 491, 1407, 42, 96, 35, 119, 64, 490, 276, 36, 16, 6, 6, 47, 145, 502, 809, 4254, 352, 462, 303, 628, 384, 2671, 1551, 213, 67, 56, 58, 194, 143, 241, 711, 2178, 646, 1103, 273, 146, 124, 155, 164, 316, 387, 384, 475, 509, 218, 217, 2945, 1337, 303, 133, 161, 264, 200, 664, 453, 104, 31, 44, 30, 134, 35, 31, 172, 1593, 449, 261, 135, 208, 200, 204, 215, 485, 251, 145, 159, 265, 248, 455, 871, 1259, 436, 342, 236, 519, 533, 408, 329, 521, 136, 150, 97, 415, 111, 234, 418, 332, 553, 560, 368, 539, 324, 444, 558, 248, 447, 423, 238, 370, 209, 213, 318]\n",
            "\n",
            "strings\n",
            "{'numstrings': 645, 'avlength': 6.069767441860465, 'printabledist': [87, 38, 31, 31, 43, 31, 26, 34, 39, 24, 29, 37, 33, 49, 45, 55, 37, 37, 54, 51, 38, 29, 30, 38, 35, 40, 31, 26, 33, 27, 23, 27, 37, 50, 26, 48, 41, 52, 40, 41, 41, 38, 32, 36, 46, 38, 41, 37, 46, 26, 32, 53, 45, 41, 25, 44, 30, 27, 26, 49, 32, 33, 25, 35, 35, 79, 33, 56, 72, 88, 41, 41, 47, 52, 31, 36, 62, 43, 57, 71, 62, 24, 77, 73, 81, 57, 35, 29, 44, 48, 21, 26, 26, 18, 18, 31], 'printables': 3915, 'entropy': 6.495400428771973, 'paths': 0, 'urls': 0, 'registry': 0, 'MZ': 3}\n",
            "{'numstrings': 3944, 'avlength': 10.814148073022313, 'printabledist': [580, 32, 51, 34, 202, 44, 40, 37, 147, 33, 61, 42, 164, 95, 144, 47, 498, 365, 398, 471, 424, 413, 370, 380, 443, 366, 415, 443, 472, 378, 359, 304, 172, 414, 424, 719, 518, 441, 348, 207, 340, 356, 51, 96, 372, 435, 214, 469, 462, 165, 275, 771, 855, 247, 167, 286, 149, 295, 108, 268, 159, 235, 285, 362, 102, 1486, 306, 845, 874, 3016, 253, 513, 642, 1466, 156, 236, 1287, 599, 1884, 1939, 617, 47, 1747, 1111, 2549, 613, 252, 236, 313, 296, 86, 23, 130, 35, 39, 36], 'printables': 42651, 'entropy': 5.890556335449219, 'paths': 1, 'urls': 1, 'registry': 0, 'MZ': 1}\n",
            "{'numstrings': 10073, 'avlength': 5.993348555544525, 'printabledist': [764, 700, 676, 702, 746, 754, 747, 685, 658, 703, 750, 705, 686, 759, 804, 684, 831, 843, 835, 824, 723, 752, 758, 739, 741, 713, 718, 707, 697, 718, 730, 689, 327, 540, 384, 481, 396, 503, 390, 371, 405, 458, 342, 353, 436, 419, 518, 473, 460, 371, 471, 491, 476, 413, 462, 396, 348, 362, 364, 307, 365, 378, 388, 347, 328, 1499, 685, 821, 808, 1893, 526, 647, 717, 1206, 390, 546, 964, 763, 1255, 1163, 638, 341, 1431, 1178, 1094, 725, 447, 495, 406, 643, 370, 352, 312, 336, 316, 340], 'printables': 60371, 'entropy': 6.456369400024414, 'paths': 2, 'urls': 0, 'registry': 0, 'MZ': 12}\n",
            "{'numstrings': 749, 'avlength': 10.753004005340454, 'printabledist': [179, 9, 44, 10, 299, 9, 16, 12, 32, 9, 17, 23, 56, 17, 41, 15, 107, 82, 58, 130, 107, 61, 73, 85, 158, 86, 65, 109, 165, 108, 66, 58, 50, 65, 27, 87, 109, 88, 67, 74, 68, 92, 24, 10, 209, 45, 44, 41, 123, 21, 48, 136, 149, 63, 60, 103, 69, 26, 28, 23, 22, 11, 15, 31, 29, 214, 47, 114, 155, 495, 123, 59, 80, 184, 49, 23, 224, 90, 305, 214, 92, 10, 233, 165, 391, 113, 30, 36, 68, 59, 21, 13, 38, 5, 13, 28], 'printables': 8054, 'entropy': 6.022379875183105, 'paths': 0, 'urls': 0, 'registry': 0, 'MZ': 2}\n",
            "{'numstrings': 341, 'avlength': 11.214076246334312, 'printabledist': [44, 2, 25, 1, 3, 9, 3, 1, 14, 14, 34, 2, 1, 5, 48, 9, 14, 8, 12, 35, 0, 1, 5, 0, 4, 0, 5, 6, 14, 13, 13, 3, 18, 42, 22, 59, 42, 26, 25, 27, 12, 34, 3, 3, 33, 24, 7, 21, 40, 6, 21, 49, 45, 39, 5, 28, 7, 0, 2, 2, 1, 2, 1, 2, 5, 213, 38, 123, 98, 284, 44, 68, 42, 198, 7, 7, 169, 86, 191, 205, 87, 4, 191, 224, 259, 84, 21, 64, 29, 49, 5, 1, 25, 0, 1, 6], 'printables': 3824, 'entropy': 5.361155033111572, 'paths': 0, 'urls': 0, 'registry': 0, 'MZ': 2}\n",
            "\n",
            "general\n",
            "{'size': 90690, 'vsize': 421888, 'has_debug': 0, 'exports': 0, 'imports': 4, 'has_relocations': 0, 'has_resources': 1, 'has_signature': 0, 'has_tls': 1, 'symbols': 0}\n",
            "{'size': 499240, 'vsize': 458752, 'has_debug': 0, 'exports': 0, 'imports': 14, 'has_relocations': 1, 'has_resources': 1, 'has_signature': 0, 'has_tls': 1, 'symbols': 0}\n",
            "{'size': 1298592, 'vsize': 176128, 'has_debug': 0, 'exports': 0, 'imports': 95, 'has_relocations': 0, 'has_resources': 0, 'has_signature': 0, 'has_tls': 0, 'symbols': 0}\n",
            "{'size': 164864, 'vsize': 184320, 'has_debug': 0, 'exports': 3, 'imports': 138, 'has_relocations': 1, 'has_resources': 1, 'has_signature': 0, 'has_tls': 0, 'symbols': 0}\n",
            "{'size': 43802, 'vsize': 53248, 'has_debug': 1, 'exports': 0, 'imports': 36, 'has_relocations': 0, 'has_resources': 1, 'has_signature': 0, 'has_tls': 0, 'symbols': 0}\n",
            "\n",
            "header\n",
            "{'coff': {'timestamp': 708992537, 'machine': 'I386', 'characteristics': ['BYTES_REVERSED_LO', 'RELOCS_STRIPPED', 'EXECUTABLE_IMAGE', 'CHARA_32BIT_MACHINE', 'LINE_NUMS_STRIPPED', 'BYTES_REVERSED_HI', 'LOCAL_SYMS_STRIPPED']}, 'optional': {'subsystem': 'WINDOWS_GUI', 'dll_characteristics': [], 'magic': 'PE32', 'major_image_version': 0, 'minor_image_version': 0, 'major_linker_version': 2, 'minor_linker_version': 25, 'major_operating_system_version': 4, 'minor_operating_system_version': 0, 'major_subsystem_version': 4, 'minor_subsystem_version': 0, 'sizeof_code': 61440, 'sizeof_headers': 4096, 'sizeof_heap_commit': 4096}}\n",
            "{'coff': {'timestamp': 708992537, 'machine': 'I386', 'characteristics': ['CHARA_32BIT_MACHINE', 'BYTES_REVERSED_LO', 'EXECUTABLE_IMAGE', 'BYTES_REVERSED_HI', 'LINE_NUMS_STRIPPED', 'LOCAL_SYMS_STRIPPED']}, 'optional': {'subsystem': 'WINDOWS_GUI', 'dll_characteristics': [], 'magic': 'PE32', 'major_image_version': 0, 'minor_image_version': 0, 'major_linker_version': 2, 'minor_linker_version': 25, 'major_operating_system_version': 1, 'minor_operating_system_version': 0, 'major_subsystem_version': 4, 'minor_subsystem_version': 0, 'sizeof_code': 364544, 'sizeof_headers': 4096, 'sizeof_heap_commit': 4096}}\n",
            "{'coff': {'timestamp': 1141321837, 'machine': 'I386', 'characteristics': ['CHARA_32BIT_MACHINE', 'RELOCS_STRIPPED', 'EXECUTABLE_IMAGE', 'LINE_NUMS_STRIPPED', 'LOCAL_SYMS_STRIPPED']}, 'optional': {'subsystem': 'WINDOWS_GUI', 'dll_characteristics': [], 'magic': 'PE32', 'major_image_version': 0, 'minor_image_version': 0, 'major_linker_version': 2, 'minor_linker_version': 50, 'major_operating_system_version': 4, 'minor_operating_system_version': 0, 'major_subsystem_version': 4, 'minor_subsystem_version': 0, 'sizeof_code': 42496, 'sizeof_headers': 512, 'sizeof_heap_commit': 4096}}\n",
            "{'coff': {'timestamp': 1482827775, 'machine': 'I386', 'characteristics': ['LARGE_ADDRESS_AWARE', 'CHARA_32BIT_MACHINE', 'EXECUTABLE_IMAGE', 'DLL']}, 'optional': {'subsystem': 'WINDOWS_GUI', 'dll_characteristics': ['DYNAMIC_BASE'], 'magic': 'PE32', 'major_image_version': 4, 'minor_image_version': 42, 'major_linker_version': 11, 'minor_linker_version': 0, 'major_operating_system_version': 5, 'minor_operating_system_version': 1, 'major_subsystem_version': 5, 'minor_subsystem_version': 1, 'sizeof_code': 110592, 'sizeof_headers': 1024, 'sizeof_heap_commit': 4096}}\n",
            "{'coff': {'timestamp': 1391023645, 'machine': 'I386', 'characteristics': ['CHARA_32BIT_MACHINE', 'RELOCS_STRIPPED', 'EXECUTABLE_IMAGE', 'LINE_NUMS_STRIPPED', 'LOCAL_SYMS_STRIPPED']}, 'optional': {'subsystem': 'WINDOWS_GUI', 'dll_characteristics': [], 'magic': 'PE32', 'major_image_version': 0, 'minor_image_version': 0, 'major_linker_version': 7, 'minor_linker_version': 0, 'major_operating_system_version': 4, 'minor_operating_system_version': 0, 'major_subsystem_version': 4, 'minor_subsystem_version': 0, 'sizeof_code': 3584, 'sizeof_headers': 1024, 'sizeof_heap_commit': 4096}}\n",
            "\n",
            "section\n",
            "{'entry': 'UPX0', 'sections': [{'name': 'UPX0', 'size': 0, 'entropy': -0.0, 'vsize': 352256, 'props': ['CNT_UNINITIALIZED_DATA', 'MEM_EXECUTE', 'MEM_READ', 'MEM_WRITE']}, {'name': 'UPX1', 'size': 60416, 'entropy': 7.907503957971362, 'vsize': 61440, 'props': ['CNT_INITIALIZED_DATA', 'MEM_EXECUTE', 'MEM_READ', 'MEM_WRITE']}, {'name': '.rsrc', 'size': 1024, 'entropy': 2.791128521214197, 'vsize': 4096, 'props': ['CNT_INITIALIZED_DATA', 'MEM_READ', 'MEM_WRITE']}]}\n",
            "{'entry': 'CODE', 'sections': [{'name': 'CODE', 'size': 364544, 'entropy': 6.505615666822944, 'vsize': 364048, 'props': ['CNT_CODE', 'MEM_EXECUTE', 'MEM_READ']}, {'name': 'DATA', 'size': 7168, 'entropy': 4.252296193722332, 'vsize': 7152, 'props': ['CNT_INITIALIZED_DATA', 'MEM_READ', 'MEM_WRITE']}, {'name': 'BSS', 'size': 0, 'entropy': -0.0, 'vsize': 2421, 'props': ['MEM_READ', 'MEM_WRITE']}, {'name': '.idata', 'size': 9728, 'entropy': 5.051022481777387, 'vsize': 9328, 'props': ['CNT_INITIALIZED_DATA', 'MEM_READ', 'MEM_WRITE']}, {'name': '.tls', 'size': 0, 'entropy': -0.0, 'vsize': 16, 'props': ['MEM_READ', 'MEM_WRITE']}, {'name': '.rdata', 'size': 512, 'entropy': 1.7469152532855432, 'vsize': 24, 'props': ['CNT_INITIALIZED_DATA', 'MEM_SHARED', 'MEM_READ']}, {'name': '.reloc', 'size': 26112, 'entropy': 6.680542771136226, 'vsize': 25724, 'props': ['CNT_INITIALIZED_DATA', 'MEM_SHARED', 'MEM_READ']}, {'name': '.rsrc', 'size': 25088, 'entropy': 5.252791082250086, 'vsize': 25088, 'props': ['CNT_INITIALIZED_DATA', 'MEM_SHARED', 'MEM_READ']}]}\n",
            "{'entry': '.text', 'sections': [{'name': '.text', 'size': 42496, 'entropy': 6.457847489742978, 'vsize': 42342, 'props': ['CNT_CODE', 'MEM_EXECUTE', 'CNT_INITIALIZED_DATA', 'MEM_READ', 'MEM_WRITE']}, {'name': '.rdata', 'size': 26112, 'entropy': 5.202903562821798, 'vsize': 25860, 'props': ['CNT_INITIALIZED_DATA', 'MEM_READ']}, {'name': '.data', 'size': 94720, 'entropy': 7.645169014058403, 'vsize': 98304, 'props': ['CNT_INITIALIZED_DATA', 'MEM_EXECUTE', 'MEM_READ', 'MEM_WRITE']}]}\n",
            "{'entry': '.text', 'sections': [{'name': '.text', 'size': 110592, 'entropy': 6.733392467062675, 'vsize': 110219, 'props': ['CNT_CODE', 'MEM_EXECUTE', 'MEM_READ']}, {'name': '.rdata', 'size': 27136, 'entropy': 5.11651508152571, 'vsize': 27074, 'props': ['CNT_INITIALIZED_DATA', 'MEM_READ']}, {'name': '.data', 'size': 4608, 'entropy': 3.637828153472823, 'vsize': 13104, 'props': ['CNT_INITIALIZED_DATA', 'MEM_READ', 'MEM_WRITE']}, {'name': '.rsrc', 'size': 8192, 'entropy': 5.539383859434646, 'vsize': 7808, 'props': ['CNT_INITIALIZED_DATA', 'MEM_READ']}, {'name': '.reloc', 'size': 13312, 'entropy': 3.426206164828575, 'vsize': 12974, 'props': ['CNT_INITIALIZED_DATA', 'MEM_DISCARDABLE', 'MEM_READ']}]}\n",
            "{'entry': '.text', 'sections': [{'name': '.text', 'size': 3584, 'entropy': 6.300966116016744, 'vsize': 3476, 'props': ['CNT_CODE', 'MEM_EXECUTE', 'MEM_READ']}, {'name': '.rdata', 'size': 2560, 'entropy': 4.785288893701598, 'vsize': 2366, 'props': ['CNT_INITIALIZED_DATA', 'MEM_READ']}, {'name': '.data', 'size': 5632, 'entropy': 7.484914645661277, 'vsize': 10000, 'props': ['CNT_INITIALIZED_DATA', 'MEM_READ', 'MEM_WRITE']}, {'name': '.rsrc', 'size': 28672, 'entropy': 5.477671511719875, 'vsize': 28256, 'props': ['CNT_INITIALIZED_DATA', 'MEM_READ']}]}\n",
            "\n",
            "imports\n",
            "{'KERNEL32.DLL': ['LoadLibraryA'], 'advapi32.dll': ['RegOpenKeyA'], 'oleaut32.dll': ['SysFreeString'], 'user32.dll': ['CharNextA']}\n",
            "{'KERNEL32.DLL': ['TlsSetValue', 'lstrcpyA', 'GetCurrentThreadId'], 'advapi32.dll': ['RegQueryValueExA', 'ReportEventA', 'StartServiceCtrlDispatcherA'], 'comctl32.dll': ['ImageList_SetIconSize'], 'gdi32.dll': ['UnrealizeObject'], 'ole32.dll': ['CoCreateInstance'], 'oleaut32.dll': ['GetErrorInfo', 'VariantChangeTypeEx'], 'user32.dll': ['WindowFromPoint', 'GetKeyboardType'], 'wsock32.dll': ['WSACleanup']}\n",
            "{'ADVAPI32.dll': ['RegOpenKeyExA', 'RegQueryValueExA', 'RegCloseKey', 'RegSetValueExA', 'RegConnectRegistryA', 'OpenSCManagerA', 'LockServiceDatabase', 'OpenServiceA', 'ChangeServiceConfigA', 'StartServiceA', 'CloseServiceHandle', 'UnlockServiceDatabase', 'EnumServicesStatusA', 'ControlService', 'DeleteService'], 'SHELL32.dll': ['FindExecutableA', 'ShellExecuteA'], 'MPR.dll': ['WNetAddConnection2A', 'WNetCancelConnection2A', 'WNetOpenEnumA', 'WNetEnumResourceA', 'WNetCloseEnum', 'WNetGetConnectionA'], 'KERNEL32.dll': ['GetDriveTypeA', 'GetWindowsDirectoryA', 'GetComputerNameA', 'GetLastError', 'Sleep', 'GetModuleFileNameA', 'GetLocalTime', 'CreateThread', 'OpenMutexA', 'ReleaseMutex', 'CreateMutexA', 'CloseHandle', 'GetVersionExA', 'CreateFileA', 'CreateFileMappingA', 'MapViewOfFile', 'WriteFile', 'SetFilePointer', 'FindFirstFileA', 'FindNextFileA', 'FindClose', 'OpenProcess', 'TerminateProcess', 'CreateToolhelp32Snapshot', 'Process32First', 'Process32Next', 'LoadLibraryA', 'GetProcAddress', 'FreeLibrary', 'GetSystemTimeAsFileTime', 'SetConsoleCtrlHandler', 'GetStartupInfoA', 'GetModuleHandleA', 'VirtualAlloc', 'VirtualQuery', 'HeapCreate', 'HeapDestroy', 'HeapAlloc', 'HeapReAlloc', 'HeapFree', 'HeapSize', 'HeapValidate', 'ExitProcess', 'RtlUnwind', 'GetFileType', 'GetStdHandle', 'GetCurrentProcess', 'DuplicateHandle', 'SetHandleCount', 'GetCommandLineA', 'GetEnvironmentStrings', 'FreeEnvironmentStringsA', 'UnhandledExceptionFilter', 'GetTimeZoneInformation', 'SetStdHandle', 'DeleteFileA', 'ReadFile', 'SetEndOfFile'], 'USER32.dll': ['GetWindowTextA', 'GetWindowThreadProcessId', 'EnumWindows'], 'WS2_32.dll': ['ordinal23', 'ordinal8', 'ordinal9', 'ordinal2', 'ordinal17', 'ordinal20', 'ordinal115', 'ordinal116', 'ordinal11', 'ordinal52', 'ordinal51']}\n",
            "{'KERNEL32.dll': ['OutputDebugStringW', 'WriteConsoleW', 'SetStdHandle', 'HeapReAlloc', 'RtlUnwind', 'LoadLibraryExW', 'GetModuleFileNameW', 'HeapAlloc', 'LCMapStringW', 'SetFilePointerEx', 'GetConsoleMode', 'GetConsoleCP', 'TlsFree', 'TlsSetValue', 'LoadLibraryW', 'TlsAlloc', 'TerminateProcess', 'GetCurrentProcess', 'SetUnhandledExceptionFilter', 'UnhandledExceptionFilter', 'FreeEnvironmentStringsW', 'GetEnvironmentStringsW', 'GetSystemTimeAsFileTime', 'GetCurrentProcessId', 'QueryPerformanceCounter', 'HeapFree', 'GetModuleFileNameA', 'HeapSize', 'FlushFileBuffers', 'VirtualQuery', 'LockResource', 'MultiByteToWideChar', 'SizeofResource', 'WideCharToMultiByte', 'WriteFile', 'LoadResource', 'FindResourceW', 'SetFileAttributesW', 'DeleteFileW', 'GlobalAlloc', 'CreateFileW', 'SearchPathW', 'GetTickCount', 'CloseHandle', 'GetCurrentThreadId', 'DeleteCriticalSection', 'GetExitCodeThread', 'OpenThread', 'EnterCriticalSection', 'InterlockedExchange', 'IsBadWritePtr', 'GetStartupInfoW', 'GetFileType', 'GetStdHandle', 'GetProcessHeap', 'GetModuleHandleExW', 'ExitProcess', 'GetStringTypeW', 'SetLastError', 'GetCPInfo', 'GetOEMCP', 'LeaveCriticalSection', 'Sleep', 'InitializeCriticalSectionAndSpinCount', 'GlobalSize', 'GetSystemInfo', 'GetProcAddress', 'GetLastError', 'GetModuleHandleW', 'GlobalFree', 'TlsGetValue', 'GetCommandLineA', 'IsDebuggerPresent', 'EncodePointer', 'DecodePointer', 'IsProcessorFeaturePresent', 'InterlockedIncrement', 'InterlockedDecrement', 'IsValidCodePage', 'GetACP', 'RaiseException'], 'USER32.dll': ['MessageBoxW', 'DispatchMessageW', 'GetWindowRect', 'IsIconic', 'PtInRect', 'SystemParametersInfoW', 'MonitorFromWindow', 'IsWindow', 'GetMonitorInfoW', 'SetCursor', 'LoadCursorW', 'GetDesktopWindow', 'DestroyWindow', 'GetDlgItemInt', 'DialogBoxParamW', 'GetParent', 'TranslateMessage', 'SetDlgItemInt', 'SetRect', 'PeekMessageW', 'SetWindowLongW', 'EndDialog', 'SendDlgItemMessageW', 'SetWindowPos', 'ShowWindow', 'CreateDialogParamW', 'GetDlgItemTextW', 'SetDlgItemTextW', 'SendMessageW', 'UpdateWindow', 'SetWindowTextW'], 'GDI32.dll': ['DeleteDC', 'CreateDIBSection', 'GetCurrentObject', 'GdiFlush', 'CreateDCW', 'DeleteObject', 'SelectObject', 'CreateCompatibleDC', 'GetObjectType', 'GetObjectW'], 'COMDLG32.dll': ['CommDlgExtendedError', 'GetSaveFileNameW'], 'SHELL32.dll': ['ShellExecuteW'], 'ole32.dll': ['CoUninitialize', 'CoInitializeEx', 'CoCreateInstance'], 'AVIFIL32.dll': ['AVIMakeCompressedStream', 'AVIFileRelease', 'AVIStreamWrite', 'AVIStreamSetFormat', 'AVIFileCreateStreamW', 'AVIFileInit', 'AVISaveOptions', 'AVIStreamRelease', 'AVIFileExit', 'AVIFileOpenW']}\n",
            "{'USER32.dll': ['LoadAcceleratorsA', 'LoadIconA', 'RegisterClassExA', 'GetMessageA', 'LoadStringA', 'TranslateMessage', 'DispatchMessageA', 'BeginPaint', 'EndPaint', 'TranslateAcceleratorA', 'LoadCursorA', 'ShowWindow', 'CreateWindowExA', 'DefWindowProcA', 'SendMessageA', 'DestroyWindow', 'PostQuitMessage', 'SetFocus', 'UpdateWindow'], 'KERNEL32.dll': ['HeapAlloc', 'GetStartupInfoA', 'GetModuleHandleA', 'ExitProcess', 'GetCommandLineA', 'GetProcessHeap', 'CreateDirectoryA', 'GetCommandLineW', 'lstrlenA', 'LoadLibraryA', 'WriteProcessMemory'], 'GDI32.dll': ['TextOutA'], 'SHELL32.dll': ['CommandLineToArgvW'], 'WTSAPI32.dll': ['WTSEnumerateProcessesA', 'WTSLogoffSession', 'WTSQuerySessionInformationA', 'WTSWaitSystemEvent']}\n",
            "\n",
            "exports\n",
            "[]\n",
            "[]\n",
            "[]\n",
            "['dev_SendImage', 'plg_GetInfo', 'plg_ShowDialog']\n",
            "[]\n",
            "\n",
            "datadirectories\n",
            "[{'name': 'EXPORT_TABLE', 'size': 0, 'virtual_address': 0}, {'name': 'IMPORT_TABLE', 'size': 276, 'virtual_address': 418288}, {'name': 'RESOURCE_TABLE', 'size': 496, 'virtual_address': 417792}, {'name': 'EXCEPTION_TABLE', 'size': 0, 'virtual_address': 0}, {'name': 'CERTIFICATE_TABLE', 'size': 0, 'virtual_address': 0}, {'name': 'BASE_RELOCATION_TABLE', 'size': 0, 'virtual_address': 0}, {'name': 'DEBUG', 'size': 0, 'virtual_address': 0}, {'name': 'ARCHITECTURE', 'size': 0, 'virtual_address': 0}, {'name': 'GLOBAL_PTR', 'size': 0, 'virtual_address': 0}, {'name': 'TLS_TABLE', 'size': 24, 'virtual_address': 416500}, {'name': 'LOAD_CONFIG_TABLE', 'size': 0, 'virtual_address': 0}, {'name': 'BOUND_IMPORT', 'size': 0, 'virtual_address': 0}, {'name': 'IAT', 'size': 0, 'virtual_address': 0}, {'name': 'DELAY_IMPORT_DESCRIPTOR', 'size': 0, 'virtual_address': 0}, {'name': 'CLR_RUNTIME_HEADER', 'size': 0, 'virtual_address': 0}]\n",
            "[{'name': 'EXPORT_TABLE', 'size': 0, 'virtual_address': 0}, {'name': 'IMPORT_TABLE', 'size': 9328, 'virtual_address': 380928}, {'name': 'RESOURCE_TABLE', 'size': 25088, 'virtual_address': 430080}, {'name': 'EXCEPTION_TABLE', 'size': 0, 'virtual_address': 0}, {'name': 'CERTIFICATE_TABLE', 'size': 0, 'virtual_address': 0}, {'name': 'BASE_RELOCATION_TABLE', 'size': 25720, 'virtual_address': 401408}, {'name': 'DEBUG', 'size': 0, 'virtual_address': 0}, {'name': 'ARCHITECTURE', 'size': 0, 'virtual_address': 0}, {'name': 'GLOBAL_PTR', 'size': 0, 'virtual_address': 0}, {'name': 'TLS_TABLE', 'size': 24, 'virtual_address': 397312}, {'name': 'LOAD_CONFIG_TABLE', 'size': 0, 'virtual_address': 0}, {'name': 'BOUND_IMPORT', 'size': 0, 'virtual_address': 0}, {'name': 'IAT', 'size': 0, 'virtual_address': 0}, {'name': 'DELAY_IMPORT_DESCRIPTOR', 'size': 0, 'virtual_address': 0}, {'name': 'CLR_RUNTIME_HEADER', 'size': 0, 'virtual_address': 0}]\n",
            "[{'name': 'EXPORT_TABLE', 'size': 0, 'virtual_address': 0}, {'name': 'IMPORT_TABLE', 'size': 140, 'virtual_address': 91260}, {'name': 'RESOURCE_TABLE', 'size': 0, 'virtual_address': 0}, {'name': 'EXCEPTION_TABLE', 'size': 0, 'virtual_address': 0}, {'name': 'CERTIFICATE_TABLE', 'size': 0, 'virtual_address': 0}, {'name': 'BASE_RELOCATION_TABLE', 'size': 0, 'virtual_address': 0}, {'name': 'DEBUG', 'size': 0, 'virtual_address': 0}, {'name': 'ARCHITECTURE', 'size': 0, 'virtual_address': 0}, {'name': 'GLOBAL_PTR', 'size': 0, 'virtual_address': 0}, {'name': 'TLS_TABLE', 'size': 0, 'virtual_address': 0}, {'name': 'LOAD_CONFIG_TABLE', 'size': 0, 'virtual_address': 0}, {'name': 'BOUND_IMPORT', 'size': 0, 'virtual_address': 0}, {'name': 'IAT', 'size': 404, 'virtual_address': 91804}, {'name': 'DELAY_IMPORT_DESCRIPTOR', 'size': 0, 'virtual_address': 0}, {'name': 'CLR_RUNTIME_HEADER', 'size': 0, 'virtual_address': 0}]\n",
            "[{'name': 'EXPORT_TABLE', 'size': 130, 'virtual_address': 141632}, {'name': 'IMPORT_TABLE', 'size': 160, 'virtual_address': 138364}, {'name': 'RESOURCE_TABLE', 'size': 7808, 'virtual_address': 159744}, {'name': 'EXCEPTION_TABLE', 'size': 0, 'virtual_address': 0}, {'name': 'CERTIFICATE_TABLE', 'size': 0, 'virtual_address': 0}, {'name': 'BASE_RELOCATION_TABLE', 'size': 5064, 'virtual_address': 167936}, {'name': 'DEBUG', 'size': 0, 'virtual_address': 0}, {'name': 'ARCHITECTURE', 'size': 0, 'virtual_address': 0}, {'name': 'GLOBAL_PTR', 'size': 0, 'virtual_address': 0}, {'name': 'TLS_TABLE', 'size': 0, 'virtual_address': 0}, {'name': 'LOAD_CONFIG_TABLE', 'size': 64, 'virtual_address': 137136}, {'name': 'BOUND_IMPORT', 'size': 0, 'virtual_address': 0}, {'name': 'IAT', 'size': 580, 'virtual_address': 114688}, {'name': 'DELAY_IMPORT_DESCRIPTOR', 'size': 0, 'virtual_address': 0}, {'name': 'CLR_RUNTIME_HEADER', 'size': 0, 'virtual_address': 0}]\n",
            "[{'name': 'EXPORT_TABLE', 'size': 0, 'virtual_address': 0}, {'name': 'IMPORT_TABLE', 'size': 120, 'virtual_address': 9580}, {'name': 'RESOURCE_TABLE', 'size': 28256, 'virtual_address': 24576}, {'name': 'EXCEPTION_TABLE', 'size': 0, 'virtual_address': 0}, {'name': 'CERTIFICATE_TABLE', 'size': 0, 'virtual_address': 0}, {'name': 'BASE_RELOCATION_TABLE', 'size': 0, 'virtual_address': 0}, {'name': 'DEBUG', 'size': 28, 'virtual_address': 12600}, {'name': 'ARCHITECTURE', 'size': 0, 'virtual_address': 0}, {'name': 'GLOBAL_PTR', 'size': 0, 'virtual_address': 0}, {'name': 'TLS_TABLE', 'size': 0, 'virtual_address': 0}, {'name': 'LOAD_CONFIG_TABLE', 'size': 0, 'virtual_address': 0}, {'name': 'BOUND_IMPORT', 'size': 0, 'virtual_address': 0}, {'name': 'IAT', 'size': 164, 'virtual_address': 8192}, {'name': 'DELAY_IMPORT_DESCRIPTOR', 'size': 0, 'virtual_address': 0}, {'name': 'CLR_RUNTIME_HEADER', 'size': 0, 'virtual_address': 0}]\n",
            "\n"
          ],
          "name": "stdout"
        }
      ]
    },
    {
      "cell_type": "markdown",
      "metadata": {
        "id": "xXI-oVQVmYHV",
        "colab_type": "text"
      },
      "source": [
        "## 特徵工程"
      ]
    },
    {
      "cell_type": "code",
      "metadata": {
        "id": "wixLso08eSJ1",
        "colab_type": "code",
        "outputId": "f3f70fd1-df89-4a7f-da31-f1d14cf2555f",
        "colab": {
          "base_uri": "https://localhost:8080/",
          "height": 68
        }
      },
      "source": [
        "'''appeared time'''\n",
        "\n",
        "df['appeared'].value_counts()"
      ],
      "execution_count": 0,
      "outputs": [
        {
          "output_type": "execute_result",
          "data": {
            "text/plain": [
              "2017-01    49941\n",
              "2017-02    14106\n",
              "Name: appeared, dtype: int64"
            ]
          },
          "metadata": {
            "tags": []
          },
          "execution_count": 13
        }
      ]
    },
    {
      "cell_type": "code",
      "metadata": {
        "id": "VXqO6jYF2j-O",
        "colab_type": "code",
        "colab": {}
      },
      "source": [
        "def preprocess(df):\n",
        "  '''general feature'''\n",
        "\n",
        "  has_resources = pd.Series(each['has_resources'] for each in df['general'])\n",
        "  imports_len = pd.Series(each['imports'] for each in df['general'])\n",
        "  has_relocations = pd.Series(each['has_relocations'] for each in df['general'])\n",
        "  has_signature = pd.Series(each['has_signature'] for each in df['general'])\n",
        "\n",
        "  '''section feature'''\n",
        "\n",
        "  section_len = pd.Series(len(each['sections']) for each in df['section'])\n",
        "  is_UPX = []\n",
        "  for each in df['section']:\n",
        "    if each['entry']=='UPX0':\n",
        "      is_UPX.append(1)\n",
        "    else: is_UPX.append(0)\n",
        "  is_UPX = pd.Series(is_UPX)\n",
        "\n",
        "  '''datadirectories'''\n",
        "\n",
        "  datadirectories =[]\n",
        "  for each in df['datadirectories']:\n",
        "    data = []\n",
        "    for d in each:\n",
        "      data.append(d['size'])\n",
        "    datadirectories.append(data)\n",
        "  datadirectories = pd.DataFrame(datadirectories)\n",
        "\n",
        "  columns = ['has_resources', 'imports_len', 'has_relocations', 'has_signature', 'section_len', 'is_UPX']+[each['name'] for each in df['datadirectories'][1]]\n",
        "  x = pd.concat([has_resources, imports_len, has_relocations, has_signature, section_len, is_UPX, datadirectories], axis=1)\n",
        "  x.columns = columns\n",
        "\n",
        "\n",
        "  '''standarization'''\n",
        "  x= x.fillna(0)\n",
        "  scaler = StandardScaler()\n",
        "  scaler.fit(x)\n",
        "  scaled_features = scaler.transform(x)\n",
        "  x = pd.DataFrame(scaled_features, index=x.index, columns=x.columns)\n",
        "  y = list(df['label'])\n",
        "  return x, y"
      ],
      "execution_count": 0,
      "outputs": []
    },
    {
      "cell_type": "markdown",
      "metadata": {
        "id": "lQihAOcc1u0Z",
        "colab_type": "text"
      },
      "source": [
        "## 模型選擇"
      ]
    },
    {
      "cell_type": "code",
      "metadata": {
        "id": "VtN7bwmtMT5k",
        "colab_type": "code",
        "colab": {}
      },
      "source": [
        "from sklearn.model_selection import train_test_split\n",
        "from sklearn.preprocessing import StandardScaler"
      ],
      "execution_count": 0,
      "outputs": []
    },
    {
      "cell_type": "code",
      "metadata": {
        "id": "bdUJlKh7Mj7J",
        "colab_type": "code",
        "colab": {}
      },
      "source": [
        "x_, y_ = preprocess(df)"
      ],
      "execution_count": 0,
      "outputs": []
    },
    {
      "cell_type": "code",
      "metadata": {
        "id": "uE3p4UuA7NjK",
        "colab_type": "code",
        "colab": {}
      },
      "source": [
        "x_train, x_test, y_train, y_test = train_test_split(x_, y_, test_size=0.3, random_state=2)"
      ],
      "execution_count": 0,
      "outputs": []
    },
    {
      "cell_type": "code",
      "metadata": {
        "id": "4xkOy_bP7ai3",
        "colab_type": "code",
        "outputId": "946dd8fc-78dc-4f87-8891-33074dc9dfd1",
        "colab": {
          "base_uri": "https://localhost:8080/",
          "height": 391
        }
      },
      "source": [
        "x_train.isnull().sum()"
      ],
      "execution_count": 0,
      "outputs": [
        {
          "output_type": "execute_result",
          "data": {
            "text/plain": [
              "has_resources              0\n",
              "imports_len                0\n",
              "has_relocations            0\n",
              "has_signature              0\n",
              "section_len                0\n",
              "is_UPX                     0\n",
              "EXPORT_TABLE               0\n",
              "IMPORT_TABLE               0\n",
              "RESOURCE_TABLE             0\n",
              "EXCEPTION_TABLE            0\n",
              "CERTIFICATE_TABLE          0\n",
              "BASE_RELOCATION_TABLE      0\n",
              "DEBUG                      0\n",
              "ARCHITECTURE               0\n",
              "GLOBAL_PTR                 0\n",
              "TLS_TABLE                  0\n",
              "LOAD_CONFIG_TABLE          0\n",
              "BOUND_IMPORT               0\n",
              "IAT                        0\n",
              "DELAY_IMPORT_DESCRIPTOR    0\n",
              "CLR_RUNTIME_HEADER         0\n",
              "dtype: int64"
            ]
          },
          "metadata": {
            "tags": []
          },
          "execution_count": 20
        }
      ]
    },
    {
      "cell_type": "code",
      "metadata": {
        "id": "uUAYnA-Q09MX",
        "colab_type": "code",
        "colab": {}
      },
      "source": [
        "import xgboost as xgb\n",
        "import lightgbm as lgb\n",
        "from sklearn.svm import SVC\n",
        "from sklearn.linear_model import LogisticRegression\n",
        "from sklearn.metrics import accuracy_score, roc_curve, auc, roc_auc_score\n",
        "import matplotlib.pyplot as plt\n",
        "import time"
      ],
      "execution_count": 0,
      "outputs": []
    },
    {
      "cell_type": "code",
      "metadata": {
        "id": "je5r-b5iejXe",
        "colab_type": "code",
        "outputId": "44d31c61-2983-4ccf-de47-1c5776a41505",
        "colab": {
          "base_uri": "https://localhost:8080/",
          "height": 51
        }
      },
      "source": [
        "'''logistic regression'''\n",
        "\n",
        "start=time.time()\n",
        "lgc = LogisticRegression(random_state=2)\n",
        "lgc.fit(x_train, y_train)\n",
        "running_time = time.time()-start\n",
        "\n",
        "y_lgc_pred = lgc.predict(x_test)\n",
        "print('accuracy: ', accuracy_score(y_test, y_lgc_pred))\n",
        "print('running time: ', running_time)"
      ],
      "execution_count": 0,
      "outputs": [
        {
          "output_type": "stream",
          "text": [
            "accuracy:  0.7564923237054385\n",
            "running time:  0.7871627807617188\n"
          ],
          "name": "stdout"
        }
      ]
    },
    {
      "cell_type": "code",
      "metadata": {
        "id": "JnYpS0P_Mc7N",
        "colab_type": "code",
        "outputId": "54028333-0b08-4eaf-d59e-9eccde1afe7c",
        "colab": {
          "base_uri": "https://localhost:8080/",
          "height": 51
        }
      },
      "source": [
        "'''svm classifier'''\n",
        "\n",
        "start=time.time()\n",
        "\n",
        "svc = SVC()\n",
        "svc.fit(x_train, y_train)\n",
        "\n",
        "running_time = time.time()-start\n",
        "\n",
        "y_svm_pred = svc.predict(x_test)\n",
        "print('accuracy: ', accuracy_score(y_test, y_svm_pred))\n",
        "print('running time: ', running_time)"
      ],
      "execution_count": 0,
      "outputs": [
        {
          "output_type": "stream",
          "text": [
            "accuracy:  0.8454332552693209\n",
            "running time:  84.41535067558289\n"
          ],
          "name": "stdout"
        }
      ]
    },
    {
      "cell_type": "code",
      "metadata": {
        "id": "yZqr9MfLMc-B",
        "colab_type": "code",
        "outputId": "2abfc1e5-91f4-4242-b6ae-b8fb51a55fed",
        "colab": {
          "base_uri": "https://localhost:8080/",
          "height": 51
        }
      },
      "source": [
        "'''xgboost classifier'''\n",
        "\n",
        "start=time.time()\n",
        "\n",
        "xgbc = xgb.XGBClassifier()\n",
        "xgbc.fit(x_train, y_train)\n",
        "\n",
        "running_time = time.time()-start\n",
        "\n",
        "y_xgbc_probs = xgbc.predict_proba(x_test)\n",
        "y_xgbc_pred = xgbc.predict(x_test)\n",
        "xgbc_scores = (y_xgbc_probs[:, 1])\n",
        "\n",
        "print('accuracy: ', accuracy_score(y_test, y_xgbc_pred))\n",
        "print('running time: ', running_time)"
      ],
      "execution_count": 0,
      "outputs": [
        {
          "output_type": "stream",
          "text": [
            "accuracy:  0.911215196461098\n",
            "running time:  3.1531565189361572\n"
          ],
          "name": "stdout"
        }
      ]
    },
    {
      "cell_type": "code",
      "metadata": {
        "id": "7sHRYUMPMc4w",
        "colab_type": "code",
        "outputId": "6d87b7dd-42d9-4d16-f5f4-91a9371e589b",
        "colab": {
          "base_uri": "https://localhost:8080/",
          "height": 51
        }
      },
      "source": [
        "'''lightgbm classifier'''\n",
        "\n",
        "start=time.time()\n",
        "\n",
        "lgbc = lgb.LGBMClassifier()\n",
        "lgbc.fit(x_train, y_train)\n",
        "\n",
        "running_time = time.time()-start\n",
        "\n",
        "y_lgbc_probs = lgbc.predict_proba(x_test)\n",
        "y_lgbc_pred = lgbc.predict(x_test)\n",
        "lgbc_scores = (y_lgbc_probs[:, 1])\n",
        "\n",
        "print('accuracy: ', accuracy_score(y_test, y_lgbc_pred))\n",
        "print('running time: ', running_time)"
      ],
      "execution_count": 0,
      "outputs": [
        {
          "output_type": "stream",
          "text": [
            "accuracy:  0.9481134530314859\n",
            "running time:  1.095876932144165\n"
          ],
          "name": "stdout"
        }
      ]
    },
    {
      "cell_type": "code",
      "metadata": {
        "id": "hq7M6CpHF1an",
        "colab_type": "code",
        "colab": {}
      },
      "source": [
        "def roc_auc(y_test, scores):\n",
        "  fpr, tpr, thresholds = roc_curve(y_test, scores)\n",
        "  #for item in zip(fpr, tpr, thresholds):\n",
        "      #print(item)\n",
        "  def plot_roc_curve(fpr, tpr, label=None):\n",
        "      plt.plot(fpr, tpr, linewidth=2, label=label)\n",
        "      plt.plot([0,1], [0,1], 'k--')\n",
        "      \n",
        "  plot_roc_curve(fpr, tpr)\n",
        "  plt.show()\n",
        "\n",
        "  print(\"ROC AUC: \", roc_auc_score(y_test, scores))"
      ],
      "execution_count": 0,
      "outputs": []
    },
    {
      "cell_type": "code",
      "metadata": {
        "id": "c-qG7QhGu5hY",
        "colab_type": "code",
        "outputId": "c6181e9a-4c34-43a1-c58a-fddbb0ab5078",
        "colab": {
          "base_uri": "https://localhost:8080/",
          "height": 282
        }
      },
      "source": [
        "roc_auc(y_test, lgbc_scores)"
      ],
      "execution_count": 0,
      "outputs": [
        {
          "output_type": "display_data",
          "data": {
            "image/png": "[encoded data removed]",
            "text/plain": [
              "<Figure size 432x288 with 1 Axes>"
            ]
          },
          "metadata": {
            "tags": [],
            "needs_background": "light"
          }
        },
        {
          "output_type": "stream",
          "text": [
            "ROC AUC:  0.9887882416418459\n"
          ],
          "name": "stdout"
        }
      ]
    },
    {
      "cell_type": "code",
      "metadata": {
        "id": "MDCOpIAZu_lp",
        "colab_type": "code",
        "colab": {}
      },
      "source": [
        ""
      ],
      "execution_count": 0,
      "outputs": []
    }
  ]
}