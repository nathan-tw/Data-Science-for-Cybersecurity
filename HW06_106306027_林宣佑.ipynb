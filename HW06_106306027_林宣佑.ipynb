{
  "nbformat": 4,
  "nbformat_minor": 0,
  "metadata": {
    "colab": {
      "name": "HW06_106306027_林宣佑.ipynb",
      "provenance": [],
      "collapsed_sections": [],
      "toc_visible": true,
      "include_colab_link": true
    },
    "kernelspec": {
      "name": "python3",
      "display_name": "Python 3"
    }
  },
  "cells": [
    {
      "cell_type": "markdown",
      "metadata": {
        "id": "view-in-github",
        "colab_type": "text"
      },
      "source": [
        "<a href=\"https://colab.research.google.com/github/nathan-tw/Data-Science-for-Cybersecurity/blob/master/HW06_106306027_%E6%9E%97%E5%AE%A3%E4%BD%91.ipynb\" target=\"_parent\"><img src=\"https://colab.research.google.com/assets/colab-badge.svg\" alt=\"Open In Colab\"/></a>"
      ]
    },
    {
      "cell_type": "markdown",
      "metadata": {
        "id": "2O7JHRJ1dxnr",
        "colab_type": "text"
      },
      "source": [
        "# KDD Cup 99\n",
        "\n",
        "http://kdd.ics.uci.edu/databases/kddcup99/kddcup99.html\n",
        "\n",
        "The competition task was to build a network intrusion detector, a predictive model capable of distinguishing between ''bad'' connections, called intrusions or attacks, and ''good'' normal connections.\n"
      ]
    },
    {
      "cell_type": "markdown",
      "metadata": {
        "id": "1rcwqZAxeqUY",
        "colab_type": "text"
      },
      "source": [
        "### Get training data\n",
        "\n",
        "Note: we only use 10% data.\n"
      ]
    },
    {
      "cell_type": "code",
      "metadata": {
        "id": "XaPzkbmwdpwi",
        "colab_type": "code",
        "outputId": "4c32fcea-5d6d-4de8-94ee-fcefaa73adf4",
        "colab": {
          "base_uri": "https://localhost:8080/",
          "height": 204
        }
      },
      "source": [
        "!wget http://kdd.ics.uci.edu/databases/kddcup99/kddcup.data_10_percent.gz"
      ],
      "execution_count": 0,
      "outputs": [
        {
          "output_type": "stream",
          "text": [
            "--2020-04-27 05:14:19--  http://kdd.ics.uci.edu/databases/kddcup99/kddcup.data_10_percent.gz\n",
            "Resolving kdd.ics.uci.edu (kdd.ics.uci.edu)... 128.195.1.86\n",
            "Connecting to kdd.ics.uci.edu (kdd.ics.uci.edu)|128.195.1.86|:80... connected.\n",
            "HTTP request sent, awaiting response... 200 OK\n",
            "Length: 2144903 (2.0M) [application/x-gzip]\n",
            "Saving to: ‘kddcup.data_10_percent.gz’\n",
            "\n",
            "\r          kddcup.da   0%[                    ]       0  --.-KB/s               \r         kddcup.dat   2%[                    ]  50.13K   149KB/s               \r        kddcup.data   9%[>                   ] 200.51K   336KB/s               \r       kddcup.data_  38%[======>             ] 805.73K   944KB/s               \rkddcup.data_10_perc 100%[===================>]   2.04M  2.07MB/s    in 1.0s    \n",
            "\n",
            "2020-04-27 05:14:21 (2.07 MB/s) - ‘kddcup.data_10_percent.gz’ saved [2144903/2144903]\n",
            "\n"
          ],
          "name": "stdout"
        }
      ]
    },
    {
      "cell_type": "code",
      "metadata": {
        "id": "kME5F7CReYUP",
        "colab_type": "code",
        "colab": {}
      },
      "source": [
        "!gzip -d kddcup.data_10_percent.gz"
      ],
      "execution_count": 0,
      "outputs": []
    },
    {
      "cell_type": "code",
      "metadata": {
        "id": "gjVtzGSjemY5",
        "colab_type": "code",
        "outputId": "6ffe810c-7b4f-4d6b-e534-436f06cad2d3",
        "colab": {
          "base_uri": "https://localhost:8080/",
          "height": 119
        }
      },
      "source": [
        "!ls -al"
      ],
      "execution_count": 0,
      "outputs": [
        {
          "output_type": "stream",
          "text": [
            "total 73152\n",
            "drwxr-xr-x 1 root root     4096 Apr 27 05:14 .\n",
            "drwxr-xr-x 1 root root     4096 Apr 27 05:12 ..\n",
            "drwxr-xr-x 1 root root     4096 Apr 23 16:11 .config\n",
            "-rw-r--r-- 1 root root 74889749 Jun 26  2007 kddcup.data_10_percent\n",
            "drwxr-xr-x 1 root root     4096 Apr  3 16:24 sample_data\n"
          ],
          "name": "stdout"
        }
      ]
    },
    {
      "cell_type": "markdown",
      "metadata": {
        "id": "cTlneY90evW-",
        "colab_type": "text"
      },
      "source": [
        "### Read data\n"
      ]
    },
    {
      "cell_type": "code",
      "metadata": {
        "id": "DTKzT1Z7eyWK",
        "colab_type": "code",
        "colab": {}
      },
      "source": [
        "import pandas as pd"
      ],
      "execution_count": 0,
      "outputs": []
    },
    {
      "cell_type": "code",
      "metadata": {
        "id": "N-DhwXybe5Vd",
        "colab_type": "code",
        "outputId": "e0de71e2-1dc8-4c67-f110-67910fecd55e",
        "colab": {
          "base_uri": "https://localhost:8080/",
          "height": 34
        }
      },
      "source": [
        "col_names = [\"duration\",\"protocol_type\",\"service\",\"flag\",\"src_bytes\",\n",
        "    \"dst_bytes\",\"land\",\"wrong_fragment\",\"urgent\",\"hot\",\"num_failed_logins\",\n",
        "    \"logged_in\",\"num_compromised\",\"root_shell\",\"su_attempted\",\"num_root\",\n",
        "    \"num_file_creations\",\"num_shells\",\"num_access_files\",\"num_outbound_cmds\",\n",
        "    \"is_host_login\",\"is_guest_login\",\"count\",\"srv_count\",\"serror_rate\",\n",
        "    \"srv_serror_rate\",\"rerror_rate\",\"srv_rerror_rate\",\"same_srv_rate\",\n",
        "    \"diff_srv_rate\",\"srv_diff_host_rate\",\"dst_host_count\",\"dst_host_srv_count\",\n",
        "    \"dst_host_same_srv_rate\",\"dst_host_diff_srv_rate\",\"dst_host_same_src_port_rate\",\n",
        "    \"dst_host_srv_diff_host_rate\",\"dst_host_serror_rate\",\"dst_host_srv_serror_rate\",\n",
        "    \"dst_host_rerror_rate\",\"dst_host_srv_rerror_rate\",\"label\"]\n",
        "  \n",
        "kdd_data_10percent = pd.read_csv(\"/content/kddcup.data_10_percent\", header=None, names = col_names)\n",
        "print(kdd_data_10percent.shape)"
      ],
      "execution_count": 0,
      "outputs": [
        {
          "output_type": "stream",
          "text": [
            "(494021, 42)\n"
          ],
          "name": "stdout"
        }
      ]
    },
    {
      "cell_type": "code",
      "metadata": {
        "id": "pNJg9kgLzsgb",
        "colab_type": "code",
        "outputId": "4c436e4d-19f9-4df7-e6ce-6d59a3ca8dfc",
        "colab": {
          "base_uri": "https://localhost:8080/",
          "height": 34
        }
      },
      "source": [
        "# hack !!!!!\n",
        "# use even less data again, because this script may run slow\n",
        "# here, you can only use a small portion of data\n",
        "# I set it to 0.05\n",
        "\n",
        "kdd_data_10percent = kdd_data_10percent.sample(frac=0.05)\n",
        "print(kdd_data_10percent.shape)"
      ],
      "execution_count": 0,
      "outputs": [
        {
          "output_type": "stream",
          "text": [
            "(24701, 42)\n"
          ],
          "name": "stdout"
        }
      ]
    },
    {
      "cell_type": "code",
      "metadata": {
        "id": "fbkyx7fnfNwv",
        "colab_type": "code",
        "outputId": "164421a8-aa3f-40ee-801c-09d8124be69d",
        "colab": {
          "base_uri": "https://localhost:8080/",
          "height": 224
        }
      },
      "source": [
        "kdd_data_10percent.head()"
      ],
      "execution_count": 0,
      "outputs": [
        {
          "output_type": "execute_result",
          "data": {
            "text/html": [
              "<div>\n",
              "<style scoped>\n",
              "    .dataframe tbody tr th:only-of-type {\n",
              "        vertical-align: middle;\n",
              "    }\n",
              "\n",
              "    .dataframe tbody tr th {\n",
              "        vertical-align: top;\n",
              "    }\n",
              "\n",
              "    .dataframe thead th {\n",
              "        text-align: right;\n",
              "    }\n",
              "</style>\n",
              "<table border=\"1\" class=\"dataframe\">\n",
              "  <thead>\n",
              "    <tr style=\"text-align: right;\">\n",
              "      <th></th>\n",
              "      <th>duration</th>\n",
              "      <th>protocol_type</th>\n",
              "      <th>service</th>\n",
              "      <th>flag</th>\n",
              "      <th>src_bytes</th>\n",
              "      <th>dst_bytes</th>\n",
              "      <th>land</th>\n",
              "      <th>wrong_fragment</th>\n",
              "      <th>urgent</th>\n",
              "      <th>hot</th>\n",
              "      <th>num_failed_logins</th>\n",
              "      <th>logged_in</th>\n",
              "      <th>num_compromised</th>\n",
              "      <th>root_shell</th>\n",
              "      <th>su_attempted</th>\n",
              "      <th>num_root</th>\n",
              "      <th>num_file_creations</th>\n",
              "      <th>num_shells</th>\n",
              "      <th>num_access_files</th>\n",
              "      <th>num_outbound_cmds</th>\n",
              "      <th>is_host_login</th>\n",
              "      <th>is_guest_login</th>\n",
              "      <th>count</th>\n",
              "      <th>srv_count</th>\n",
              "      <th>serror_rate</th>\n",
              "      <th>srv_serror_rate</th>\n",
              "      <th>rerror_rate</th>\n",
              "      <th>srv_rerror_rate</th>\n",
              "      <th>same_srv_rate</th>\n",
              "      <th>diff_srv_rate</th>\n",
              "      <th>srv_diff_host_rate</th>\n",
              "      <th>dst_host_count</th>\n",
              "      <th>dst_host_srv_count</th>\n",
              "      <th>dst_host_same_srv_rate</th>\n",
              "      <th>dst_host_diff_srv_rate</th>\n",
              "      <th>dst_host_same_src_port_rate</th>\n",
              "      <th>dst_host_srv_diff_host_rate</th>\n",
              "      <th>dst_host_serror_rate</th>\n",
              "      <th>dst_host_srv_serror_rate</th>\n",
              "      <th>dst_host_rerror_rate</th>\n",
              "      <th>dst_host_srv_rerror_rate</th>\n",
              "      <th>label</th>\n",
              "    </tr>\n",
              "  </thead>\n",
              "  <tbody>\n",
              "    <tr>\n",
              "      <th>227462</th>\n",
              "      <td>0</td>\n",
              "      <td>icmp</td>\n",
              "      <td>ecr_i</td>\n",
              "      <td>SF</td>\n",
              "      <td>1032</td>\n",
              "      <td>0</td>\n",
              "      <td>0</td>\n",
              "      <td>0</td>\n",
              "      <td>0</td>\n",
              "      <td>0</td>\n",
              "      <td>0</td>\n",
              "      <td>0</td>\n",
              "      <td>0</td>\n",
              "      <td>0</td>\n",
              "      <td>0</td>\n",
              "      <td>0</td>\n",
              "      <td>0</td>\n",
              "      <td>0</td>\n",
              "      <td>0</td>\n",
              "      <td>0</td>\n",
              "      <td>0</td>\n",
              "      <td>0</td>\n",
              "      <td>511</td>\n",
              "      <td>511</td>\n",
              "      <td>0.0</td>\n",
              "      <td>0.0</td>\n",
              "      <td>0.0</td>\n",
              "      <td>0.0</td>\n",
              "      <td>1.0</td>\n",
              "      <td>0.0</td>\n",
              "      <td>0.0</td>\n",
              "      <td>255</td>\n",
              "      <td>255</td>\n",
              "      <td>1.00</td>\n",
              "      <td>0.00</td>\n",
              "      <td>1.00</td>\n",
              "      <td>0.0</td>\n",
              "      <td>0.00</td>\n",
              "      <td>0.0</td>\n",
              "      <td>0.0</td>\n",
              "      <td>0.0</td>\n",
              "      <td>smurf.</td>\n",
              "    </tr>\n",
              "    <tr>\n",
              "      <th>334079</th>\n",
              "      <td>0</td>\n",
              "      <td>icmp</td>\n",
              "      <td>ecr_i</td>\n",
              "      <td>SF</td>\n",
              "      <td>1032</td>\n",
              "      <td>0</td>\n",
              "      <td>0</td>\n",
              "      <td>0</td>\n",
              "      <td>0</td>\n",
              "      <td>0</td>\n",
              "      <td>0</td>\n",
              "      <td>0</td>\n",
              "      <td>0</td>\n",
              "      <td>0</td>\n",
              "      <td>0</td>\n",
              "      <td>0</td>\n",
              "      <td>0</td>\n",
              "      <td>0</td>\n",
              "      <td>0</td>\n",
              "      <td>0</td>\n",
              "      <td>0</td>\n",
              "      <td>0</td>\n",
              "      <td>511</td>\n",
              "      <td>511</td>\n",
              "      <td>0.0</td>\n",
              "      <td>0.0</td>\n",
              "      <td>0.0</td>\n",
              "      <td>0.0</td>\n",
              "      <td>1.0</td>\n",
              "      <td>0.0</td>\n",
              "      <td>0.0</td>\n",
              "      <td>255</td>\n",
              "      <td>255</td>\n",
              "      <td>1.00</td>\n",
              "      <td>0.00</td>\n",
              "      <td>1.00</td>\n",
              "      <td>0.0</td>\n",
              "      <td>0.00</td>\n",
              "      <td>0.0</td>\n",
              "      <td>0.0</td>\n",
              "      <td>0.0</td>\n",
              "      <td>smurf.</td>\n",
              "    </tr>\n",
              "    <tr>\n",
              "      <th>274925</th>\n",
              "      <td>0</td>\n",
              "      <td>icmp</td>\n",
              "      <td>ecr_i</td>\n",
              "      <td>SF</td>\n",
              "      <td>1032</td>\n",
              "      <td>0</td>\n",
              "      <td>0</td>\n",
              "      <td>0</td>\n",
              "      <td>0</td>\n",
              "      <td>0</td>\n",
              "      <td>0</td>\n",
              "      <td>0</td>\n",
              "      <td>0</td>\n",
              "      <td>0</td>\n",
              "      <td>0</td>\n",
              "      <td>0</td>\n",
              "      <td>0</td>\n",
              "      <td>0</td>\n",
              "      <td>0</td>\n",
              "      <td>0</td>\n",
              "      <td>0</td>\n",
              "      <td>0</td>\n",
              "      <td>511</td>\n",
              "      <td>511</td>\n",
              "      <td>0.0</td>\n",
              "      <td>0.0</td>\n",
              "      <td>0.0</td>\n",
              "      <td>0.0</td>\n",
              "      <td>1.0</td>\n",
              "      <td>0.0</td>\n",
              "      <td>0.0</td>\n",
              "      <td>255</td>\n",
              "      <td>255</td>\n",
              "      <td>1.00</td>\n",
              "      <td>0.00</td>\n",
              "      <td>1.00</td>\n",
              "      <td>0.0</td>\n",
              "      <td>0.00</td>\n",
              "      <td>0.0</td>\n",
              "      <td>0.0</td>\n",
              "      <td>0.0</td>\n",
              "      <td>smurf.</td>\n",
              "    </tr>\n",
              "    <tr>\n",
              "      <th>346434</th>\n",
              "      <td>4</td>\n",
              "      <td>tcp</td>\n",
              "      <td>smtp</td>\n",
              "      <td>SF</td>\n",
              "      <td>1354</td>\n",
              "      <td>329</td>\n",
              "      <td>0</td>\n",
              "      <td>0</td>\n",
              "      <td>0</td>\n",
              "      <td>0</td>\n",
              "      <td>0</td>\n",
              "      <td>1</td>\n",
              "      <td>0</td>\n",
              "      <td>0</td>\n",
              "      <td>0</td>\n",
              "      <td>0</td>\n",
              "      <td>0</td>\n",
              "      <td>0</td>\n",
              "      <td>0</td>\n",
              "      <td>0</td>\n",
              "      <td>0</td>\n",
              "      <td>0</td>\n",
              "      <td>1</td>\n",
              "      <td>1</td>\n",
              "      <td>0.0</td>\n",
              "      <td>0.0</td>\n",
              "      <td>0.0</td>\n",
              "      <td>0.0</td>\n",
              "      <td>1.0</td>\n",
              "      <td>0.0</td>\n",
              "      <td>0.0</td>\n",
              "      <td>149</td>\n",
              "      <td>88</td>\n",
              "      <td>0.59</td>\n",
              "      <td>0.07</td>\n",
              "      <td>0.01</td>\n",
              "      <td>0.0</td>\n",
              "      <td>0.01</td>\n",
              "      <td>0.0</td>\n",
              "      <td>0.0</td>\n",
              "      <td>0.0</td>\n",
              "      <td>normal.</td>\n",
              "    </tr>\n",
              "    <tr>\n",
              "      <th>408854</th>\n",
              "      <td>0</td>\n",
              "      <td>icmp</td>\n",
              "      <td>ecr_i</td>\n",
              "      <td>SF</td>\n",
              "      <td>520</td>\n",
              "      <td>0</td>\n",
              "      <td>0</td>\n",
              "      <td>0</td>\n",
              "      <td>0</td>\n",
              "      <td>0</td>\n",
              "      <td>0</td>\n",
              "      <td>0</td>\n",
              "      <td>0</td>\n",
              "      <td>0</td>\n",
              "      <td>0</td>\n",
              "      <td>0</td>\n",
              "      <td>0</td>\n",
              "      <td>0</td>\n",
              "      <td>0</td>\n",
              "      <td>0</td>\n",
              "      <td>0</td>\n",
              "      <td>0</td>\n",
              "      <td>451</td>\n",
              "      <td>451</td>\n",
              "      <td>0.0</td>\n",
              "      <td>0.0</td>\n",
              "      <td>0.0</td>\n",
              "      <td>0.0</td>\n",
              "      <td>1.0</td>\n",
              "      <td>0.0</td>\n",
              "      <td>0.0</td>\n",
              "      <td>255</td>\n",
              "      <td>255</td>\n",
              "      <td>1.00</td>\n",
              "      <td>0.00</td>\n",
              "      <td>1.00</td>\n",
              "      <td>0.0</td>\n",
              "      <td>0.00</td>\n",
              "      <td>0.0</td>\n",
              "      <td>0.0</td>\n",
              "      <td>0.0</td>\n",
              "      <td>smurf.</td>\n",
              "    </tr>\n",
              "  </tbody>\n",
              "</table>\n",
              "</div>"
            ],
            "text/plain": [
              "        duration protocol_type  ... dst_host_srv_rerror_rate    label\n",
              "227462         0          icmp  ...                      0.0   smurf.\n",
              "334079         0          icmp  ...                      0.0   smurf.\n",
              "274925         0          icmp  ...                      0.0   smurf.\n",
              "346434         4           tcp  ...                      0.0  normal.\n",
              "408854         0          icmp  ...                      0.0   smurf.\n",
              "\n",
              "[5 rows x 42 columns]"
            ]
          },
          "metadata": {
            "tags": []
          },
          "execution_count": 105
        }
      ]
    },
    {
      "cell_type": "code",
      "metadata": {
        "id": "ZkA604SnfVgc",
        "colab_type": "code",
        "outputId": "76ea9df0-dfb7-4266-9c31-05cee40fb31d",
        "colab": {
          "base_uri": "https://localhost:8080/",
          "height": 272
        }
      },
      "source": [
        "kdd_data_10percent['label'].value_counts()\n",
        "\n",
        "# Note that 'normal' is normal traffic;\n",
        "# the rests are all abnormal traffic."
      ],
      "execution_count": 0,
      "outputs": [
        {
          "output_type": "execute_result",
          "data": {
            "text/plain": [
              "smurf.              13977\n",
              "neptune.             5341\n",
              "normal.              4940\n",
              "back.                 112\n",
              "satan.                 71\n",
              "ipsweep.               67\n",
              "warezclient.           60\n",
              "portsweep.             53\n",
              "teardrop.              50\n",
              "pod.                   14\n",
              "nmap.                  10\n",
              "buffer_overflow.        3\n",
              "guess_passwd.           2\n",
              "warezmaster.            1\n",
              "Name: label, dtype: int64"
            ]
          },
          "metadata": {
            "tags": []
          },
          "execution_count": 106
        }
      ]
    },
    {
      "cell_type": "code",
      "metadata": {
        "id": "Un2AZWaxgdwY",
        "colab_type": "code",
        "outputId": "30c5d83b-ea6d-438d-cc7e-59e78562a04a",
        "colab": {
          "base_uri": "https://localhost:8080/",
          "height": 748
        }
      },
      "source": [
        "kdd_data_10percent.dtypes"
      ],
      "execution_count": 0,
      "outputs": [
        {
          "output_type": "execute_result",
          "data": {
            "text/plain": [
              "duration                         int64\n",
              "protocol_type                   object\n",
              "service                         object\n",
              "flag                            object\n",
              "src_bytes                        int64\n",
              "dst_bytes                        int64\n",
              "land                             int64\n",
              "wrong_fragment                   int64\n",
              "urgent                           int64\n",
              "hot                              int64\n",
              "num_failed_logins                int64\n",
              "logged_in                        int64\n",
              "num_compromised                  int64\n",
              "root_shell                       int64\n",
              "su_attempted                     int64\n",
              "num_root                         int64\n",
              "num_file_creations               int64\n",
              "num_shells                       int64\n",
              "num_access_files                 int64\n",
              "num_outbound_cmds                int64\n",
              "is_host_login                    int64\n",
              "is_guest_login                   int64\n",
              "count                            int64\n",
              "srv_count                        int64\n",
              "serror_rate                    float64\n",
              "srv_serror_rate                float64\n",
              "rerror_rate                    float64\n",
              "srv_rerror_rate                float64\n",
              "same_srv_rate                  float64\n",
              "diff_srv_rate                  float64\n",
              "srv_diff_host_rate             float64\n",
              "dst_host_count                   int64\n",
              "dst_host_srv_count               int64\n",
              "dst_host_same_srv_rate         float64\n",
              "dst_host_diff_srv_rate         float64\n",
              "dst_host_same_src_port_rate    float64\n",
              "dst_host_srv_diff_host_rate    float64\n",
              "dst_host_serror_rate           float64\n",
              "dst_host_srv_serror_rate       float64\n",
              "dst_host_rerror_rate           float64\n",
              "dst_host_srv_rerror_rate       float64\n",
              "label                           object\n",
              "dtype: object"
            ]
          },
          "metadata": {
            "tags": []
          },
          "execution_count": 107
        }
      ]
    },
    {
      "cell_type": "markdown",
      "metadata": {
        "id": "WlbI0yjxgoy2",
        "colab_type": "text"
      },
      "source": [
        "Question #1:\n",
        "\n",
        "You need to deal with categorical columns, such as protocol_type, service, and flags.\n",
        "\n",
        "However, you can simply ignore them now, and try deal with them later to improve the accuracy."
      ]
    },
    {
      "cell_type": "markdown",
      "metadata": {
        "id": "lX6-lVkjiA4J",
        "colab_type": "text"
      },
      "source": [
        "### feature selection\n",
        "\n",
        "Some features are not useful. How do you know?\n",
        "\n",
        "Assumem all of them are useful, and you can come back to check them later.\n",
        "\n",
        "Note: features do not contain 'label'."
      ]
    },
    {
      "cell_type": "code",
      "metadata": {
        "id": "GvFIY4l2iBCc",
        "colab_type": "code",
        "colab": {}
      },
      "source": [
        "all_features = [\n",
        "    \"duration\",\"src_bytes\",\n",
        "    \"dst_bytes\",\"land\",\"wrong_fragment\",\"urgent\",\"hot\",\"num_failed_logins\",\n",
        "    \"logged_in\",\"num_compromised\",\"root_shell\",\"su_attempted\",\"num_root\",\n",
        "    \"num_file_creations\",\"num_shells\",\"num_access_files\",\"num_outbound_cmds\",\n",
        "    \"is_host_login\",\"is_guest_login\",\"count\",\"srv_count\",\"serror_rate\",\n",
        "    \"srv_serror_rate\",\"rerror_rate\",\"srv_rerror_rate\",\"same_srv_rate\",\n",
        "    \"diff_srv_rate\",\"srv_diff_host_rate\",\"dst_host_count\",\"dst_host_srv_count\",\n",
        "    \"dst_host_same_srv_rate\",\"dst_host_diff_srv_rate\",\"dst_host_same_src_port_rate\",\n",
        "    \"dst_host_srv_diff_host_rate\",\"dst_host_serror_rate\",\"dst_host_srv_serror_rate\",\n",
        "    \"dst_host_rerror_rate\"\n",
        "]"
      ],
      "execution_count": 0,
      "outputs": []
    },
    {
      "cell_type": "code",
      "metadata": {
        "id": "Roonj7oYBMjp",
        "colab_type": "code",
        "outputId": "30142644-65bf-4ddd-fbf2-4a45fce2a6f5",
        "colab": {
          "base_uri": "https://localhost:8080/",
          "height": 34
        }
      },
      "source": [
        "# 加入類別變數\n",
        "features = kdd_data_10percent[all_features]\n",
        "len(features.columns)"
      ],
      "execution_count": 0,
      "outputs": [
        {
          "output_type": "execute_result",
          "data": {
            "text/plain": [
              "37"
            ]
          },
          "metadata": {
            "tags": []
          },
          "execution_count": 142
        }
      ]
    },
    {
      "cell_type": "code",
      "metadata": {
        "id": "joD3OfU7HCPA",
        "colab_type": "code",
        "outputId": "3c356516-5104-49a0-9b7d-99e0715bd763",
        "colab": {
          "base_uri": "https://localhost:8080/",
          "height": 68
        }
      },
      "source": [
        "labels = kdd_data_10percent['label'].copy()\n",
        "labels[labels!='normal.'] = 'attack.'\n",
        "labels.value_counts()"
      ],
      "execution_count": 0,
      "outputs": [
        {
          "output_type": "execute_result",
          "data": {
            "text/plain": [
              "attack.    19761\n",
              "normal.     4940\n",
              "Name: label, dtype: int64"
            ]
          },
          "metadata": {
            "tags": []
          },
          "execution_count": 143
        }
      ]
    },
    {
      "cell_type": "code",
      "metadata": {
        "id": "bhefM04tQZtI",
        "colab_type": "code",
        "colab": {}
      },
      "source": [
        "features = features.astype(float)"
      ],
      "execution_count": 0,
      "outputs": []
    },
    {
      "cell_type": "code",
      "metadata": {
        "id": "uvEIbtEKGWSy",
        "colab_type": "code",
        "outputId": "21dd514f-3760-4232-9c7c-8338e4214c2d",
        "colab": {
          "base_uri": "https://localhost:8080/",
          "height": 34
        }
      },
      "source": [
        "[column for column in features.columns if features.describe()[column]['min']==features.describe()[column]['max'] ]"
      ],
      "execution_count": 0,
      "outputs": [
        {
          "output_type": "execute_result",
          "data": {
            "text/plain": [
              "['land', 'urgent', 'num_outbound_cmds', 'is_host_login']"
            ]
          },
          "metadata": {
            "tags": []
          },
          "execution_count": 113
        }
      ]
    },
    {
      "cell_type": "code",
      "metadata": {
        "id": "Q4h_qwtPJhqE",
        "colab_type": "code",
        "colab": {}
      },
      "source": [
        "features = features.drop(columns=['land', 'urgent', 'num_outbound_cmds', 'is_host_login'])"
      ],
      "execution_count": 0,
      "outputs": []
    },
    {
      "cell_type": "markdown",
      "metadata": {
        "id": "_R1ho69_gNGD",
        "colab_type": "text"
      },
      "source": [
        "### Target\n",
        "\n"
      ]
    },
    {
      "cell_type": "markdown",
      "metadata": {
        "id": "ezCjttckiStS",
        "colab_type": "text"
      },
      "source": [
        "Question #2:\n",
        "\n",
        "attack: normal = 4:1\n",
        "\n",
        "A little bit unbalance. But it is not a serious problem. \n",
        "\n",
        "Do you want to apply oversampling or downsampling on the data?\n",
        "\n",
        "If you want to, come back later to apply one of them on the data."
      ]
    },
    {
      "cell_type": "code",
      "metadata": {
        "id": "AP5hqaGcEZt-",
        "colab_type": "code",
        "outputId": "6086444b-053a-45c8-e2b1-f512a495023d",
        "colab": {
          "base_uri": "https://localhost:8080/",
          "height": 71
        }
      },
      "source": [
        "from imblearn.over_sampling import SMOTE\n",
        "X_resampled, y_resampled = SMOTE().fit_resample(features, labels)"
      ],
      "execution_count": 0,
      "outputs": [
        {
          "output_type": "stream",
          "text": [
            "/usr/local/lib/python3.6/dist-packages/sklearn/utils/deprecation.py:87: FutureWarning: Function safe_indexing is deprecated; safe_indexing is deprecated in version 0.22 and will be removed in version 0.24.\n",
            "  warnings.warn(msg, category=FutureWarning)\n"
          ],
          "name": "stderr"
        }
      ]
    },
    {
      "cell_type": "code",
      "metadata": {
        "id": "0GYVkTIEEZoQ",
        "colab_type": "code",
        "colab": {}
      },
      "source": [
        "X_resampled_df = pd.DataFrame(X_resampled, columns=features.columns)"
      ],
      "execution_count": 0,
      "outputs": []
    },
    {
      "cell_type": "code",
      "metadata": {
        "id": "RM4ElxeKMVGN",
        "colab_type": "code",
        "colab": {}
      },
      "source": [
        "labels = pd.Series(y_resampled)"
      ],
      "execution_count": 0,
      "outputs": []
    },
    {
      "cell_type": "code",
      "metadata": {
        "id": "d_o_sF2LEZf5",
        "colab_type": "code",
        "outputId": "1e7c63cc-cbfd-457d-c4ba-4d355e39a2bf",
        "colab": {
          "base_uri": "https://localhost:8080/",
          "height": 224
        }
      },
      "source": [
        "X_resampled_df.head()"
      ],
      "execution_count": 0,
      "outputs": [
        {
          "output_type": "execute_result",
          "data": {
            "text/html": [
              "<div>\n",
              "<style scoped>\n",
              "    .dataframe tbody tr th:only-of-type {\n",
              "        vertical-align: middle;\n",
              "    }\n",
              "\n",
              "    .dataframe tbody tr th {\n",
              "        vertical-align: top;\n",
              "    }\n",
              "\n",
              "    .dataframe thead th {\n",
              "        text-align: right;\n",
              "    }\n",
              "</style>\n",
              "<table border=\"1\" class=\"dataframe\">\n",
              "  <thead>\n",
              "    <tr style=\"text-align: right;\">\n",
              "      <th></th>\n",
              "      <th>duration</th>\n",
              "      <th>src_bytes</th>\n",
              "      <th>dst_bytes</th>\n",
              "      <th>wrong_fragment</th>\n",
              "      <th>hot</th>\n",
              "      <th>num_failed_logins</th>\n",
              "      <th>logged_in</th>\n",
              "      <th>num_compromised</th>\n",
              "      <th>root_shell</th>\n",
              "      <th>su_attempted</th>\n",
              "      <th>num_root</th>\n",
              "      <th>num_file_creations</th>\n",
              "      <th>num_shells</th>\n",
              "      <th>num_access_files</th>\n",
              "      <th>is_guest_login</th>\n",
              "      <th>count</th>\n",
              "      <th>srv_count</th>\n",
              "      <th>serror_rate</th>\n",
              "      <th>srv_serror_rate</th>\n",
              "      <th>rerror_rate</th>\n",
              "      <th>srv_rerror_rate</th>\n",
              "      <th>same_srv_rate</th>\n",
              "      <th>diff_srv_rate</th>\n",
              "      <th>srv_diff_host_rate</th>\n",
              "      <th>dst_host_count</th>\n",
              "      <th>dst_host_srv_count</th>\n",
              "      <th>dst_host_same_srv_rate</th>\n",
              "      <th>dst_host_diff_srv_rate</th>\n",
              "      <th>dst_host_same_src_port_rate</th>\n",
              "      <th>dst_host_srv_diff_host_rate</th>\n",
              "      <th>dst_host_serror_rate</th>\n",
              "      <th>dst_host_srv_serror_rate</th>\n",
              "      <th>dst_host_rerror_rate</th>\n",
              "    </tr>\n",
              "  </thead>\n",
              "  <tbody>\n",
              "    <tr>\n",
              "      <th>0</th>\n",
              "      <td>0.0</td>\n",
              "      <td>1032.0</td>\n",
              "      <td>0.0</td>\n",
              "      <td>0.0</td>\n",
              "      <td>0.0</td>\n",
              "      <td>0.0</td>\n",
              "      <td>0.0</td>\n",
              "      <td>0.0</td>\n",
              "      <td>0.0</td>\n",
              "      <td>0.0</td>\n",
              "      <td>0.0</td>\n",
              "      <td>0.0</td>\n",
              "      <td>0.0</td>\n",
              "      <td>0.0</td>\n",
              "      <td>0.0</td>\n",
              "      <td>511.0</td>\n",
              "      <td>511.0</td>\n",
              "      <td>0.0</td>\n",
              "      <td>0.0</td>\n",
              "      <td>0.0</td>\n",
              "      <td>0.0</td>\n",
              "      <td>1.0</td>\n",
              "      <td>0.0</td>\n",
              "      <td>0.0</td>\n",
              "      <td>255.0</td>\n",
              "      <td>255.0</td>\n",
              "      <td>1.00</td>\n",
              "      <td>0.00</td>\n",
              "      <td>1.00</td>\n",
              "      <td>0.0</td>\n",
              "      <td>0.00</td>\n",
              "      <td>0.0</td>\n",
              "      <td>0.0</td>\n",
              "    </tr>\n",
              "    <tr>\n",
              "      <th>1</th>\n",
              "      <td>0.0</td>\n",
              "      <td>1032.0</td>\n",
              "      <td>0.0</td>\n",
              "      <td>0.0</td>\n",
              "      <td>0.0</td>\n",
              "      <td>0.0</td>\n",
              "      <td>0.0</td>\n",
              "      <td>0.0</td>\n",
              "      <td>0.0</td>\n",
              "      <td>0.0</td>\n",
              "      <td>0.0</td>\n",
              "      <td>0.0</td>\n",
              "      <td>0.0</td>\n",
              "      <td>0.0</td>\n",
              "      <td>0.0</td>\n",
              "      <td>511.0</td>\n",
              "      <td>511.0</td>\n",
              "      <td>0.0</td>\n",
              "      <td>0.0</td>\n",
              "      <td>0.0</td>\n",
              "      <td>0.0</td>\n",
              "      <td>1.0</td>\n",
              "      <td>0.0</td>\n",
              "      <td>0.0</td>\n",
              "      <td>255.0</td>\n",
              "      <td>255.0</td>\n",
              "      <td>1.00</td>\n",
              "      <td>0.00</td>\n",
              "      <td>1.00</td>\n",
              "      <td>0.0</td>\n",
              "      <td>0.00</td>\n",
              "      <td>0.0</td>\n",
              "      <td>0.0</td>\n",
              "    </tr>\n",
              "    <tr>\n",
              "      <th>2</th>\n",
              "      <td>0.0</td>\n",
              "      <td>1032.0</td>\n",
              "      <td>0.0</td>\n",
              "      <td>0.0</td>\n",
              "      <td>0.0</td>\n",
              "      <td>0.0</td>\n",
              "      <td>0.0</td>\n",
              "      <td>0.0</td>\n",
              "      <td>0.0</td>\n",
              "      <td>0.0</td>\n",
              "      <td>0.0</td>\n",
              "      <td>0.0</td>\n",
              "      <td>0.0</td>\n",
              "      <td>0.0</td>\n",
              "      <td>0.0</td>\n",
              "      <td>511.0</td>\n",
              "      <td>511.0</td>\n",
              "      <td>0.0</td>\n",
              "      <td>0.0</td>\n",
              "      <td>0.0</td>\n",
              "      <td>0.0</td>\n",
              "      <td>1.0</td>\n",
              "      <td>0.0</td>\n",
              "      <td>0.0</td>\n",
              "      <td>255.0</td>\n",
              "      <td>255.0</td>\n",
              "      <td>1.00</td>\n",
              "      <td>0.00</td>\n",
              "      <td>1.00</td>\n",
              "      <td>0.0</td>\n",
              "      <td>0.00</td>\n",
              "      <td>0.0</td>\n",
              "      <td>0.0</td>\n",
              "    </tr>\n",
              "    <tr>\n",
              "      <th>3</th>\n",
              "      <td>4.0</td>\n",
              "      <td>1354.0</td>\n",
              "      <td>329.0</td>\n",
              "      <td>0.0</td>\n",
              "      <td>0.0</td>\n",
              "      <td>0.0</td>\n",
              "      <td>1.0</td>\n",
              "      <td>0.0</td>\n",
              "      <td>0.0</td>\n",
              "      <td>0.0</td>\n",
              "      <td>0.0</td>\n",
              "      <td>0.0</td>\n",
              "      <td>0.0</td>\n",
              "      <td>0.0</td>\n",
              "      <td>0.0</td>\n",
              "      <td>1.0</td>\n",
              "      <td>1.0</td>\n",
              "      <td>0.0</td>\n",
              "      <td>0.0</td>\n",
              "      <td>0.0</td>\n",
              "      <td>0.0</td>\n",
              "      <td>1.0</td>\n",
              "      <td>0.0</td>\n",
              "      <td>0.0</td>\n",
              "      <td>149.0</td>\n",
              "      <td>88.0</td>\n",
              "      <td>0.59</td>\n",
              "      <td>0.07</td>\n",
              "      <td>0.01</td>\n",
              "      <td>0.0</td>\n",
              "      <td>0.01</td>\n",
              "      <td>0.0</td>\n",
              "      <td>0.0</td>\n",
              "    </tr>\n",
              "    <tr>\n",
              "      <th>4</th>\n",
              "      <td>0.0</td>\n",
              "      <td>520.0</td>\n",
              "      <td>0.0</td>\n",
              "      <td>0.0</td>\n",
              "      <td>0.0</td>\n",
              "      <td>0.0</td>\n",
              "      <td>0.0</td>\n",
              "      <td>0.0</td>\n",
              "      <td>0.0</td>\n",
              "      <td>0.0</td>\n",
              "      <td>0.0</td>\n",
              "      <td>0.0</td>\n",
              "      <td>0.0</td>\n",
              "      <td>0.0</td>\n",
              "      <td>0.0</td>\n",
              "      <td>451.0</td>\n",
              "      <td>451.0</td>\n",
              "      <td>0.0</td>\n",
              "      <td>0.0</td>\n",
              "      <td>0.0</td>\n",
              "      <td>0.0</td>\n",
              "      <td>1.0</td>\n",
              "      <td>0.0</td>\n",
              "      <td>0.0</td>\n",
              "      <td>255.0</td>\n",
              "      <td>255.0</td>\n",
              "      <td>1.00</td>\n",
              "      <td>0.00</td>\n",
              "      <td>1.00</td>\n",
              "      <td>0.0</td>\n",
              "      <td>0.00</td>\n",
              "      <td>0.0</td>\n",
              "      <td>0.0</td>\n",
              "    </tr>\n",
              "  </tbody>\n",
              "</table>\n",
              "</div>"
            ],
            "text/plain": [
              "   duration  src_bytes  ...  dst_host_srv_serror_rate  dst_host_rerror_rate\n",
              "0       0.0     1032.0  ...                       0.0                   0.0\n",
              "1       0.0     1032.0  ...                       0.0                   0.0\n",
              "2       0.0     1032.0  ...                       0.0                   0.0\n",
              "3       4.0     1354.0  ...                       0.0                   0.0\n",
              "4       0.0      520.0  ...                       0.0                   0.0\n",
              "\n",
              "[5 rows x 33 columns]"
            ]
          },
          "metadata": {
            "tags": []
          },
          "execution_count": 149
        }
      ]
    },
    {
      "cell_type": "markdown",
      "metadata": {
        "id": "oguPCK8QhNuR",
        "colab_type": "text"
      },
      "source": [
        "### Standardization or Normalization\n",
        "\n",
        "Don't forget to shift the data. I provide 4 implementations. Simply choose one."
      ]
    },
    {
      "cell_type": "code",
      "metadata": {
        "id": "0_g_US33hOJ4",
        "colab_type": "code",
        "colab": {}
      },
      "source": [
        "from sklearn.preprocessing import MinMaxScaler\n",
        "features = pd.DataFrame(MinMaxScaler().fit_transform(X_resampled_df), columns = X_resampled_df.columns, index = X_resampled_df.index)"
      ],
      "execution_count": 0,
      "outputs": []
    },
    {
      "cell_type": "code",
      "metadata": {
        "id": "VStTLAoqktKd",
        "colab_type": "code",
        "outputId": "c2f66e54-60b4-4c96-d5df-d119863f5408",
        "colab": {
          "base_uri": "https://localhost:8080/",
          "height": 317
        }
      },
      "source": [
        "features.describe()"
      ],
      "execution_count": 0,
      "outputs": [
        {
          "output_type": "execute_result",
          "data": {
            "text/html": [
              "<div>\n",
              "<style scoped>\n",
              "    .dataframe tbody tr th:only-of-type {\n",
              "        vertical-align: middle;\n",
              "    }\n",
              "\n",
              "    .dataframe tbody tr th {\n",
              "        vertical-align: top;\n",
              "    }\n",
              "\n",
              "    .dataframe thead th {\n",
              "        text-align: right;\n",
              "    }\n",
              "</style>\n",
              "<table border=\"1\" class=\"dataframe\">\n",
              "  <thead>\n",
              "    <tr style=\"text-align: right;\">\n",
              "      <th></th>\n",
              "      <th>duration</th>\n",
              "      <th>src_bytes</th>\n",
              "      <th>dst_bytes</th>\n",
              "      <th>wrong_fragment</th>\n",
              "      <th>hot</th>\n",
              "      <th>num_failed_logins</th>\n",
              "      <th>logged_in</th>\n",
              "      <th>num_compromised</th>\n",
              "      <th>root_shell</th>\n",
              "      <th>su_attempted</th>\n",
              "      <th>num_root</th>\n",
              "      <th>num_file_creations</th>\n",
              "      <th>num_shells</th>\n",
              "      <th>num_access_files</th>\n",
              "      <th>is_guest_login</th>\n",
              "      <th>count</th>\n",
              "      <th>srv_count</th>\n",
              "      <th>serror_rate</th>\n",
              "      <th>srv_serror_rate</th>\n",
              "      <th>rerror_rate</th>\n",
              "      <th>srv_rerror_rate</th>\n",
              "      <th>same_srv_rate</th>\n",
              "      <th>diff_srv_rate</th>\n",
              "      <th>srv_diff_host_rate</th>\n",
              "      <th>dst_host_count</th>\n",
              "      <th>dst_host_srv_count</th>\n",
              "      <th>dst_host_same_srv_rate</th>\n",
              "      <th>dst_host_diff_srv_rate</th>\n",
              "      <th>dst_host_same_src_port_rate</th>\n",
              "      <th>dst_host_srv_diff_host_rate</th>\n",
              "      <th>dst_host_serror_rate</th>\n",
              "      <th>dst_host_srv_serror_rate</th>\n",
              "      <th>dst_host_rerror_rate</th>\n",
              "    </tr>\n",
              "  </thead>\n",
              "  <tbody>\n",
              "    <tr>\n",
              "      <th>count</th>\n",
              "      <td>39522.000000</td>\n",
              "      <td>39522.000000</td>\n",
              "      <td>39522.000000</td>\n",
              "      <td>39522.000000</td>\n",
              "      <td>39522.000000</td>\n",
              "      <td>39522.000000</td>\n",
              "      <td>39522.000000</td>\n",
              "      <td>39522.000000</td>\n",
              "      <td>39522.000000</td>\n",
              "      <td>39522.000000</td>\n",
              "      <td>39522.000000</td>\n",
              "      <td>39522.000000</td>\n",
              "      <td>39522.000000</td>\n",
              "      <td>39522.000000</td>\n",
              "      <td>39522.000000</td>\n",
              "      <td>39522.000000</td>\n",
              "      <td>39522.000000</td>\n",
              "      <td>39522.000000</td>\n",
              "      <td>39522.000000</td>\n",
              "      <td>39522.000000</td>\n",
              "      <td>39522.000000</td>\n",
              "      <td>39522.000000</td>\n",
              "      <td>39522.000000</td>\n",
              "      <td>39522.000000</td>\n",
              "      <td>39522.000000</td>\n",
              "      <td>39522.000000</td>\n",
              "      <td>39522.000000</td>\n",
              "      <td>39522.000000</td>\n",
              "      <td>39522.000000</td>\n",
              "      <td>39522.000000</td>\n",
              "      <td>39522.000000</td>\n",
              "      <td>39522.000000</td>\n",
              "      <td>39522.000000</td>\n",
              "    </tr>\n",
              "    <tr>\n",
              "      <th>mean</th>\n",
              "      <td>0.003342</td>\n",
              "      <td>0.000247</td>\n",
              "      <td>0.000312</td>\n",
              "      <td>0.001383</td>\n",
              "      <td>0.001598</td>\n",
              "      <td>0.000051</td>\n",
              "      <td>0.368487</td>\n",
              "      <td>0.000113</td>\n",
              "      <td>0.000239</td>\n",
              "      <td>0.000085</td>\n",
              "      <td>0.000179</td>\n",
              "      <td>0.000234</td>\n",
              "      <td>0.000230</td>\n",
              "      <td>0.000769</td>\n",
              "      <td>0.002611</td>\n",
              "      <td>0.408651</td>\n",
              "      <td>0.362834</td>\n",
              "      <td>0.110052</td>\n",
              "      <td>0.110064</td>\n",
              "      <td>0.057536</td>\n",
              "      <td>0.057787</td>\n",
              "      <td>0.864524</td>\n",
              "      <td>0.020729</td>\n",
              "      <td>0.070629</td>\n",
              "      <td>0.780084</td>\n",
              "      <td>0.758734</td>\n",
              "      <td>0.788438</td>\n",
              "      <td>0.040606</td>\n",
              "      <td>0.426641</td>\n",
              "      <td>0.013529</td>\n",
              "      <td>0.110052</td>\n",
              "      <td>0.109738</td>\n",
              "      <td>0.058024</td>\n",
              "    </tr>\n",
              "    <tr>\n",
              "      <th>std</th>\n",
              "      <td>0.029029</td>\n",
              "      <td>0.009174</td>\n",
              "      <td>0.005569</td>\n",
              "      <td>0.036092</td>\n",
              "      <td>0.031127</td>\n",
              "      <td>0.007114</td>\n",
              "      <td>0.480930</td>\n",
              "      <td>0.007999</td>\n",
              "      <td>0.013094</td>\n",
              "      <td>0.007981</td>\n",
              "      <td>0.008248</td>\n",
              "      <td>0.008636</td>\n",
              "      <td>0.014146</td>\n",
              "      <td>0.017367</td>\n",
              "      <td>0.049230</td>\n",
              "      <td>0.451807</td>\n",
              "      <td>0.466698</td>\n",
              "      <td>0.311742</td>\n",
              "      <td>0.311915</td>\n",
              "      <td>0.231545</td>\n",
              "      <td>0.231707</td>\n",
              "      <td>0.324219</td>\n",
              "      <td>0.093210</td>\n",
              "      <td>0.195653</td>\n",
              "      <td>0.360062</td>\n",
              "      <td>0.390590</td>\n",
              "      <td>0.375789</td>\n",
              "      <td>0.139759</td>\n",
              "      <td>0.472249</td>\n",
              "      <td>0.045791</td>\n",
              "      <td>0.311646</td>\n",
              "      <td>0.311796</td>\n",
              "      <td>0.226819</td>\n",
              "    </tr>\n",
              "    <tr>\n",
              "      <th>min</th>\n",
              "      <td>0.000000</td>\n",
              "      <td>0.000000</td>\n",
              "      <td>0.000000</td>\n",
              "      <td>0.000000</td>\n",
              "      <td>0.000000</td>\n",
              "      <td>0.000000</td>\n",
              "      <td>0.000000</td>\n",
              "      <td>0.000000</td>\n",
              "      <td>0.000000</td>\n",
              "      <td>0.000000</td>\n",
              "      <td>0.000000</td>\n",
              "      <td>0.000000</td>\n",
              "      <td>0.000000</td>\n",
              "      <td>0.000000</td>\n",
              "      <td>0.000000</td>\n",
              "      <td>0.000000</td>\n",
              "      <td>0.000000</td>\n",
              "      <td>0.000000</td>\n",
              "      <td>0.000000</td>\n",
              "      <td>0.000000</td>\n",
              "      <td>0.000000</td>\n",
              "      <td>0.000000</td>\n",
              "      <td>0.000000</td>\n",
              "      <td>0.000000</td>\n",
              "      <td>0.000000</td>\n",
              "      <td>0.000000</td>\n",
              "      <td>0.000000</td>\n",
              "      <td>0.000000</td>\n",
              "      <td>0.000000</td>\n",
              "      <td>0.000000</td>\n",
              "      <td>0.000000</td>\n",
              "      <td>0.000000</td>\n",
              "      <td>0.000000</td>\n",
              "    </tr>\n",
              "    <tr>\n",
              "      <th>25%</th>\n",
              "      <td>0.000000</td>\n",
              "      <td>0.000028</td>\n",
              "      <td>0.000000</td>\n",
              "      <td>0.000000</td>\n",
              "      <td>0.000000</td>\n",
              "      <td>0.000000</td>\n",
              "      <td>0.000000</td>\n",
              "      <td>0.000000</td>\n",
              "      <td>0.000000</td>\n",
              "      <td>0.000000</td>\n",
              "      <td>0.000000</td>\n",
              "      <td>0.000000</td>\n",
              "      <td>0.000000</td>\n",
              "      <td>0.000000</td>\n",
              "      <td>0.000000</td>\n",
              "      <td>0.005175</td>\n",
              "      <td>0.005882</td>\n",
              "      <td>0.000000</td>\n",
              "      <td>0.000000</td>\n",
              "      <td>0.000000</td>\n",
              "      <td>0.000000</td>\n",
              "      <td>1.000000</td>\n",
              "      <td>0.000000</td>\n",
              "      <td>0.000000</td>\n",
              "      <td>0.546810</td>\n",
              "      <td>0.545172</td>\n",
              "      <td>0.810000</td>\n",
              "      <td>0.000000</td>\n",
              "      <td>0.000000</td>\n",
              "      <td>0.000000</td>\n",
              "      <td>0.000000</td>\n",
              "      <td>0.000000</td>\n",
              "      <td>0.000000</td>\n",
              "    </tr>\n",
              "    <tr>\n",
              "      <th>50%</th>\n",
              "      <td>0.000000</td>\n",
              "      <td>0.000059</td>\n",
              "      <td>0.000000</td>\n",
              "      <td>0.000000</td>\n",
              "      <td>0.000000</td>\n",
              "      <td>0.000000</td>\n",
              "      <td>0.000000</td>\n",
              "      <td>0.000000</td>\n",
              "      <td>0.000000</td>\n",
              "      <td>0.000000</td>\n",
              "      <td>0.000000</td>\n",
              "      <td>0.000000</td>\n",
              "      <td>0.000000</td>\n",
              "      <td>0.000000</td>\n",
              "      <td>0.000000</td>\n",
              "      <td>0.064706</td>\n",
              "      <td>0.027451</td>\n",
              "      <td>0.000000</td>\n",
              "      <td>0.000000</td>\n",
              "      <td>0.000000</td>\n",
              "      <td>0.000000</td>\n",
              "      <td>1.000000</td>\n",
              "      <td>0.000000</td>\n",
              "      <td>0.000000</td>\n",
              "      <td>1.000000</td>\n",
              "      <td>1.000000</td>\n",
              "      <td>1.000000</td>\n",
              "      <td>0.000000</td>\n",
              "      <td>0.065430</td>\n",
              "      <td>0.000000</td>\n",
              "      <td>0.000000</td>\n",
              "      <td>0.000000</td>\n",
              "      <td>0.000000</td>\n",
              "    </tr>\n",
              "    <tr>\n",
              "      <th>75%</th>\n",
              "      <td>0.000000</td>\n",
              "      <td>0.000201</td>\n",
              "      <td>0.000091</td>\n",
              "      <td>0.000000</td>\n",
              "      <td>0.000000</td>\n",
              "      <td>0.000000</td>\n",
              "      <td>1.000000</td>\n",
              "      <td>0.000000</td>\n",
              "      <td>0.000000</td>\n",
              "      <td>0.000000</td>\n",
              "      <td>0.000000</td>\n",
              "      <td>0.000000</td>\n",
              "      <td>0.000000</td>\n",
              "      <td>0.000000</td>\n",
              "      <td>0.000000</td>\n",
              "      <td>1.000000</td>\n",
              "      <td>1.000000</td>\n",
              "      <td>0.000000</td>\n",
              "      <td>0.000000</td>\n",
              "      <td>0.000000</td>\n",
              "      <td>0.000000</td>\n",
              "      <td>1.000000</td>\n",
              "      <td>0.000000</td>\n",
              "      <td>0.000000</td>\n",
              "      <td>1.000000</td>\n",
              "      <td>1.000000</td>\n",
              "      <td>1.000000</td>\n",
              "      <td>0.020000</td>\n",
              "      <td>1.000000</td>\n",
              "      <td>0.010000</td>\n",
              "      <td>0.000000</td>\n",
              "      <td>0.000000</td>\n",
              "      <td>0.000000</td>\n",
              "    </tr>\n",
              "    <tr>\n",
              "      <th>max</th>\n",
              "      <td>1.000000</td>\n",
              "      <td>1.000000</td>\n",
              "      <td>1.000000</td>\n",
              "      <td>1.000000</td>\n",
              "      <td>1.000000</td>\n",
              "      <td>1.000000</td>\n",
              "      <td>1.000000</td>\n",
              "      <td>1.000000</td>\n",
              "      <td>1.000000</td>\n",
              "      <td>1.000000</td>\n",
              "      <td>1.000000</td>\n",
              "      <td>1.000000</td>\n",
              "      <td>1.000000</td>\n",
              "      <td>1.000000</td>\n",
              "      <td>1.000000</td>\n",
              "      <td>1.000000</td>\n",
              "      <td>1.000000</td>\n",
              "      <td>1.000000</td>\n",
              "      <td>1.000000</td>\n",
              "      <td>1.000000</td>\n",
              "      <td>1.000000</td>\n",
              "      <td>1.000000</td>\n",
              "      <td>1.000000</td>\n",
              "      <td>1.000000</td>\n",
              "      <td>1.000000</td>\n",
              "      <td>1.000000</td>\n",
              "      <td>1.000000</td>\n",
              "      <td>1.000000</td>\n",
              "      <td>1.000000</td>\n",
              "      <td>1.000000</td>\n",
              "      <td>1.000000</td>\n",
              "      <td>1.000000</td>\n",
              "      <td>1.000000</td>\n",
              "    </tr>\n",
              "  </tbody>\n",
              "</table>\n",
              "</div>"
            ],
            "text/plain": [
              "           duration  ...  dst_host_rerror_rate\n",
              "count  39522.000000  ...          39522.000000\n",
              "mean       0.003342  ...              0.058024\n",
              "std        0.029029  ...              0.226819\n",
              "min        0.000000  ...              0.000000\n",
              "25%        0.000000  ...              0.000000\n",
              "50%        0.000000  ...              0.000000\n",
              "75%        0.000000  ...              0.000000\n",
              "max        1.000000  ...              1.000000\n",
              "\n",
              "[8 rows x 33 columns]"
            ]
          },
          "metadata": {
            "tags": []
          },
          "execution_count": 151
        }
      ]
    },
    {
      "cell_type": "markdown",
      "metadata": {
        "id": "8MaYp6cqjw9z",
        "colab_type": "text"
      },
      "source": [
        "Question #3:\n",
        "\n",
        "StandardScaler (mean=0; std=1) or MinMaxScaler (range 0~1)?\n",
        "\n",
        "Which one does make sense when we analyze packets or flows? Why?\n",
        "\n",
        "\n"
      ]
    },
    {
      "cell_type": "markdown",
      "metadata": {
        "id": "kzPEEtFemsEv",
        "colab_type": "text"
      },
      "source": [
        "<font color='blue'>我選擇歸一化，因為歸一化對原始資料來說更完整的保留樣本間距，也許標準化可以使其接近常態分佈，但對分析封包來說，我認為歸一化更易於區別正常與異常，且有些數值並不適合以負數表示(標準化為了使平均值為0)</font>"
      ]
    },
    {
      "cell_type": "markdown",
      "metadata": {
        "id": "HFfmlsJZoS6w",
        "colab_type": "text"
      },
      "source": [
        "### PCA and plot\n",
        "\n",
        "Too many dimensions, try to use PCA to redue dimensions.\n"
      ]
    },
    {
      "cell_type": "code",
      "metadata": {
        "id": "GT4aSnOjqPvv",
        "colab_type": "code",
        "outputId": "5557031a-be4f-41c0-fe5d-4cc59fb9aa38",
        "colab": {
          "base_uri": "https://localhost:8080/",
          "height": 279
        }
      },
      "source": [
        "import matplotlib.pyplot as plt\n",
        "from sklearn import decomposition\n",
        "\n",
        "pca = decomposition.PCA().fit(features)\n",
        "plt.plot(np.cumsum(pca.explained_variance_ratio_))\n",
        "plt.xlabel('number of components')\n",
        "plt.ylabel('cumulative explained variance');\n",
        "\n",
        "plt.show()"
      ],
      "execution_count": 0,
      "outputs": [
        {
          "output_type": "display_data",
          "data": {
            "image/png": "[encoded data removed]",
            "text/plain": [
              "<Figure size 432x288 with 1 Axes>"
            ]
          },
          "metadata": {
            "tags": [],
            "needs_background": "light"
          }
        }
      ]
    },
    {
      "cell_type": "markdown",
      "metadata": {
        "id": "BPOoWWPlrKp5",
        "colab_type": "text"
      },
      "source": [
        "Question #4:\n",
        "\n",
        "how many dimensions are good enough?"
      ]
    },
    {
      "cell_type": "markdown",
      "metadata": {
        "id": "0lWZnac-rqZ6",
        "colab_type": "text"
      },
      "source": [
        "<font color=blue>從上圖可以看到，5~8個dimensions已經解釋了約95%的變異\n",
        "\n"
      ]
    },
    {
      "cell_type": "code",
      "metadata": {
        "id": "F_w6jnLxR2xS",
        "colab_type": "code",
        "colab": {}
      },
      "source": [
        "target_mapping = {'normal.':0, 'attack.':1}\n",
        "y = pd.Series(y_resampled).map(target_mapping)"
      ],
      "execution_count": 0,
      "outputs": []
    },
    {
      "cell_type": "code",
      "metadata": {
        "id": "GooF0mBuq5es",
        "colab_type": "code",
        "outputId": "9f1c7b8d-8bb8-4353-aa69-211fbc51515b",
        "colab": {
          "base_uri": "https://localhost:8080/",
          "height": 541
        }
      },
      "source": [
        "zpca = decomposition.PCA(n_components=5)\n",
        "pca.fit(features)\n",
        "X_PCA = pca.transform(features)\n",
        "\n",
        "print(pca.explained_variance_ratio_)\n",
        "\n",
        "fig = plt.figure(figsize=(8,6))\n",
        "\n",
        "plt.scatter(X_PCA[:, 0], X_PCA[:, 1], c=y)\n",
        "\n",
        "plt.xlabel('PC1')\n",
        "plt.ylabel('PC2')\n",
        "plt.show()"
      ],
      "execution_count": 0,
      "outputs": [
        {
          "output_type": "stream",
          "text": [
            "[4.15222452e-01 3.25931747e-01 1.02154420e-01 4.94475107e-02\n",
            " 4.09242383e-02 2.23385183e-02 1.59383566e-02 9.19107896e-03\n",
            " 5.69180296e-03 3.44775378e-03 2.44858976e-03 1.92790333e-03\n",
            " 1.41519359e-03 8.31346096e-04 6.39670167e-04 6.06571607e-04\n",
            " 5.43890809e-04 2.74566526e-04 2.20535715e-04 1.94251010e-04\n",
            " 1.06130274e-04 9.83465044e-05 9.77655644e-05 7.81738087e-05\n",
            " 4.67759359e-05 4.08835387e-05 3.60668846e-05 3.30367520e-05\n",
            " 3.10408789e-05 2.47678625e-05 1.51877441e-05 1.36116380e-06\n",
            " 6.45655053e-08]\n"
          ],
          "name": "stdout"
        },
        {
          "output_type": "display_data",
          "data": {
            "image/png": "[encoded data removed]",
            "text/plain": [
              "<Figure size 576x432 with 1 Axes>"
            ]
          },
          "metadata": {
            "tags": [],
            "needs_background": "light"
          }
        }
      ]
    },
    {
      "cell_type": "markdown",
      "metadata": {
        "id": "-dsIN3rgs4zk",
        "colab_type": "text"
      },
      "source": [
        "Question #5:\n",
        "\n",
        "Guess what classifier may do good job? Why?\n",
        "\n",
        "(Logistic Regression, SVM, Tree, KNN, ...)"
      ]
    },
    {
      "cell_type": "markdown",
      "metadata": {
        "id": "2DnLLzNnXcUk",
        "colab_type": "text"
      },
      "source": [
        "<font color=blue> SVM 應該會比較好，因為單看上圖，以tree及Logistic Regression的極限應該會overfit"
      ]
    },
    {
      "cell_type": "markdown",
      "metadata": {
        "id": "RJQFkhQFsyJ7",
        "colab_type": "text"
      },
      "source": [
        "### Training a classifier\n",
        "\n",
        "\n",
        "with all dimensions."
      ]
    },
    {
      "cell_type": "code",
      "metadata": {
        "id": "hLSLFQXQuG9O",
        "colab_type": "code",
        "colab": {}
      },
      "source": [
        "from time import time"
      ],
      "execution_count": 0,
      "outputs": []
    },
    {
      "cell_type": "code",
      "metadata": {
        "id": "mkoAoudidWTI",
        "colab_type": "code",
        "outputId": "dbda0df4-81fc-4962-d54d-010e98e93920",
        "colab": {
          "base_uri": "https://localhost:8080/",
          "height": 34
        }
      },
      "source": [
        "# KNN\n",
        "\n",
        "from sklearn.neighbors import KNeighborsClassifier\n",
        "\n",
        "start_t = time()\n",
        "clf = KNeighborsClassifier(n_neighbors = 5, algorithm = 'auto')\n",
        "clf.fit(features, labels)\n",
        "\n",
        "end_t = time()\n",
        "print(\"training time:\", end_t-start_t, \"seconds.\")"
      ],
      "execution_count": 0,
      "outputs": [
        {
          "output_type": "stream",
          "text": [
            "training time: 1.3103399276733398 seconds.\n"
          ],
          "name": "stdout"
        }
      ]
    },
    {
      "cell_type": "code",
      "metadata": {
        "id": "e0BpSxkLsxrH",
        "colab_type": "code",
        "outputId": "3fe42f79-32ba-43d9-c3b8-c9be77fecd98",
        "colab": {
          "base_uri": "https://localhost:8080/",
          "height": 34
        }
      },
      "source": [
        "from sklearn.svm import SVC\n",
        "\n",
        "start_t = time()\n",
        "\n",
        "svc = SVC()\n",
        "svc.fit(X_PCA, labels)\n",
        "\n",
        "end_t = time()\n",
        "print(\"training time:\", end_t-start_t, \"seconds.\")"
      ],
      "execution_count": 0,
      "outputs": [
        {
          "output_type": "stream",
          "text": [
            "training time: 2.0789480209350586 seconds.\n"
          ],
          "name": "stdout"
        }
      ]
    },
    {
      "cell_type": "markdown",
      "metadata": {
        "id": "ii8ethakt79G",
        "colab_type": "text"
      },
      "source": [
        "Question #6:\n",
        "\n",
        "How long would it take to train a knn model? Why?\n",
        "\n",
        "Can you shorten it? How?\n",
        "\n"
      ]
    },
    {
      "cell_type": "markdown",
      "metadata": {
        "id": "bABO0xlNdiMA",
        "colab_type": "text"
      },
      "source": [
        "<font color=blue>花了1.3秒，我認為經由pca應該會更快畢竟dimensions減少了"
      ]
    },
    {
      "cell_type": "code",
      "metadata": {
        "id": "eIqFaWuPdzvb",
        "colab_type": "code",
        "outputId": "f9c9fa16-debc-4dff-a967-427232e9777a",
        "colab": {
          "base_uri": "https://localhost:8080/",
          "height": 34
        }
      },
      "source": [
        "# KNN\n",
        "\n",
        "from sklearn.neighbors import KNeighborsClassifier\n",
        "\n",
        "start_t = time()\n",
        "clf2 = KNeighborsClassifier(n_neighbors = 5, algorithm = 'auto')\n",
        "clf2.fit(X_PCA, labels)\n",
        "\n",
        "end_t = time()\n",
        "print(\"training time:\", end_t-start_t, \"seconds.\")"
      ],
      "execution_count": 0,
      "outputs": [
        {
          "output_type": "stream",
          "text": [
            "training time: 0.3127875328063965 seconds.\n"
          ],
          "name": "stdout"
        }
      ]
    },
    {
      "cell_type": "markdown",
      "metadata": {
        "id": "Q1e2RnlHvnCc",
        "colab_type": "text"
      },
      "source": [
        "### Get testing data\n",
        "\n",
        "Note that: we only use 10% of the download data to save your time."
      ]
    },
    {
      "cell_type": "code",
      "metadata": {
        "id": "UMo6WSSLvpKk",
        "colab_type": "code",
        "outputId": "c361a9d3-5f78-443b-d9d4-d9cc9ce163cb",
        "colab": {
          "base_uri": "https://localhost:8080/",
          "height": 204
        }
      },
      "source": [
        "!wget http://kdd.ics.uci.edu/databases/kddcup99/corrected.gz"
      ],
      "execution_count": 0,
      "outputs": [
        {
          "output_type": "stream",
          "text": [
            "--2020-04-27 06:07:03--  http://kdd.ics.uci.edu/databases/kddcup99/corrected.gz\n",
            "Resolving kdd.ics.uci.edu (kdd.ics.uci.edu)... 128.195.1.86\n",
            "Connecting to kdd.ics.uci.edu (kdd.ics.uci.edu)|128.195.1.86|:80... connected.\n",
            "HTTP request sent, awaiting response... 200 OK\n",
            "Length: 1409035 (1.3M) [application/x-gzip]\n",
            "Saving to: ‘corrected.gz.1’\n",
            "\n",
            "corrected.gz.1      100%[===================>]   1.34M   731KB/s    in 1.9s    \n",
            "\n",
            "2020-04-27 06:07:05 (731 KB/s) - ‘corrected.gz.1’ saved [1409035/1409035]\n",
            "\n"
          ],
          "name": "stdout"
        }
      ]
    },
    {
      "cell_type": "code",
      "metadata": {
        "id": "Om4h7IPJvtyQ",
        "colab_type": "code",
        "outputId": "81fdfe34-ffde-4e17-c71e-b25569599d06",
        "colab": {
          "base_uri": "https://localhost:8080/",
          "height": 51
        }
      },
      "source": [
        "!gzip -d corrected.gz"
      ],
      "execution_count": 0,
      "outputs": [
        {
          "output_type": "stream",
          "text": [
            "gzip: corrected already exists; do you wish to overwrite (y or n)? n\n",
            "\tnot overwritten\n"
          ],
          "name": "stdout"
        }
      ]
    },
    {
      "cell_type": "code",
      "metadata": {
        "id": "Y519_oczvyjm",
        "colab_type": "code",
        "outputId": "4baf3109-eba0-4564-91e0-60f23f2b8318",
        "colab": {
          "base_uri": "https://localhost:8080/",
          "height": 170
        }
      },
      "source": [
        "!ls -al"
      ],
      "execution_count": 0,
      "outputs": [
        {
          "output_type": "stream",
          "text": [
            "total 122060\n",
            "drwxr-xr-x 1 root root     4096 Apr 27 06:07 .\n",
            "drwxr-xr-x 1 root root     4096 Apr 27 05:12 ..\n",
            "drwxr-xr-x 1 root root     4096 Apr 23 16:11 .config\n",
            "-rw-r--r-- 1 root root 47251540 May 16  2000 corrected\n",
            "-rw-r--r-- 1 root root  1409035 May 16  2000 corrected.gz\n",
            "-rw-r--r-- 1 root root  1409035 May 16  2000 corrected.gz.1\n",
            "-rw-r--r-- 1 root root 74889749 Jun 26  2007 kddcup.data_10_percent\n",
            "drwxr-xr-x 1 root root     4096 Apr  3 16:24 sample_data\n"
          ],
          "name": "stdout"
        }
      ]
    },
    {
      "cell_type": "code",
      "metadata": {
        "id": "Iau0t783wfrU",
        "colab_type": "code",
        "outputId": "aff26968-f993-4f7a-be46-06293585b754",
        "colab": {
          "base_uri": "https://localhost:8080/",
          "height": 34
        }
      },
      "source": [
        "# read test data\n",
        "kdd_data_corrected = pd.read_csv(\"/content/corrected\", header=None, names = col_names)\n",
        "\n",
        "# randomly select ?% data as testing data\n",
        "features_test = kdd_data_corrected.sample(frac=0.01)\n",
        "print(features_test.shape)"
      ],
      "execution_count": 0,
      "outputs": [
        {
          "output_type": "stream",
          "text": [
            "(3110, 42)\n"
          ],
          "name": "stdout"
        }
      ]
    },
    {
      "cell_type": "code",
      "metadata": {
        "id": "RLe9Wtkp1A9Q",
        "colab_type": "code",
        "outputId": "4160bf1a-ae87-45f0-9655-a7ade3f3830d",
        "colab": {
          "base_uri": "https://localhost:8080/",
          "height": 255
        }
      },
      "source": [
        "features_test.columns"
      ],
      "execution_count": 0,
      "outputs": [
        {
          "output_type": "execute_result",
          "data": {
            "text/plain": [
              "Index(['duration', 'protocol_type', 'service', 'flag', 'src_bytes',\n",
              "       'dst_bytes', 'land', 'wrong_fragment', 'urgent', 'hot',\n",
              "       'num_failed_logins', 'logged_in', 'num_compromised', 'root_shell',\n",
              "       'su_attempted', 'num_root', 'num_file_creations', 'num_shells',\n",
              "       'num_access_files', 'num_outbound_cmds', 'is_host_login',\n",
              "       'is_guest_login', 'count', 'srv_count', 'serror_rate',\n",
              "       'srv_serror_rate', 'rerror_rate', 'srv_rerror_rate', 'same_srv_rate',\n",
              "       'diff_srv_rate', 'srv_diff_host_rate', 'dst_host_count',\n",
              "       'dst_host_srv_count', 'dst_host_same_srv_rate',\n",
              "       'dst_host_diff_srv_rate', 'dst_host_same_src_port_rate',\n",
              "       'dst_host_srv_diff_host_rate', 'dst_host_serror_rate',\n",
              "       'dst_host_srv_serror_rate', 'dst_host_rerror_rate',\n",
              "       'dst_host_srv_rerror_rate', 'label'],\n",
              "      dtype='object')"
            ]
          },
          "metadata": {
            "tags": []
          },
          "execution_count": 133
        }
      ]
    },
    {
      "cell_type": "code",
      "metadata": {
        "id": "9OGK-WPrwnTs",
        "colab_type": "code",
        "colab": {}
      },
      "source": [
        "# change target to 'attack'\n",
        "y_test = features_test['label'].copy()\n",
        "y_test[y_test!='normal.'] = 'attack.'\n",
        "\n",
        "# target\n",
        "y_test.value_counts()\n",
        "\n",
        "# select features\n",
        "x_test = features_test[all_features]\n",
        "x_test = x_test.astype(float)\n",
        "x_test = x_test.drop(columns=['land', 'urgent', 'num_outbound_cmds', 'is_host_login'])\n",
        "\n",
        "# standardization or normailzation\n",
        "x_test = pd.DataFrame(MinMaxScaler().fit_transform(x_test), columns = x_test.columns, index = x_test.index)"
      ],
      "execution_count": 0,
      "outputs": []
    },
    {
      "cell_type": "code",
      "metadata": {
        "id": "Guc04HRyRRNZ",
        "colab_type": "code",
        "colab": {}
      },
      "source": [
        "# prediction\n",
        "y_knn_pred = clf.predict(x_test)\n",
        "\n",
        "# applt pca\n",
        "X_test_PCA = pca.transform(x_test)\n",
        "\n",
        "y_pca_knn_pred = clf2.predict(X_test_PCA)\n",
        "y_pca_svm_pred = svc.predict(X_test_PCA)"
      ],
      "execution_count": 0,
      "outputs": []
    },
    {
      "cell_type": "markdown",
      "metadata": {
        "id": "P87mRmtK1Yzu",
        "colab_type": "text"
      },
      "source": [
        "Question #7:\n",
        "\n",
        "You accuracy?"
      ]
    },
    {
      "cell_type": "code",
      "metadata": {
        "id": "MYTNPeUWRVLr",
        "colab_type": "code",
        "outputId": "29f0de04-0ea2-4540-b3dd-ab36cb081be1",
        "colab": {
          "base_uri": "https://localhost:8080/",
          "height": 68
        }
      },
      "source": [
        "from sklearn.metrics import accuracy_score\n",
        "knn_accuracy = accuracy_score(y_test, y_knn_pred)\n",
        "pca_knn_accuracy = accuracy_score(y_test, y_pca_knn_pred)\n",
        "pca_svm_accuracy = accuracy_score(y_test, y_pca_svm_pred)\n",
        "print(\"knn ACC: {}.\".format(round(knn_accuracy,4)))\n",
        "print(\"knn pca ACC: {}.\".format(round(pca_knn_accuracy,4)))\n",
        "print(\"svm pca ACC: {}.\".format(round(pca_svm_accuracy,4)))"
      ],
      "execution_count": 0,
      "outputs": [
        {
          "output_type": "stream",
          "text": [
            "knn ACC: 0.9277.\n",
            "knn pca ACC: 0.9277.\n",
            "svm pca ACC: 0.927.\n"
          ],
          "name": "stdout"
        }
      ]
    },
    {
      "cell_type": "markdown",
      "metadata": {
        "id": "TehXMyYNSzSI",
        "colab_type": "text"
      },
      "source": [
        "It's still the same 都好像沒有變\n",
        "\n",
        "Nothing changed 還是討厭不準確"
      ]
    },
    {
      "cell_type": "markdown",
      "metadata": {
        "id": "GdwoBTZ41qC9",
        "colab_type": "text"
      },
      "source": [
        "### Try Clustering\n"
      ]
    },
    {
      "cell_type": "code",
      "metadata": {
        "id": "JCOI29Q91YLG",
        "colab_type": "code",
        "outputId": "1feaa8dc-6513-4785-ddfc-7b1be66582a0",
        "colab": {
          "base_uri": "https://localhost:8080/",
          "height": 68
        }
      },
      "source": [
        "features = kdd_data_10percent[all_features] # original features\n",
        "\n",
        "from sklearn.cluster import KMeans\n",
        "k = 30\n",
        "km = KMeans(n_clusters = k)\n",
        "\n",
        "km.fit(features)"
      ],
      "execution_count": 0,
      "outputs": [
        {
          "output_type": "execute_result",
          "data": {
            "text/plain": [
              "KMeans(algorithm='auto', copy_x=True, init='k-means++', max_iter=300,\n",
              "       n_clusters=30, n_init=10, n_jobs=None, precompute_distances='auto',\n",
              "       random_state=None, tol=0.0001, verbose=0)"
            ]
          },
          "metadata": {
            "tags": []
          },
          "execution_count": 179
        }
      ]
    },
    {
      "cell_type": "code",
      "metadata": {
        "id": "XqikwmXY12Ps",
        "colab_type": "code",
        "outputId": "afbc8e67-79a8-4254-ffe3-3f4742b0f3c6",
        "colab": {
          "base_uri": "https://localhost:8080/",
          "height": 544
        }
      },
      "source": [
        "pd.Series(km.labels_).value_counts()"
      ],
      "execution_count": 0,
      "outputs": [
        {
          "output_type": "execute_result",
          "data": {
            "text/plain": [
              "0     11822\n",
              "11     7464\n",
              "23     2580\n",
              "15      999\n",
              "29      547\n",
              "24      253\n",
              "9       197\n",
              "16      172\n",
              "21      147\n",
              "5       112\n",
              "7       109\n",
              "19       65\n",
              "22       52\n",
              "25       45\n",
              "14       45\n",
              "12       34\n",
              "6        17\n",
              "13       11\n",
              "28        9\n",
              "18        6\n",
              "1         3\n",
              "10        2\n",
              "26        2\n",
              "17        2\n",
              "8         1\n",
              "20        1\n",
              "4         1\n",
              "3         1\n",
              "2         1\n",
              "27        1\n",
              "dtype: int64"
            ]
          },
          "metadata": {
            "tags": []
          },
          "execution_count": 180
        }
      ]
    },
    {
      "cell_type": "markdown",
      "metadata": {
        "id": "H34BdFmy2HCx",
        "colab_type": "text"
      },
      "source": [
        "Question #8:\n",
        "\n",
        "There are 30 clusters.\n",
        "\n",
        "Could you find out which 'lable' is the majority in each cluster?\n"
      ]
    },
    {
      "cell_type": "code",
      "metadata": {
        "id": "FWQOg1FzTrfM",
        "colab_type": "code",
        "outputId": "2719a759-c469-479a-8f3a-c88eb4514d86",
        "colab": {
          "base_uri": "https://localhost:8080/",
          "height": 204
        }
      },
      "source": [
        "abels = kdd_data_10percent['label'].copy() # original labels\n",
        "cluster_df = pd.DataFrame({\"original_label\": labels, \"cluster_label\": km.labels_})\n",
        "cluster_df.head()"
      ],
      "execution_count": 0,
      "outputs": [
        {
          "output_type": "execute_result",
          "data": {
            "text/html": [
              "<div>\n",
              "<style scoped>\n",
              "    .dataframe tbody tr th:only-of-type {\n",
              "        vertical-align: middle;\n",
              "    }\n",
              "\n",
              "    .dataframe tbody tr th {\n",
              "        vertical-align: top;\n",
              "    }\n",
              "\n",
              "    .dataframe thead th {\n",
              "        text-align: right;\n",
              "    }\n",
              "</style>\n",
              "<table border=\"1\" class=\"dataframe\">\n",
              "  <thead>\n",
              "    <tr style=\"text-align: right;\">\n",
              "      <th></th>\n",
              "      <th>original_label</th>\n",
              "      <th>cluster_label</th>\n",
              "    </tr>\n",
              "  </thead>\n",
              "  <tbody>\n",
              "    <tr>\n",
              "      <th>227462</th>\n",
              "      <td>smurf.</td>\n",
              "      <td>0</td>\n",
              "    </tr>\n",
              "    <tr>\n",
              "      <th>334079</th>\n",
              "      <td>smurf.</td>\n",
              "      <td>0</td>\n",
              "    </tr>\n",
              "    <tr>\n",
              "      <th>274925</th>\n",
              "      <td>smurf.</td>\n",
              "      <td>0</td>\n",
              "    </tr>\n",
              "    <tr>\n",
              "      <th>346434</th>\n",
              "      <td>normal.</td>\n",
              "      <td>0</td>\n",
              "    </tr>\n",
              "    <tr>\n",
              "      <th>408854</th>\n",
              "      <td>smurf.</td>\n",
              "      <td>23</td>\n",
              "    </tr>\n",
              "  </tbody>\n",
              "</table>\n",
              "</div>"
            ],
            "text/plain": [
              "       original_label  cluster_label\n",
              "227462         smurf.              0\n",
              "334079         smurf.              0\n",
              "274925         smurf.              0\n",
              "346434        normal.              0\n",
              "408854         smurf.             23"
            ]
          },
          "metadata": {
            "tags": []
          },
          "execution_count": 181
        }
      ]
    },
    {
      "cell_type": "code",
      "metadata": {
        "id": "Ch7hmodyV8nD",
        "colab_type": "code",
        "colab": {}
      },
      "source": [
        "result = [cluster_df[cluster_df[\"cluster_label\"] == i][\"original_label\"].value_counts() for i in range(30)]"
      ],
      "execution_count": 0,
      "outputs": []
    },
    {
      "cell_type": "code",
      "metadata": {
        "id": "1e1GBnCbTrcu",
        "colab_type": "code",
        "outputId": "d2bf3bcc-70f9-4baf-d942-8dda7eefcd25",
        "colab": {
          "base_uri": "https://localhost:8080/",
          "height": 1000
        }
      },
      "source": [
        "for i, v in enumerate(result):\n",
        "  print('Cluster {} labels:'.format(i))\n",
        "  print(v)\n",
        "  print()"
      ],
      "execution_count": 0,
      "outputs": [
        {
          "output_type": "stream",
          "text": [
            "Cluster 0 labels:\n",
            "smurf.          11400\n",
            "normal.           405\n",
            "pod.               14\n",
            "warezclient.        3\n",
            "Name: original_label, dtype: int64\n",
            "\n",
            "Cluster 1 labels:\n",
            "warezclient.    3\n",
            "Name: original_label, dtype: int64\n",
            "\n",
            "Cluster 2 labels:\n",
            "warezmaster.    1\n",
            "Name: original_label, dtype: int64\n",
            "\n",
            "Cluster 3 labels:\n",
            "normal.    1\n",
            "Name: original_label, dtype: int64\n",
            "\n",
            "Cluster 4 labels:\n",
            "normal.    1\n",
            "Name: original_label, dtype: int64\n",
            "\n",
            "Cluster 5 labels:\n",
            "back.    112\n",
            "Name: original_label, dtype: int64\n",
            "\n",
            "Cluster 6 labels:\n",
            "normal.    17\n",
            "Name: original_label, dtype: int64\n",
            "\n",
            "Cluster 7 labels:\n",
            "normal.    109\n",
            "Name: original_label, dtype: int64\n",
            "\n",
            "Cluster 8 labels:\n",
            "normal.    1\n",
            "Name: original_label, dtype: int64\n",
            "\n",
            "Cluster 9 labels:\n",
            "normal.    197\n",
            "Name: original_label, dtype: int64\n",
            "\n",
            "Cluster 10 labels:\n",
            "normal.    2\n",
            "Name: original_label, dtype: int64\n",
            "\n",
            "Cluster 11 labels:\n",
            "neptune.         5341\n",
            "normal.          1844\n",
            "satan.             71\n",
            "ipsweep.           67\n",
            "teardrop.          50\n",
            "portsweep.         48\n",
            "warezclient.       31\n",
            "nmap.              10\n",
            "guess_passwd.       2\n",
            "Name: original_label, dtype: int64\n",
            "\n",
            "Cluster 12 labels:\n",
            "normal.    34\n",
            "Name: original_label, dtype: int64\n",
            "\n",
            "Cluster 13 labels:\n",
            "normal.       6\n",
            "portsweep.    5\n",
            "Name: original_label, dtype: int64\n",
            "\n",
            "Cluster 14 labels:\n",
            "normal.    45\n",
            "Name: original_label, dtype: int64\n",
            "\n",
            "Cluster 15 labels:\n",
            "normal.    999\n",
            "Name: original_label, dtype: int64\n",
            "\n",
            "Cluster 16 labels:\n",
            "normal.    172\n",
            "Name: original_label, dtype: int64\n",
            "\n",
            "Cluster 17 labels:\n",
            "normal.    2\n",
            "Name: original_label, dtype: int64\n",
            "\n",
            "Cluster 18 labels:\n",
            "normal.             5\n",
            "buffer_overflow.    1\n",
            "Name: original_label, dtype: int64\n",
            "\n",
            "Cluster 19 labels:\n",
            "normal.         62\n",
            "warezclient.     3\n",
            "Name: original_label, dtype: int64\n",
            "\n",
            "Cluster 20 labels:\n",
            "normal.    1\n",
            "Name: original_label, dtype: int64\n",
            "\n",
            "Cluster 21 labels:\n",
            "normal.    147\n",
            "Name: original_label, dtype: int64\n",
            "\n",
            "Cluster 22 labels:\n",
            "normal.    52\n",
            "Name: original_label, dtype: int64\n",
            "\n",
            "Cluster 23 labels:\n",
            "smurf.     2577\n",
            "normal.       3\n",
            "Name: original_label, dtype: int64\n",
            "\n",
            "Cluster 24 labels:\n",
            "normal.             252\n",
            "buffer_overflow.      1\n",
            "Name: original_label, dtype: int64\n",
            "\n",
            "Cluster 25 labels:\n",
            "normal.         44\n",
            "warezclient.     1\n",
            "Name: original_label, dtype: int64\n",
            "\n",
            "Cluster 26 labels:\n",
            "normal.    2\n",
            "Name: original_label, dtype: int64\n",
            "\n",
            "Cluster 27 labels:\n",
            "normal.    1\n",
            "Name: original_label, dtype: int64\n",
            "\n",
            "Cluster 28 labels:\n",
            "normal.    9\n",
            "Name: original_label, dtype: int64\n",
            "\n",
            "Cluster 29 labels:\n",
            "normal.             527\n",
            "warezclient.         19\n",
            "buffer_overflow.      1\n",
            "Name: original_label, dtype: int64\n",
            "\n"
          ],
          "name": "stdout"
        }
      ]
    },
    {
      "cell_type": "markdown",
      "metadata": {
        "id": "wCJlftUeMZK2",
        "colab_type": "text"
      },
      "source": [
        "Question #9:\n",
        "\n",
        "How do you name a cluster by the lables?\n",
        "\n",
        "What if the lable in a cluster has no majority?"
      ]
    },
    {
      "cell_type": "code",
      "metadata": {
        "id": "9Uu9urAhWjwn",
        "colab_type": "code",
        "colab": {}
      },
      "source": [
        "pass"
      ],
      "execution_count": 0,
      "outputs": []
    },
    {
      "cell_type": "markdown",
      "metadata": {
        "id": "Hk4cfjHR8mN_",
        "colab_type": "text"
      },
      "source": [
        "Question #10:\n",
        "\n",
        "Now you may go back to pervious cells to check if what you can improve.\n",
        "List what have you done right here."
      ]
    },
    {
      "cell_type": "markdown",
      "metadata": {
        "id": "y3nGqQwWF7La",
        "colab_type": "text"
      },
      "source": [
        "<font color=blue>其實原本有加入類別變數，但處理上太麻煩又被我淘汰掉了\n",
        "\n",
        "<font color=blue>加上SMOTE"
      ]
    },
    {
      "cell_type": "code",
      "metadata": {
        "id": "WJ4GmdHoVI6l",
        "colab_type": "code",
        "colab": {}
      },
      "source": [
        ""
      ],
      "execution_count": 0,
      "outputs": []
    }
  ]
}