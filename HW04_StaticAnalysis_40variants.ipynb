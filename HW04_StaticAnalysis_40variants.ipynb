{
  "nbformat": 4,
  "nbformat_minor": 0,
  "metadata": {
    "colab": {
      "name": "HW04-StaticAnalysis_40variants.ipynb",
      "provenance": [],
      "collapsed_sections": [],
      "include_colab_link": true
    },
    "kernelspec": {
      "name": "python3",
      "display_name": "Python 3"
    }
  },
  "cells": [
    {
      "cell_type": "markdown",
      "metadata": {
        "id": "view-in-github",
        "colab_type": "text"
      },
      "source": [
        "<a href=\"https://colab.research.google.com/github/nathan-tw/Data-Science-for-Cybersecurity/blob/master/HW04_StaticAnalysis_40variants.ipynb\" target=\"_parent\"><img src=\"https://colab.research.google.com/assets/colab-badge.svg\" alt=\"Open In Colab\"/></a>"
      ]
    },
    {
      "cell_type": "markdown",
      "metadata": {
        "id": "2H9wQu_0NlEu",
        "colab_type": "text"
      },
      "source": [
        "### HW04 Static Analysis\n",
        "\n",
        "Since we cannot share real malware binary with you. We give you the pefile analysis result (by calling pefile_dump() ) and save the result in a dictionary. You have to practice writing a parser before analyzing the given pefile dump file."
      ]
    },
    {
      "cell_type": "markdown",
      "metadata": {
        "id": "Up2lU-B8RRfE",
        "colab_type": "text"
      },
      "source": [
        "### Download data\n"
      ]
    },
    {
      "cell_type": "code",
      "metadata": {
        "id": "KaUYwIFuMPmc",
        "colab_type": "code",
        "outputId": "0e4700dc-5267-4544-f579-a429522f282b",
        "colab": {
          "base_uri": "https://localhost:8080/",
          "height": 322
        }
      },
      "source": [
        "# Here is the dump dictionary.\n",
        "!wget https://drive.google.com/uc?id=1BTr1IDPhRF9WnFjXFwJWiqJ31qa-EWL9 -O pef_dumpdict_40.pickle"
      ],
      "execution_count": 0,
      "outputs": [
        {
          "output_type": "stream",
          "text": [
            "--2020-04-13 05:19:06--  https://drive.google.com/uc?id=1BTr1IDPhRF9WnFjXFwJWiqJ31qa-EWL9\n",
            "Resolving drive.google.com (drive.google.com)... 108.177.97.100, 108.177.97.139, 108.177.97.101, ...\n",
            "Connecting to drive.google.com (drive.google.com)|108.177.97.100|:443... connected.\n",
            "HTTP request sent, awaiting response... 302 Moved Temporarily\n",
            "Location: https://doc-08-38-docs.googleusercontent.com/docs/securesc/ha0ro937gcuc7l7deffksulhg5h7mbp1/vgn5dt5pjg83taikieedofq8ir77rsbp/1586755125000/17174434063503717705/*/1BTr1IDPhRF9WnFjXFwJWiqJ31qa-EWL9 [following]\n",
            "Warning: wildcards not supported in HTTP.\n",
            "--2020-04-13 05:19:06--  https://doc-08-38-docs.googleusercontent.com/docs/securesc/ha0ro937gcuc7l7deffksulhg5h7mbp1/vgn5dt5pjg83taikieedofq8ir77rsbp/1586755125000/17174434063503717705/*/1BTr1IDPhRF9WnFjXFwJWiqJ31qa-EWL9\n",
            "Resolving doc-08-38-docs.googleusercontent.com (doc-08-38-docs.googleusercontent.com)... 64.233.189.132, 2404:6800:4008:c07::84\n",
            "Connecting to doc-08-38-docs.googleusercontent.com (doc-08-38-docs.googleusercontent.com)|64.233.189.132|:443... connected.\n",
            "HTTP request sent, awaiting response... 200 OK\n",
            "Length: 414677 (405K) [application/octet-stream]\n",
            "Saving to: ‘pef_dumpdict_40.pickle’\n",
            "\n",
            "\rpef_dumpdict_40.pic   0%[                    ]       0  --.-KB/s               \rpef_dumpdict_40.pic 100%[===================>] 404.96K  --.-KB/s    in 0.005s  \n",
            "\n",
            "2020-04-13 05:19:07 (85.2 MB/s) - ‘pef_dumpdict_40.pickle’ saved [414677/414677]\n",
            "\n"
          ],
          "name": "stdout"
        }
      ]
    },
    {
      "cell_type": "code",
      "metadata": {
        "id": "VNGAPlU8MnJP",
        "colab_type": "code",
        "outputId": "1c2891cf-6892-4504-9ac7-a0b111ec4ebd",
        "colab": {
          "base_uri": "https://localhost:8080/",
          "height": 118
        }
      },
      "source": [
        "# The size should be 414677 bytes.\n",
        "!ls -al"
      ],
      "execution_count": 0,
      "outputs": [
        {
          "output_type": "stream",
          "text": [
            "total 424\n",
            "drwxr-xr-x 1 root root   4096 Apr 13 05:19 .\n",
            "drwxr-xr-x 1 root root   4096 Apr 13 05:17 ..\n",
            "drwxr-xr-x 1 root root   4096 Apr  9 16:10 .config\n",
            "-rw-r--r-- 1 root root 414677 Apr 13 05:19 pef_dumpdict_40.pickle\n",
            "drwxr-xr-x 1 root root   4096 Apr  3 16:24 sample_data\n"
          ],
          "name": "stdout"
        }
      ]
    },
    {
      "cell_type": "code",
      "metadata": {
        "id": "MovFVjB5M-RR",
        "colab_type": "code",
        "colab": {}
      },
      "source": [
        "# It is stored in a pickle file.\n",
        "# You can retrive it by using the following code.\n",
        "\n",
        "import pickle\n",
        "import os \n",
        "\n",
        "with open(\"/content/pef_dumpdict_40.pickle\", 'rb') as fd:\n",
        "  pef_dumpdicts = pickle.load(fd)"
      ],
      "execution_count": 0,
      "outputs": []
    },
    {
      "cell_type": "markdown",
      "metadata": {
        "id": "IMAk98E9NkTt",
        "colab_type": "text"
      },
      "source": [
        "### A dump file example\n"
      ]
    },
    {
      "cell_type": "code",
      "metadata": {
        "id": "xJ-CMLDDOaF4",
        "colab_type": "code",
        "outputId": "c604ed3e-2b14-4914-cf10-ed0958671666",
        "colab": {
          "base_uri": "https://localhost:8080/",
          "height": 269
        }
      },
      "source": [
        "# Get a 32-bit putty pe file\n",
        "!wget https://the.earth.li/~sgtatham/putty/latest/w32/putty.exe -O putty32.exe"
      ],
      "execution_count": 0,
      "outputs": [
        {
          "output_type": "stream",
          "text": [
            "--2020-04-13 05:19:17--  https://the.earth.li/~sgtatham/putty/latest/w32/putty.exe\n",
            "Resolving the.earth.li (the.earth.li)... 93.93.131.124, 2a00:1098:86:4d:c0ff:ee:15:900d\n",
            "Connecting to the.earth.li (the.earth.li)|93.93.131.124|:443... connected.\n",
            "HTTP request sent, awaiting response... 302 Found\n",
            "Location: https://the.earth.li/~sgtatham/putty/0.73/w32/putty.exe [following]\n",
            "--2020-04-13 05:19:18--  https://the.earth.li/~sgtatham/putty/0.73/w32/putty.exe\n",
            "Reusing existing connection to the.earth.li:443.\n",
            "HTTP request sent, awaiting response... 200 OK\n",
            "Length: 1096080 (1.0M) [application/x-msdos-program]\n",
            "Saving to: ‘putty32.exe’\n",
            "\n",
            "putty32.exe         100%[===================>]   1.04M   720KB/s    in 1.5s    \n",
            "\n",
            "2020-04-13 05:19:20 (720 KB/s) - ‘putty32.exe’ saved [1096080/1096080]\n",
            "\n"
          ],
          "name": "stdout"
        }
      ]
    },
    {
      "cell_type": "code",
      "metadata": {
        "id": "UqhEYpAZOsUa",
        "colab_type": "code",
        "outputId": "919d22e1-f189-44df-cefd-77ad7a28a8ff",
        "colab": {
          "base_uri": "https://localhost:8080/",
          "height": 202
        }
      },
      "source": [
        "!pip install pefile"
      ],
      "execution_count": 0,
      "outputs": [
        {
          "output_type": "stream",
          "text": [
            "Collecting pefile\n",
            "\u001b[?25l  Downloading https://files.pythonhosted.org/packages/36/58/acf7f35859d541985f0a6ea3c34baaefbfaee23642cf11e85fe36453ae77/pefile-2019.4.18.tar.gz (62kB)\n",
            "\r\u001b[K     |█████▎                          | 10kB 17.7MB/s eta 0:00:01\r\u001b[K     |██████████▌                     | 20kB 1.8MB/s eta 0:00:01\r\u001b[K     |███████████████▊                | 30kB 2.3MB/s eta 0:00:01\r\u001b[K     |█████████████████████           | 40kB 2.5MB/s eta 0:00:01\r\u001b[K     |██████████████████████████▎     | 51kB 2.0MB/s eta 0:00:01\r\u001b[K     |███████████████████████████████▌| 61kB 2.3MB/s eta 0:00:01\r\u001b[K     |████████████████████████████████| 71kB 2.1MB/s \n",
            "\u001b[?25hRequirement already satisfied: future in /usr/local/lib/python3.6/dist-packages (from pefile) (0.16.0)\n",
            "Building wheels for collected packages: pefile\n",
            "  Building wheel for pefile (setup.py) ... \u001b[?25l\u001b[?25hdone\n",
            "  Created wheel for pefile: filename=pefile-2019.4.18-cp36-none-any.whl size=60824 sha256=3de1b17e6771c86795a985f92bf098a91a30581e03d5b705817b0de8f2e837db\n",
            "  Stored in directory: /root/.cache/pip/wheels/1c/a1/95/4f33011a0c013c872fe6f0f364dc463a2588120820e40a30d8\n",
            "Successfully built pefile\n",
            "Installing collected packages: pefile\n",
            "Successfully installed pefile-2019.4.18\n"
          ],
          "name": "stdout"
        }
      ]
    },
    {
      "cell_type": "code",
      "metadata": {
        "id": "fs6HbaIWOg4s",
        "colab_type": "code",
        "colab": {}
      },
      "source": [
        "import pefile\n",
        "\n",
        "pef = pefile.PE(\"/content/putty32.exe\", True)\n",
        "dump_dict = pef.dump_dict()"
      ],
      "execution_count": 0,
      "outputs": []
    },
    {
      "cell_type": "code",
      "metadata": {
        "id": "xIK5so31OxFe",
        "colab_type": "code",
        "outputId": "9ecbcddb-d1b7-4dfe-87ec-7a29a06068a8",
        "colab": {
          "base_uri": "https://localhost:8080/",
          "height": 54
        }
      },
      "source": [
        "# a pefile dump dictionary has some information\n",
        "# they are stored in different \"keys\"\n",
        "print(dump_dict.keys())"
      ],
      "execution_count": 0,
      "outputs": [
        {
          "output_type": "stream",
          "text": [
            "dict_keys(['DOS_HEADER', 'NT_HEADERS', 'FILE_HEADER', 'Flags', 'OPTIONAL_HEADER', 'DllCharacteristics', 'PE Sections', 'Directories', 'Version Information', 'Imported symbols', 'Resource directory', 'LOAD_CONFIG', 'Base relocations'])\n"
          ],
          "name": "stdout"
        }
      ]
    },
    {
      "cell_type": "code",
      "metadata": {
        "colab_type": "code",
        "outputId": "a0f7d9d0-4e86-43e2-bf95-fae3ee799d7f",
        "id": "Fw64RJyAPzci",
        "colab": {
          "base_uri": "https://localhost:8080/",
          "height": 54
        }
      },
      "source": [
        "# show one of the data in 'DOS_HEADER' key\n",
        "# and it looks like a python dictionary\n",
        "# you can put this data in a json or a dictionaary structure for further analysis\n",
        "print(dump_dict['DOS_HEADER'])"
      ],
      "execution_count": 0,
      "outputs": [
        {
          "output_type": "stream",
          "text": [
            "{'Structure': 'IMAGE_DOS_HEADER', 'e_magic': {'FileOffset': 0, 'Offset': 0, 'Value': 23117}, 'e_cblp': {'FileOffset': 2, 'Offset': 2, 'Value': 120}, 'e_cp': {'FileOffset': 4, 'Offset': 4, 'Value': 1}, 'e_crlc': {'FileOffset': 6, 'Offset': 6, 'Value': 0}, 'e_cparhdr': {'FileOffset': 8, 'Offset': 8, 'Value': 4}, 'e_minalloc': {'FileOffset': 10, 'Offset': 10, 'Value': 0}, 'e_maxalloc': {'FileOffset': 12, 'Offset': 12, 'Value': 0}, 'e_ss': {'FileOffset': 14, 'Offset': 14, 'Value': 0}, 'e_sp': {'FileOffset': 16, 'Offset': 16, 'Value': 0}, 'e_csum': {'FileOffset': 18, 'Offset': 18, 'Value': 0}, 'e_ip': {'FileOffset': 20, 'Offset': 20, 'Value': 0}, 'e_cs': {'FileOffset': 22, 'Offset': 22, 'Value': 0}, 'e_lfarlc': {'FileOffset': 24, 'Offset': 24, 'Value': 64}, 'e_ovno': {'FileOffset': 26, 'Offset': 26, 'Value': 0}, 'e_res': {'FileOffset': 28, 'Offset': 28, 'Value': '\\\\x00\\\\x00\\\\x00\\\\x00\\\\x00\\\\x00\\\\x00\\\\x00'}, 'e_oemid': {'FileOffset': 36, 'Offset': 36, 'Value': 0}, 'e_oeminfo': {'FileOffset': 38, 'Offset': 38, 'Value': 0}, 'e_res2': {'FileOffset': 40, 'Offset': 40, 'Value': '\\\\x00\\\\x00\\\\x00\\\\x00\\\\x00\\\\x00\\\\x00\\\\x00\\\\x00\\\\x00\\\\x00\\\\x00\\\\x00\\\\x00\\\\x00\\\\x00\\\\x00\\\\x00\\\\x00\\\\x00'}, 'e_lfanew': {'FileOffset': 60, 'Offset': 60, 'Value': 120}}\n"
          ],
          "name": "stdout"
        }
      ]
    },
    {
      "cell_type": "code",
      "metadata": {
        "id": "A3lL3vNQPeBB",
        "colab_type": "code",
        "outputId": "693b242d-e053-4980-df2a-2724a90ae1dd",
        "colab": {
          "base_uri": "https://localhost:8080/",
          "height": 87
        }
      },
      "source": [
        "# for eample, I put it in a dictionaty\n",
        "# now I can easily retrive the info stored in it by keys\n",
        "dos_header_dict = dict(dump_dict['DOS_HEADER'])\n",
        "print(dos_header_dict.keys())\n",
        "\n",
        "print(dos_header_dict['Structure'])  # name\n",
        "print(dos_header_dict['e_magic'])  # e_magic"
      ],
      "execution_count": 0,
      "outputs": [
        {
          "output_type": "stream",
          "text": [
            "dict_keys(['Structure', 'e_magic', 'e_cblp', 'e_cp', 'e_crlc', 'e_cparhdr', 'e_minalloc', 'e_maxalloc', 'e_ss', 'e_sp', 'e_csum', 'e_ip', 'e_cs', 'e_lfarlc', 'e_ovno', 'e_res', 'e_oemid', 'e_oeminfo', 'e_res2', 'e_lfanew'])\n",
            "IMAGE_DOS_HEADER\n",
            "{'FileOffset': 0, 'Offset': 0, 'Value': 23117}\n"
          ],
          "name": "stdout"
        }
      ]
    },
    {
      "cell_type": "code",
      "metadata": {
        "id": "WXydAcNCPwpJ",
        "colab_type": "code",
        "outputId": "f778cfcc-c053-48ab-8e61-074b62122209",
        "colab": {
          "base_uri": "https://localhost:8080/",
          "height": 84
        }
      },
      "source": [
        "# another example\n",
        "\n",
        "file_header_dict = dict(dump_dict['FILE_HEADER'])\n",
        "print(file_header_dict.keys())\n",
        "\n",
        "print(file_header_dict['Machine'])\n",
        "print(file_header_dict['NumberOfSections'])\n",
        "print(file_header_dict['TimeDateStamp'])"
      ],
      "execution_count": 0,
      "outputs": [
        {
          "output_type": "stream",
          "text": [
            "dict_keys(['Structure', 'Machine', 'NumberOfSections', 'TimeDateStamp', 'PointerToSymbolTable', 'NumberOfSymbols', 'SizeOfOptionalHeader', 'Characteristics'])\n",
            "{'FileOffset': 124, 'Offset': 0, 'Value': 332}\n",
            "{'FileOffset': 126, 'Offset': 2, 'Value': 7}\n",
            "{'FileOffset': 128, 'Offset': 4, 'Value': '0x5D873EBE [Sun Sep 22 09:28:30 2019 UTC]'}\n"
          ],
          "name": "stdout"
        }
      ]
    },
    {
      "cell_type": "code",
      "metadata": {
        "id": "PSrMhYFlQhgb",
        "colab_type": "code",
        "outputId": "5bc34bf4-a9bc-4241-cc95-48c645f81c4b",
        "colab": {
          "base_uri": "https://localhost:8080/",
          "height": 1000
        }
      },
      "source": [
        "# You can even print all dump_dict to find some valueable infomation.\n",
        "# pprint stands for pretty print, which makes you easier to view the data\n",
        "import pprint\n",
        "pprint.pprint(dump_dict['Imported symbols']) # change this to other keys"
      ],
      "execution_count": 0,
      "outputs": [
        {
          "output_type": "stream",
          "text": [
            "[[{'Characteristics': {'FileOffset': 729424, 'Offset': 0, 'Value': 734724},\n",
            "   'FirstThunk': {'FileOffset': 729440, 'Offset': 16, 'Value': 736044},\n",
            "   'ForwarderChain': {'FileOffset': 729432, 'Offset': 8, 'Value': 0},\n",
            "   'Name': {'FileOffset': 729436, 'Offset': 12, 'Value': 743028},\n",
            "   'OriginalFirstThunk': {'FileOffset': 729424, 'Offset': 0, 'Value': 734724},\n",
            "   'Structure': 'IMAGE_IMPORT_DESCRIPTOR',\n",
            "   'TimeDateStamp': {'FileOffset': 729428,\n",
            "                     'Offset': 4,\n",
            "                     'Value': '0x0        [Thu Jan  1 00:00:00 1970 UTC]'}},\n",
            "  {'DLL': b'GDI32.dll', 'Hint': 41, 'Name': b'CreateBitmap'},\n",
            "  {'DLL': b'GDI32.dll', 'Hint': 48, 'Name': b'CreateCompatibleBitmap'},\n",
            "  {'DLL': b'GDI32.dll', 'Hint': 49, 'Name': b'CreateCompatibleDC'},\n",
            "  {'DLL': b'GDI32.dll', 'Hint': 61, 'Name': b'CreateFontA'},\n",
            "  {'DLL': b'GDI32.dll', 'Hint': 62, 'Name': b'CreateFontIndirectA'},\n",
            "  {'DLL': b'GDI32.dll', 'Hint': 74, 'Name': b'CreatePalette'},\n",
            "  {'DLL': b'GDI32.dll', 'Hint': 76, 'Name': b'CreatePen'},\n",
            "  {'DLL': b'GDI32.dll', 'Hint': 86, 'Name': b'CreateSolidBrush'},\n",
            "  {'DLL': b'GDI32.dll', 'Hint': 268, 'Name': b'DeleteDC'},\n",
            "  {'DLL': b'GDI32.dll', 'Hint': 271, 'Name': b'DeleteObject'},\n",
            "  {'DLL': b'GDI32.dll', 'Hint': 346, 'Name': b'ExcludeClipRect'},\n",
            "  {'DLL': b'GDI32.dll', 'Hint': 352, 'Name': b'ExtTextOutA'},\n",
            "  {'DLL': b'GDI32.dll', 'Hint': 353, 'Name': b'ExtTextOutW'},\n",
            "  {'DLL': b'GDI32.dll', 'Hint': 469, 'Name': b'GetBkMode'},\n",
            "  {'DLL': b'GDI32.dll', 'Hint': 477, 'Name': b'GetCharABCWidthsFloatA'},\n",
            "  {'DLL': b'GDI32.dll', 'Hint': 481, 'Name': b'GetCharWidth32A'},\n",
            "  {'DLL': b'GDI32.dll', 'Hint': 482, 'Name': b'GetCharWidth32W'},\n",
            "  {'DLL': b'GDI32.dll', 'Hint': 483, 'Name': b'GetCharWidthA'},\n",
            "  {'DLL': b'GDI32.dll', 'Hint': 488, 'Name': b'GetCharWidthW'},\n",
            "  {'DLL': b'GDI32.dll', 'Hint': 490, 'Name': b'GetCharacterPlacementW'},\n",
            "  {'DLL': b'GDI32.dll', 'Hint': 503, 'Name': b'GetDeviceCaps'},\n",
            "  {'DLL': b'GDI32.dll', 'Hint': 551, 'Name': b'GetObjectA'},\n",
            "  {'DLL': b'GDI32.dll', 'Hint': 560, 'Name': b'GetPixel'},\n",
            "  {'DLL': b'GDI32.dll', 'Hint': 569, 'Name': b'GetStockObject'},\n",
            "  {'DLL': b'GDI32.dll', 'Hint': 581, 'Name': b'GetTextExtentExPointA'},\n",
            "  {'DLL': b'GDI32.dll', 'Hint': 585, 'Name': b'GetTextExtentPoint32A'},\n",
            "  {'DLL': b'GDI32.dll', 'Hint': 593, 'Name': b'GetTextMetricsA'},\n",
            "  {'DLL': b'GDI32.dll', 'Hint': 604, 'Name': b'IntersectClipRect'},\n",
            "  {'DLL': b'GDI32.dll', 'Hint': 610, 'Name': b'LineTo'},\n",
            "  {'DLL': b'GDI32.dll', 'Hint': 624, 'Name': b'MoveToEx'},\n",
            "  {'DLL': b'GDI32.dll', 'Hint': 653, 'Name': b'Polyline'},\n",
            "  {'DLL': b'GDI32.dll', 'Hint': 658, 'Name': b'RealizePalette'},\n",
            "  {'DLL': b'GDI32.dll', 'Hint': 661, 'Name': b'Rectangle'},\n",
            "  {'DLL': b'GDI32.dll', 'Hint': 725, 'Name': b'SelectObject'},\n",
            "  {'DLL': b'GDI32.dll', 'Hint': 726, 'Name': b'SelectPalette'},\n",
            "  {'DLL': b'GDI32.dll', 'Hint': 732, 'Name': b'SetBkColor'},\n",
            "  {'DLL': b'GDI32.dll', 'Hint': 733, 'Name': b'SetBkMode'},\n",
            "  {'DLL': b'GDI32.dll', 'Hint': 754, 'Name': b'SetMapMode'},\n",
            "  {'DLL': b'GDI32.dll', 'Hint': 760, 'Name': b'SetPaletteEntries'},\n",
            "  {'DLL': b'GDI32.dll', 'Hint': 761, 'Name': b'SetPixel'},\n",
            "  {'DLL': b'GDI32.dll', 'Hint': 770, 'Name': b'SetTextAlign'},\n",
            "  {'DLL': b'GDI32.dll', 'Hint': 772, 'Name': b'SetTextColor'},\n",
            "  {'DLL': b'GDI32.dll', 'Hint': 790, 'Name': b'TextOutA'},\n",
            "  {'DLL': b'GDI32.dll', 'Hint': 792, 'Name': b'TranslateCharsetInfo'},\n",
            "  {'DLL': b'GDI32.dll', 'Hint': 794, 'Name': b'UnrealizeObject'},\n",
            "  {'DLL': b'GDI32.dll', 'Hint': 795, 'Name': b'UpdateColors'}],\n",
            " [{'Characteristics': {'FileOffset': 729444, 'Offset': 0, 'Value': 734912},\n",
            "   'FirstThunk': {'FileOffset': 729460, 'Offset': 16, 'Value': 736232},\n",
            "   'ForwarderChain': {'FileOffset': 729452, 'Offset': 8, 'Value': 0},\n",
            "   'Name': {'FileOffset': 729456, 'Offset': 12, 'Value': 743038},\n",
            "   'OriginalFirstThunk': {'FileOffset': 729444, 'Offset': 0, 'Value': 734912},\n",
            "   'Structure': 'IMAGE_IMPORT_DESCRIPTOR',\n",
            "   'TimeDateStamp': {'FileOffset': 729448,\n",
            "                     'Offset': 4,\n",
            "                     'Value': '0x0        [Thu Jan  1 00:00:00 1970 UTC]'}},\n",
            "  {'DLL': b'USER32.dll', 'Hint': 9, 'Name': b'AppendMenuA'},\n",
            "  {'DLL': b'USER32.dll', 'Hint': 14, 'Name': b'BeginPaint'},\n",
            "  {'DLL': b'USER32.dll', 'Hint': 62, 'Name': b'CheckDlgButton'},\n",
            "  {'DLL': b'USER32.dll', 'Hint': 63, 'Name': b'CheckMenuItem'},\n",
            "  {'DLL': b'USER32.dll', 'Hint': 67, 'Name': b'CheckRadioButton'},\n",
            "  {'DLL': b'USER32.dll', 'Hint': 75, 'Name': b'CloseClipboard'},\n",
            "  {'DLL': b'USER32.dll', 'Hint': 91, 'Name': b'CreateCaret'},\n",
            "  {'DLL': b'USER32.dll', 'Hint': 101, 'Name': b'CreateDialogParamA'},\n",
            "  {'DLL': b'USER32.dll', 'Hint': 109, 'Name': b'CreateMenu'},\n",
            "  {'DLL': b'USER32.dll', 'Hint': 110, 'Name': b'CreatePopupMenu'},\n",
            "  {'DLL': b'USER32.dll', 'Hint': 112, 'Name': b'CreateWindowExA'},\n",
            "  {'DLL': b'USER32.dll', 'Hint': 113, 'Name': b'CreateWindowExW'},\n",
            "  {'DLL': b'USER32.dll', 'Hint': 153, 'Name': b'DefDlgProcA'},\n",
            "  {'DLL': b'USER32.dll', 'Hint': 160, 'Name': b'DefWindowProcA'},\n",
            "  {'DLL': b'USER32.dll', 'Hint': 161, 'Name': b'DefWindowProcW'},\n",
            "  {'DLL': b'USER32.dll', 'Hint': 164, 'Name': b'DeleteMenu'},\n",
            "  {'DLL': b'USER32.dll', 'Hint': 167, 'Name': b'DestroyCaret'},\n",
            "  {'DLL': b'USER32.dll', 'Hint': 170, 'Name': b'DestroyIcon'},\n",
            "  {'DLL': b'USER32.dll', 'Hint': 173, 'Name': b'DestroyWindow'},\n",
            "  {'DLL': b'USER32.dll', 'Hint': 177, 'Name': b'DialogBoxParamA'},\n",
            "  {'DLL': b'USER32.dll', 'Hint': 180, 'Name': b'DispatchMessageA'},\n",
            "  {'DLL': b'USER32.dll', 'Hint': 181, 'Name': b'DispatchMessageW'},\n",
            "  {'DLL': b'USER32.dll', 'Hint': 201, 'Name': b'DrawEdge'},\n",
            "  {'DLL': b'USER32.dll', 'Hint': 206, 'Name': b'DrawIconEx'},\n",
            "  {'DLL': b'USER32.dll', 'Hint': 223, 'Name': b'EmptyClipboard'},\n",
            "  {'DLL': b'USER32.dll', 'Hint': 224, 'Name': b'EnableMenuItem'},\n",
            "  {'DLL': b'USER32.dll', 'Hint': 228, 'Name': b'EnableWindow'},\n",
            "  {'DLL': b'USER32.dll', 'Hint': 231, 'Name': b'EndDialog'},\n",
            "  {'DLL': b'USER32.dll', 'Hint': 233, 'Name': b'EndPaint'},\n",
            "  {'DLL': b'USER32.dll', 'Hint': 262, 'Name': b'FindWindowA'},\n",
            "  {'DLL': b'USER32.dll', 'Hint': 266, 'Name': b'FlashWindow'},\n",
            "  {'DLL': b'USER32.dll', 'Hint': 281, 'Name': b'GetCapture'},\n",
            "  {'DLL': b'USER32.dll', 'Hint': 282, 'Name': b'GetCaretBlinkTime'},\n",
            "  {'DLL': b'USER32.dll', 'Hint': 293, 'Name': b'GetClientRect'},\n",
            "  {'DLL': b'USER32.dll', 'Hint': 296, 'Name': b'GetClipboardData'},\n",
            "  {'DLL': b'USER32.dll', 'Hint': 299, 'Name': b'GetClipboardOwner'},\n",
            "  {'DLL': b'USER32.dll', 'Hint': 307, 'Name': b'GetCursorPos'},\n",
            "  {'DLL': b'USER32.dll', 'Hint': 308, 'Name': b'GetDC'},\n",
            "  {'DLL': b'USER32.dll', 'Hint': 311, 'Name': b'GetDesktopWindow'},\n",
            "  {'DLL': b'USER32.dll', 'Hint': 316, 'Name': b'GetDlgItem'},\n",
            "  {'DLL': b'USER32.dll', 'Hint': 318, 'Name': b'GetDlgItemTextA'},\n",
            "  {'DLL': b'USER32.dll', 'Hint': 320, 'Name': b'GetDoubleClickTime'},\n",
            "  {'DLL': b'USER32.dll', 'Hint': 323, 'Name': b'GetForegroundWindow'},\n",
            "  {'DLL': b'USER32.dll', 'Hint': 340, 'Name': b'GetKeyboardLayout'},\n",
            "  {'DLL': b'USER32.dll', 'Hint': 344, 'Name': b'GetKeyboardState'},\n",
            "  {'DLL': b'USER32.dll', 'Hint': 367, 'Name': b'GetMessageA'},\n",
            "  {'DLL': b'USER32.dll', 'Hint': 370, 'Name': b'GetMessageTime'},\n",
            "  {'DLL': b'USER32.dll', 'Hint': 378, 'Name': b'GetParent'},\n",
            "  {'DLL': b'USER32.dll', 'Hint': 407, 'Name': b'GetQueueStatus'},\n",
            "  {'DLL': b'USER32.dll', 'Hint': 417, 'Name': b'GetScrollInfo'},\n",
            "  {'DLL': b'USER32.dll', 'Hint': 423, 'Name': b'GetSysColor'},\n",
            "  {'DLL': b'USER32.dll', 'Hint': 425, 'Name': b'GetSystemMenu'},\n",
            "  {'DLL': b'USER32.dll', 'Hint': 426, 'Name': b'GetSystemMetrics'},\n",
            "  {'DLL': b'USER32.dll', 'Hint': 452, 'Name': b'GetWindowLongA'},\n",
            "  {'DLL': b'USER32.dll', 'Hint': 458, 'Name': b'GetWindowPlacement'},\n",
            "  {'DLL': b'USER32.dll', 'Hint': 459, 'Name': b'GetWindowRect'},\n",
            "  {'DLL': b'USER32.dll', 'Hint': 463, 'Name': b'GetWindowTextA'},\n",
            "  {'DLL': b'USER32.dll', 'Hint': 464, 'Name': b'GetWindowTextLengthA'},\n",
            "  {'DLL': b'USER32.dll', 'Hint': 472, 'Name': b'HideCaret'},\n",
            "  {'DLL': b'USER32.dll', 'Hint': 488, 'Name': b'InsertMenuA'},\n",
            "  {'DLL': b'USER32.dll', 'Hint': 495, 'Name': b'InvalidateRect'},\n",
            "  {'DLL': b'USER32.dll', 'Hint': 509, 'Name': b'IsDialogMessageA'},\n",
            "  {'DLL': b'USER32.dll', 'Hint': 511, 'Name': b'IsDlgButtonChecked'},\n",
            "  {'DLL': b'USER32.dll', 'Hint': 514, 'Name': b'IsIconic'},\n",
            "  {'DLL': b'USER32.dll', 'Hint': 529, 'Name': b'IsWindow'},\n",
            "  {'DLL': b'USER32.dll', 'Hint': 536, 'Name': b'IsZoomed'},\n",
            "  {'DLL': b'USER32.dll', 'Hint': 537, 'Name': b'KillTimer'},\n",
            "  {'DLL': b'USER32.dll', 'Hint': 542, 'Name': b'LoadCursorA'},\n",
            "  {'DLL': b'USER32.dll', 'Hint': 546, 'Name': b'LoadIconA'},\n",
            "  {'DLL': b'USER32.dll', 'Hint': 548, 'Name': b'LoadImageA'},\n",
            "  {'DLL': b'USER32.dll', 'Hint': 572, 'Name': b'MapDialogRect'},\n",
            "  {'DLL': b'USER32.dll', 'Hint': 581, 'Name': b'MessageBeep'},\n",
            "  {'DLL': b'USER32.dll', 'Hint': 582, 'Name': b'MessageBoxA'},\n",
            "  {'DLL': b'USER32.dll', 'Hint': 585, 'Name': b'MessageBoxIndirectA'},\n",
            "  {'DLL': b'USER32.dll', 'Hint': 595, 'Name': b'MoveWindow'},\n",
            "  {'DLL': b'USER32.dll', 'Hint': 596, 'Name': b'MsgWaitForMultipleObjects'},\n",
            "  {'DLL': b'USER32.dll', 'Hint': 606, 'Name': b'OpenClipboard'},\n",
            "  {'DLL': b'USER32.dll', 'Hint': 619, 'Name': b'PeekMessageA'},\n",
            "  {'DLL': b'USER32.dll', 'Hint': 620, 'Name': b'PeekMessageW'},\n",
            "  {'DLL': b'USER32.dll', 'Hint': 623, 'Name': b'PostMessageA'},\n",
            "  {'DLL': b'USER32.dll', 'Hint': 625, 'Name': b'PostQuitMessage'},\n",
            "  {'DLL': b'USER32.dll', 'Hint': 647, 'Name': b'RegisterClassA'},\n",
            "  {'DLL': b'USER32.dll', 'Hint': 650, 'Name': b'RegisterClassW'},\n",
            "  {'DLL': b'USER32.dll', 'Hint': 651, 'Name': b'RegisterClipboardFormatA'},\n",
            "  {'DLL': b'USER32.dll', 'Hint': 674, 'Name': b'RegisterWindowMessageA'},\n",
            "  {'DLL': b'USER32.dll', 'Hint': 676, 'Name': b'ReleaseCapture'},\n",
            "  {'DLL': b'USER32.dll', 'Hint': 677, 'Name': b'ReleaseDC'},\n",
            "  {'DLL': b'USER32.dll', 'Hint': 685, 'Name': b'ScreenToClient'},\n",
            "  {'DLL': b'USER32.dll', 'Hint': 690, 'Name': b'SendDlgItemMessageA'},\n",
            "  {'DLL': b'USER32.dll', 'Hint': 695, 'Name': b'SendMessageA'},\n",
            "  {'DLL': b'USER32.dll', 'Hint': 703, 'Name': b'SetActiveWindow'},\n",
            "  {'DLL': b'USER32.dll', 'Hint': 704, 'Name': b'SetCapture'},\n",
            "  {'DLL': b'USER32.dll', 'Hint': 706, 'Name': b'SetCaretPos'},\n",
            "  {'DLL': b'USER32.dll', 'Hint': 707, 'Name': b'SetClassLongA'},\n",
            "  {'DLL': b'USER32.dll', 'Hint': 710, 'Name': b'SetClipboardData'},\n",
            "  {'DLL': b'USER32.dll', 'Hint': 713, 'Name': b'SetCursor'},\n",
            "  {'DLL': b'USER32.dll', 'Hint': 721, 'Name': b'SetDlgItemTextA'},\n",
            "  {'DLL': b'USER32.dll', 'Hint': 724, 'Name': b'SetFocus'},\n",
            "  {'DLL': b'USER32.dll', 'Hint': 725, 'Name': b'SetForegroundWindow'},\n",
            "  {'DLL': b'USER32.dll', 'Hint': 729, 'Name': b'SetKeyboardState'},\n",
            "  {'DLL': b'USER32.dll', 'Hint': 757, 'Name': b'SetScrollInfo'},\n",
            "  {'DLL': b'USER32.dll', 'Hint': 769, 'Name': b'SetTimer'},\n",
            "  {'DLL': b'USER32.dll', 'Hint': 780, 'Name': b'SetWindowLongA'},\n",
            "  {'DLL': b'USER32.dll', 'Hint': 782, 'Name': b'SetWindowPlacement'},\n",
            "  {'DLL': b'USER32.dll', 'Hint': 783, 'Name': b'SetWindowPos'},\n",
            "  {'DLL': b'USER32.dll', 'Hint': 787, 'Name': b'SetWindowTextA'},\n",
            "  {'DLL': b'USER32.dll', 'Hint': 794, 'Name': b'ShowCaret'},\n",
            "  {'DLL': b'USER32.dll', 'Hint': 795, 'Name': b'ShowCursor'},\n",
            "  {'DLL': b'USER32.dll', 'Hint': 800, 'Name': b'ShowWindow'},\n",
            "  {'DLL': b'USER32.dll', 'Hint': 814, 'Name': b'SystemParametersInfoA'},\n",
            "  {'DLL': b'USER32.dll', 'Hint': 821, 'Name': b'ToAsciiEx'},\n",
            "  {'DLL': b'USER32.dll', 'Hint': 825, 'Name': b'TrackPopupMenu'},\n",
            "  {'DLL': b'USER32.dll', 'Hint': 831, 'Name': b'TranslateMessage'},\n",
            "  {'DLL': b'USER32.dll', 'Hint': 855, 'Name': b'UpdateWindow'}],\n",
            " [{'Characteristics': {'FileOffset': 729464, 'Offset': 0, 'Value': 735372},\n",
            "   'FirstThunk': {'FileOffset': 729480, 'Offset': 16, 'Value': 736692},\n",
            "   'ForwarderChain': {'FileOffset': 729472, 'Offset': 8, 'Value': 0},\n",
            "   'Name': {'FileOffset': 729476, 'Offset': 12, 'Value': 743049},\n",
            "   'OriginalFirstThunk': {'FileOffset': 729464, 'Offset': 0, 'Value': 735372},\n",
            "   'Structure': 'IMAGE_IMPORT_DESCRIPTOR',\n",
            "   'TimeDateStamp': {'FileOffset': 729468,\n",
            "                     'Offset': 4,\n",
            "                     'Value': '0x0        [Thu Jan  1 00:00:00 1970 UTC]'}},\n",
            "  {'DLL': b'COMDLG32.dll', 'Hint': 0, 'Name': b'ChooseColorA'},\n",
            "  {'DLL': b'COMDLG32.dll', 'Hint': 2, 'Name': b'ChooseFontA'},\n",
            "  {'DLL': b'COMDLG32.dll', 'Hint': 11, 'Name': b'GetOpenFileNameA'},\n",
            "  {'DLL': b'COMDLG32.dll', 'Hint': 13, 'Name': b'GetSaveFileNameA'}],\n",
            " [{'Characteristics': {'FileOffset': 729484, 'Offset': 0, 'Value': 735392},\n",
            "   'FirstThunk': {'FileOffset': 729500, 'Offset': 16, 'Value': 736712},\n",
            "   'ForwarderChain': {'FileOffset': 729492, 'Offset': 8, 'Value': 0},\n",
            "   'Name': {'FileOffset': 729496, 'Offset': 12, 'Value': 743062},\n",
            "   'OriginalFirstThunk': {'FileOffset': 729484, 'Offset': 0, 'Value': 735392},\n",
            "   'Structure': 'IMAGE_IMPORT_DESCRIPTOR',\n",
            "   'TimeDateStamp': {'FileOffset': 729488,\n",
            "                     'Offset': 4,\n",
            "                     'Value': '0x0        [Thu Jan  1 00:00:00 1970 UTC]'}},\n",
            "  {'DLL': b'SHELL32.dll', 'Hint': 307, 'Name': b'ShellExecuteA'}],\n",
            " [{'Characteristics': {'FileOffset': 729504, 'Offset': 0, 'Value': 735400},\n",
            "   'FirstThunk': {'FileOffset': 729520, 'Offset': 16, 'Value': 736720},\n",
            "   'ForwarderChain': {'FileOffset': 729512, 'Offset': 8, 'Value': 0},\n",
            "   'Name': {'FileOffset': 729516, 'Offset': 12, 'Value': 743074},\n",
            "   'OriginalFirstThunk': {'FileOffset': 729504, 'Offset': 0, 'Value': 735400},\n",
            "   'Structure': 'IMAGE_IMPORT_DESCRIPTOR',\n",
            "   'TimeDateStamp': {'FileOffset': 729508,\n",
            "                     'Offset': 4,\n",
            "                     'Value': '0x0        [Thu Jan  1 00:00:00 1970 UTC]'}},\n",
            "  {'DLL': b'ole32.dll', 'Hint': 26, 'Name': b'CoCreateInstance'},\n",
            "  {'DLL': b'ole32.dll', 'Hint': 79, 'Name': b'CoInitialize'},\n",
            "  {'DLL': b'ole32.dll', 'Hint': 127, 'Name': b'CoUninitialize'}],\n",
            " [{'Characteristics': {'FileOffset': 729524, 'Offset': 0, 'Value': 735416},\n",
            "   'FirstThunk': {'FileOffset': 729540, 'Offset': 16, 'Value': 736736},\n",
            "   'ForwarderChain': {'FileOffset': 729532, 'Offset': 8, 'Value': 0},\n",
            "   'Name': {'FileOffset': 729536, 'Offset': 12, 'Value': 743084},\n",
            "   'OriginalFirstThunk': {'FileOffset': 729524, 'Offset': 0, 'Value': 735416},\n",
            "   'Structure': 'IMAGE_IMPORT_DESCRIPTOR',\n",
            "   'TimeDateStamp': {'FileOffset': 729528,\n",
            "                     'Offset': 4,\n",
            "                     'Value': '0x0        [Thu Jan  1 00:00:00 1970 UTC]'}},\n",
            "  {'DLL': b'IMM32.dll', 'Hint': 57, 'Name': b'ImmGetCompositionStringW'},\n",
            "  {'DLL': b'IMM32.dll', 'Hint': 59, 'Name': b'ImmGetContext'},\n",
            "  {'DLL': b'IMM32.dll', 'Hint': 107, 'Name': b'ImmReleaseContext'},\n",
            "  {'DLL': b'IMM32.dll', 'Hint': 115, 'Name': b'ImmSetCompositionFontA'},\n",
            "  {'DLL': b'IMM32.dll', 'Hint': 119, 'Name': b'ImmSetCompositionWindow'}],\n",
            " [{'Characteristics': {'FileOffset': 729544, 'Offset': 0, 'Value': 735440},\n",
            "   'FirstThunk': {'FileOffset': 729560, 'Offset': 16, 'Value': 736760},\n",
            "   'ForwarderChain': {'FileOffset': 729552, 'Offset': 8, 'Value': 0},\n",
            "   'Name': {'FileOffset': 729556, 'Offset': 12, 'Value': 743094},\n",
            "   'OriginalFirstThunk': {'FileOffset': 729544, 'Offset': 0, 'Value': 735440},\n",
            "   'Structure': 'IMAGE_IMPORT_DESCRIPTOR',\n",
            "   'TimeDateStamp': {'FileOffset': 729548,\n",
            "                     'Offset': 4,\n",
            "                     'Value': '0x0        [Thu Jan  1 00:00:00 1970 UTC]'}},\n",
            "  {'DLL': b'ADVAPI32.dll', 'Hint': 32, 'Name': b'AllocateAndInitializeSid'},\n",
            "  {'DLL': b'ADVAPI32.dll', 'Hint': 133, 'Name': b'CopySid'},\n",
            "  {'DLL': b'ADVAPI32.dll', 'Hint': 280, 'Name': b'EqualSid'},\n",
            "  {'DLL': b'ADVAPI32.dll', 'Hint': 330, 'Name': b'GetLengthSid'},\n",
            "  {'DLL': b'ADVAPI32.dll', 'Hint': 377, 'Name': b'GetUserNameA'},\n",
            "  {'DLL': b'ADVAPI32.dll',\n",
            "   'Hint': 397,\n",
            "   'Name': b'InitializeSecurityDescriptor'},\n",
            "  {'DLL': b'ADVAPI32.dll', 'Hint': 596, 'Name': b'RegCloseKey'},\n",
            "  {'DLL': b'ADVAPI32.dll', 'Hint': 603, 'Name': b'RegCreateKeyA'},\n",
            "  {'DLL': b'ADVAPI32.dll', 'Hint': 604, 'Name': b'RegCreateKeyExA'},\n",
            "  {'DLL': b'ADVAPI32.dll', 'Hint': 609, 'Name': b'RegDeleteKeyA'},\n",
            "  {'DLL': b'ADVAPI32.dll', 'Hint': 619, 'Name': b'RegDeleteValueA'},\n",
            "  {'DLL': b'ADVAPI32.dll', 'Hint': 625, 'Name': b'RegEnumKeyA'},\n",
            "  {'DLL': b'ADVAPI32.dll', 'Hint': 643, 'Name': b'RegOpenKeyA'},\n",
            "  {'DLL': b'ADVAPI32.dll', 'Hint': 657, 'Name': b'RegQueryValueExA'},\n",
            "  {'DLL': b'ADVAPI32.dll', 'Hint': 673, 'Name': b'RegSetValueExA'},\n",
            "  {'DLL': b'ADVAPI32.dll', 'Hint': 735, 'Name': b'SetSecurityDescriptorDacl'},\n",
            "  {'DLL': b'ADVAPI32.dll', 'Hint': 737, 'Name': b'SetSecurityDescriptorOwner'}],\n",
            " [{'Characteristics': {'FileOffset': 729564, 'Offset': 0, 'Value': 735512},\n",
            "   'FirstThunk': {'FileOffset': 729580, 'Offset': 16, 'Value': 736832},\n",
            "   'ForwarderChain': {'FileOffset': 729572, 'Offset': 8, 'Value': 0},\n",
            "   'Name': {'FileOffset': 729576, 'Offset': 12, 'Value': 743107},\n",
            "   'OriginalFirstThunk': {'FileOffset': 729564, 'Offset': 0, 'Value': 735512},\n",
            "   'Structure': 'IMAGE_IMPORT_DESCRIPTOR',\n",
            "   'TimeDateStamp': {'FileOffset': 729568,\n",
            "                     'Offset': 4,\n",
            "                     'Value': '0x0        [Thu Jan  1 00:00:00 1970 UTC]'}},\n",
            "  {'DLL': b'KERNEL32.dll', 'Hint': 93, 'Name': b'Beep'},\n",
            "  {'DLL': b'KERNEL32.dll', 'Hint': 124, 'Name': b'ClearCommBreak'},\n",
            "  {'DLL': b'KERNEL32.dll', 'Hint': 127, 'Name': b'CloseHandle'},\n",
            "  {'DLL': b'KERNEL32.dll', 'Hint': 147, 'Name': b'CompareStringW'},\n",
            "  {'DLL': b'KERNEL32.dll', 'Hint': 148, 'Name': b'ConnectNamedPipe'},\n",
            "  {'DLL': b'KERNEL32.dll', 'Hint': 179, 'Name': b'CreateEventA'},\n",
            "  {'DLL': b'KERNEL32.dll', 'Hint': 186, 'Name': b'CreateFileA'},\n",
            "  {'DLL': b'KERNEL32.dll', 'Hint': 187, 'Name': b'CreateFileMappingA'},\n",
            "  {'DLL': b'KERNEL32.dll', 'Hint': 194, 'Name': b'CreateFileW'},\n",
            "  {'DLL': b'KERNEL32.dll', 'Hint': 206, 'Name': b'CreateMutexA'},\n",
            "  {'DLL': b'KERNEL32.dll', 'Hint': 210, 'Name': b'CreateNamedPipeA'},\n",
            "  {'DLL': b'KERNEL32.dll', 'Hint': 212, 'Name': b'CreatePipe'},\n",
            "  {'DLL': b'KERNEL32.dll', 'Hint': 215, 'Name': b'CreateProcessA'},\n",
            "  {'DLL': b'KERNEL32.dll', 'Hint': 232, 'Name': b'CreateThread'},\n",
            "  {'DLL': b'KERNEL32.dll', 'Hint': 254, 'Name': b'DecodePointer'},\n",
            "  {'DLL': b'KERNEL32.dll', 'Hint': 261, 'Name': b'DeleteCriticalSection'},\n",
            "  {'DLL': b'KERNEL32.dll', 'Hint': 263, 'Name': b'DeleteFileA'},\n",
            "  {'DLL': b'KERNEL32.dll', 'Hint': 293, 'Name': b'EnterCriticalSection'},\n",
            "  {'DLL': b'KERNEL32.dll', 'Hint': 337, 'Name': b'ExitProcess'},\n",
            "  {'DLL': b'KERNEL32.dll', 'Hint': 360, 'Name': b'FindClose'},\n",
            "  {'DLL': b'KERNEL32.dll', 'Hint': 364, 'Name': b'FindFirstFileA'},\n",
            "  {'DLL': b'KERNEL32.dll', 'Hint': 365, 'Name': b'FindFirstFileExA'},\n",
            "  {'DLL': b'KERNEL32.dll', 'Hint': 381, 'Name': b'FindNextFileA'},\n",
            "  {'DLL': b'KERNEL32.dll', 'Hint': 390, 'Name': b'FindResourceA'},\n",
            "  {'DLL': b'KERNEL32.dll', 'Hint': 402, 'Name': b'FlushFileBuffers'},\n",
            "  {'DLL': b'KERNEL32.dll', 'Hint': 409, 'Name': b'FormatMessageA'},\n",
            "  {'DLL': b'KERNEL32.dll', 'Hint': 413, 'Name': b'FreeEnvironmentStringsW'},\n",
            "  {'DLL': b'KERNEL32.dll', 'Hint': 414, 'Name': b'FreeLibrary'},\n",
            "  {'DLL': b'KERNEL32.dll', 'Hint': 420, 'Name': b'GetACP'},\n",
            "  {'DLL': b'KERNEL32.dll', 'Hint': 435, 'Name': b'GetCPInfo'},\n",
            "  {'DLL': b'KERNEL32.dll', 'Hint': 454, 'Name': b'GetCommState'},\n",
            "  {'DLL': b'KERNEL32.dll', 'Hint': 456, 'Name': b'GetCommandLineA'},\n",
            "  {'DLL': b'KERNEL32.dll', 'Hint': 457, 'Name': b'GetCommandLineW'},\n",
            "  {'DLL': b'KERNEL32.dll', 'Hint': 476, 'Name': b'GetConsoleCP'},\n",
            "  {'DLL': b'KERNEL32.dll', 'Hint': 494, 'Name': b'GetConsoleMode'},\n",
            "  {'DLL': b'KERNEL32.dll', 'Hint': 514, 'Name': b'GetCurrentDirectoryA'},\n",
            "  {'DLL': b'KERNEL32.dll', 'Hint': 521, 'Name': b'GetCurrentProcess'},\n",
            "  {'DLL': b'KERNEL32.dll', 'Hint': 522, 'Name': b'GetCurrentProcessId'},\n",
            "  {'DLL': b'KERNEL32.dll', 'Hint': 525, 'Name': b'GetCurrentThread'},\n",
            "  {'DLL': b'KERNEL32.dll', 'Hint': 526, 'Name': b'GetCurrentThreadId'},\n",
            "  {'DLL': b'KERNEL32.dll', 'Hint': 531, 'Name': b'GetDateFormatW'},\n",
            "  {'DLL': b'KERNEL32.dll', 'Hint': 551, 'Name': b'GetEnvironmentStringsW'},\n",
            "  {'DLL': b'KERNEL32.dll', 'Hint': 552, 'Name': b'GetEnvironmentVariableA'},\n",
            "  {'DLL': b'KERNEL32.dll', 'Hint': 561, 'Name': b'GetFileAttributesExA'},\n",
            "  {'DLL': b'KERNEL32.dll', 'Hint': 574, 'Name': b'GetFileType'},\n",
            "  {'DLL': b'KERNEL32.dll', 'Hint': 592, 'Name': b'GetLastError'},\n",
            "  {'DLL': b'KERNEL32.dll', 'Hint': 593, 'Name': b'GetLocalTime'},\n",
            "  {'DLL': b'KERNEL32.dll', 'Hint': 594, 'Name': b'GetLocaleInfoA'},\n",
            "  {'DLL': b'KERNEL32.dll', 'Hint': 610, 'Name': b'GetModuleFileNameA'},\n",
            "  {'DLL': b'KERNEL32.dll', 'Hint': 611, 'Name': b'GetModuleFileNameW'},\n",
            "  {'DLL': b'KERNEL32.dll', 'Hint': 612, 'Name': b'GetModuleHandleA'},\n",
            "  {'DLL': b'KERNEL32.dll', 'Hint': 614, 'Name': b'GetModuleHandleExW'},\n",
            "  {'DLL': b'KERNEL32.dll', 'Hint': 615, 'Name': b'GetModuleHandleW'},\n",
            "  {'DLL': b'KERNEL32.dll', 'Hint': 646, 'Name': b'GetOEMCP'},\n",
            "  {'DLL': b'KERNEL32.dll', 'Hint': 647, 'Name': b'GetOverlappedResult'},\n",
            "  {'DLL': b'KERNEL32.dll', 'Hint': 669, 'Name': b'GetProcAddress'},\n",
            "  {'DLL': b'KERNEL32.dll', 'Hint': 674, 'Name': b'GetProcessHeap'},\n",
            "  {'DLL': b'KERNEL32.dll', 'Hint': 684, 'Name': b'GetProcessTimes'},\n",
            "  {'DLL': b'KERNEL32.dll', 'Hint': 702, 'Name': b'GetStartupInfoW'},\n",
            "  {'DLL': b'KERNEL32.dll', 'Hint': 704, 'Name': b'GetStdHandle'},\n",
            "  {'DLL': b'KERNEL32.dll', 'Hint': 709, 'Name': b'GetStringTypeW'},\n",
            "  {'DLL': b'KERNEL32.dll', 'Hint': 716, 'Name': b'GetSystemDirectoryA'},\n",
            "  {'DLL': b'KERNEL32.dll', 'Hint': 726, 'Name': b'GetSystemTimeAsFileTime'},\n",
            "  {'DLL': b'KERNEL32.dll', 'Hint': 738, 'Name': b'GetTempPathA'},\n",
            "  {'DLL': b'KERNEL32.dll', 'Hint': 752, 'Name': b'GetThreadTimes'},\n",
            "  {'DLL': b'KERNEL32.dll', 'Hint': 754, 'Name': b'GetTickCount'},\n",
            "  {'DLL': b'KERNEL32.dll', 'Hint': 759, 'Name': b'GetTimeFormatW'},\n",
            "  {'DLL': b'KERNEL32.dll', 'Hint': 761, 'Name': b'GetTimeZoneInformation'},\n",
            "  {'DLL': b'KERNEL32.dll', 'Hint': 772, 'Name': b'GetVersionExA'},\n",
            "  {'DLL': b'KERNEL32.dll', 'Hint': 783, 'Name': b'GetWindowsDirectoryA'},\n",
            "  {'DLL': b'KERNEL32.dll', 'Hint': 791, 'Name': b'GlobalAlloc'},\n",
            "  {'DLL': b'KERNEL32.dll', 'Hint': 798, 'Name': b'GlobalFree'},\n",
            "  {'DLL': b'KERNEL32.dll', 'Hint': 802, 'Name': b'GlobalLock'},\n",
            "  {'DLL': b'KERNEL32.dll', 'Hint': 803, 'Name': b'GlobalMemoryStatus'},\n",
            "  {'DLL': b'KERNEL32.dll', 'Hint': 809, 'Name': b'GlobalUnlock'},\n",
            "  {'DLL': b'KERNEL32.dll', 'Hint': 815, 'Name': b'HeapAlloc'},\n",
            "  {'DLL': b'KERNEL32.dll', 'Hint': 819, 'Name': b'HeapFree'},\n",
            "  {'DLL': b'KERNEL32.dll', 'Hint': 822, 'Name': b'HeapReAlloc'},\n",
            "  {'DLL': b'KERNEL32.dll', 'Hint': 824, 'Name': b'HeapSize'},\n",
            "  {'DLL': b'KERNEL32.dll',\n",
            "   'Hint': 840,\n",
            "   'Name': b'InitializeCriticalSectionAndSpinCount'},\n",
            "  {'DLL': b'KERNEL32.dll', 'Hint': 843, 'Name': b'InitializeSListHead'},\n",
            "  {'DLL': b'KERNEL32.dll', 'Hint': 870, 'Name': b'IsDBCSLeadByteEx'},\n",
            "  {'DLL': b'KERNEL32.dll', 'Hint': 871, 'Name': b'IsDebuggerPresent'},\n",
            "  {'DLL': b'KERNEL32.dll', 'Hint': 877, 'Name': b'IsProcessorFeaturePresent'},\n",
            "  {'DLL': b'KERNEL32.dll', 'Hint': 882, 'Name': b'IsValidCodePage'},\n",
            "  {'DLL': b'KERNEL32.dll', 'Hint': 918, 'Name': b'LCMapStringW'},\n",
            "  {'DLL': b'KERNEL32.dll', 'Hint': 930, 'Name': b'LeaveCriticalSection'},\n",
            "  {'DLL': b'KERNEL32.dll', 'Hint': 933, 'Name': b'LoadLibraryA'},\n",
            "  {'DLL': b'KERNEL32.dll', 'Hint': 934, 'Name': b'LoadLibraryExA'},\n",
            "  {'DLL': b'KERNEL32.dll', 'Hint': 935, 'Name': b'LoadLibraryExW'},\n",
            "  {'DLL': b'KERNEL32.dll', 'Hint': 939, 'Name': b'LoadResource'},\n",
            "  {'DLL': b'KERNEL32.dll', 'Hint': 942, 'Name': b'LocalAlloc'},\n",
            "  {'DLL': b'KERNEL32.dll', 'Hint': 944, 'Name': b'LocalFileTimeToFileTime'},\n",
            "  {'DLL': b'KERNEL32.dll', 'Hint': 946, 'Name': b'LocalFree'},\n",
            "  {'DLL': b'KERNEL32.dll', 'Hint': 957, 'Name': b'LockResource'},\n",
            "  {'DLL': b'KERNEL32.dll', 'Hint': 960, 'Name': b'MapViewOfFile'},\n",
            "  {'DLL': b'KERNEL32.dll', 'Hint': 976, 'Name': b'MulDiv'},\n",
            "  {'DLL': b'KERNEL32.dll', 'Hint': 977, 'Name': b'MultiByteToWideChar'},\n",
            "  {'DLL': b'KERNEL32.dll', 'Hint': 1006, 'Name': b'OpenProcess'},\n",
            "  {'DLL': b'KERNEL32.dll', 'Hint': 1018, 'Name': b'OutputDebugStringW'},\n",
            "  {'DLL': b'KERNEL32.dll', 'Hint': 1069, 'Name': b'QueryPerformanceCounter'},\n",
            "  {'DLL': b'KERNEL32.dll', 'Hint': 1088, 'Name': b'RaiseException'},\n",
            "  {'DLL': b'KERNEL32.dll', 'Hint': 1102, 'Name': b'ReadConsoleW'},\n",
            "  {'DLL': b'KERNEL32.dll', 'Hint': 1104, 'Name': b'ReadFile'},\n",
            "  {'DLL': b'KERNEL32.dll', 'Hint': 1164, 'Name': b'ReleaseMutex'},\n",
            "  {'DLL': b'KERNEL32.dll', 'Hint': 1197, 'Name': b'RtlUnwind'},\n",
            "  {'DLL': b'KERNEL32.dll', 'Hint': 1207, 'Name': b'SetCommBreak'},\n",
            "  {'DLL': b'KERNEL32.dll', 'Hint': 1210, 'Name': b'SetCommState'},\n",
            "  {'DLL': b'KERNEL32.dll', 'Hint': 1211, 'Name': b'SetCommTimeouts'},\n",
            "  {'DLL': b'KERNEL32.dll', 'Hint': 1250, 'Name': b'SetCurrentDirectoryA'},\n",
            "  {'DLL': b'KERNEL32.dll', 'Hint': 1258, 'Name': b'SetEndOfFile'},\n",
            "  {'DLL': b'KERNEL32.dll', 'Hint': 1261, 'Name': b'SetEnvironmentVariableA'},\n",
            "  {'DLL': b'KERNEL32.dll', 'Hint': 1264, 'Name': b'SetEvent'},\n",
            "  {'DLL': b'KERNEL32.dll', 'Hint': 1277, 'Name': b'SetFilePointerEx'},\n",
            "  {'DLL': b'KERNEL32.dll', 'Hint': 1288, 'Name': b'SetHandleInformation'},\n",
            "  {'DLL': b'KERNEL32.dll', 'Hint': 1291, 'Name': b'SetLastError'},\n",
            "  {'DLL': b'KERNEL32.dll', 'Hint': 1314, 'Name': b'SetStdHandle'},\n",
            "  {'DLL': b'KERNEL32.dll',\n",
            "   'Hint': 1347,\n",
            "   'Name': b'SetUnhandledExceptionFilter'},\n",
            "  {'DLL': b'KERNEL32.dll', 'Hint': 1361, 'Name': b'SizeofResource'},\n",
            "  {'DLL': b'KERNEL32.dll', 'Hint': 1377, 'Name': b'TerminateProcess'},\n",
            "  {'DLL': b'KERNEL32.dll', 'Hint': 1395, 'Name': b'TlsAlloc'},\n",
            "  {'DLL': b'KERNEL32.dll', 'Hint': 1396, 'Name': b'TlsFree'},\n",
            "  {'DLL': b'KERNEL32.dll', 'Hint': 1397, 'Name': b'TlsGetValue'},\n",
            "  {'DLL': b'KERNEL32.dll', 'Hint': 1398, 'Name': b'TlsSetValue'},\n",
            "  {'DLL': b'KERNEL32.dll', 'Hint': 1410, 'Name': b'UnhandledExceptionFilter'},\n",
            "  {'DLL': b'KERNEL32.dll', 'Hint': 1413, 'Name': b'UnmapViewOfFile'},\n",
            "  {'DLL': b'KERNEL32.dll', 'Hint': 1451, 'Name': b'WaitForSingleObject'},\n",
            "  {'DLL': b'KERNEL32.dll', 'Hint': 1452, 'Name': b'WaitForSingleObjectEx'},\n",
            "  {'DLL': b'KERNEL32.dll', 'Hint': 1457, 'Name': b'WaitNamedPipeA'},\n",
            "  {'DLL': b'KERNEL32.dll', 'Hint': 1485, 'Name': b'WideCharToMultiByte'},\n",
            "  {'DLL': b'KERNEL32.dll', 'Hint': 1504, 'Name': b'WriteConsoleW'},\n",
            "  {'DLL': b'KERNEL32.dll', 'Hint': 1505, 'Name': b'WriteFile'}]]\n"
          ],
          "name": "stdout"
        }
      ]
    },
    {
      "cell_type": "markdown",
      "metadata": {
        "id": "sqW1y5EdRVyR",
        "colab_type": "text"
      },
      "source": [
        "### Analyze the downloaded data"
      ]
    },
    {
      "cell_type": "code",
      "metadata": {
        "id": "V9z5APWLRaKu",
        "colab_type": "code",
        "outputId": "e7c02445-7cb3-46a6-d83c-72772fefa60e",
        "colab": {
          "base_uri": "https://localhost:8080/",
          "height": 34
        }
      },
      "source": [
        "# Now pef_dumpdict is what we want you to analyze.\n",
        "# It combines 40 malware's pefile.dump_dict().\n",
        "\n",
        "print(len(pef_dumpdicts))"
      ],
      "execution_count": 0,
      "outputs": [
        {
          "output_type": "stream",
          "text": [
            "40\n"
          ],
          "name": "stdout"
        }
      ]
    },
    {
      "cell_type": "code",
      "metadata": {
        "id": "UOOJPk9URpTI",
        "colab_type": "code",
        "outputId": "158b6e24-2fbd-4b0f-97fd-f10c25eda596",
        "colab": {
          "base_uri": "https://localhost:8080/",
          "height": 689
        }
      },
      "source": [
        "# The id of the 40 malwares are\n",
        "for key in pef_dumpdicts.keys():\n",
        "  print(key)"
      ],
      "execution_count": 0,
      "outputs": [
        {
          "output_type": "stream",
          "text": [
            "07edeebc14b053fffdfb4dcc08959360\n",
            "0cfab9961285ab6e04f449c6d09cec37\n",
            "2c1e90810ca30865cbf4440118c4aa0f\n",
            "412c8d4d6afc88391e6dad508106681a\n",
            "656f628856a62f1dc14748bff4cee2e5\n",
            "8595c554539a172534c95222260650e5\n",
            "88b666fd4ef1c21f4051ad3f859ee5bd\n",
            "8aa66c2a430c3545c542e8419de13385\n",
            "e776d8d8d187bdb68f41dc9ccfc86444\n",
            "ed1304342c5794cb0a55840253793b45\n",
            "2650e58a609438ba18706f539b49a6af\n",
            "2a5932a800123709eff21dbd2310e090\n",
            "4271ba51876b1e931dd55b2ccff25789\n",
            "52cae62ada8b02adae128e35686cbc16\n",
            "774b71a232568ca7ea09c0a26b82f8e5\n",
            "7b57508defc0934c69b98544b4bac185\n",
            "8081b6b58cc3372ad62a5d8b6ce09c0b\n",
            "8e6d8d46e4a7482b9475e6c5b211dc61\n",
            "b4e89348aa9b635b8edce746f8231303\n",
            "e0ad769d1bd2b9b6444796f99b52a43f\n",
            "0c6e68a34804df907df26d7139b1f052\n",
            "0e751a5b6db31895c283ddd9757477de\n",
            "0f74a58af435599ec94eff2b72d5e55e\n",
            "1d0ce31c6d7129a74e2921e8d161c752\n",
            "2cceeae738cae520544e9d9fda9ca30e\n",
            "2ea5285f04bc9a0b3008165779a382ec\n",
            "2f45c7132f623cd7caea6d7965d53a0f\n",
            "3b569cd1c63b83446420dd798a8622b7\n",
            "3f07e530430d1d450bfeaf0a595109b1\n",
            "4aa9b2104ac7c7602c4258a0f7ce2b44\n",
            "17af47cdfd7c327ebfc2ab21221fee03\n",
            "1f6bcbaaefaec970de211d47c7c57854\n",
            "573054f5a9b74edc86ede736876bcb57\n",
            "60c4a8055b75c25d60932d1e6c34e05a\n",
            "6a3943016197db960f00e27f1b154093\n",
            "6db56b93657419ea946b2db489d88908\n",
            "91e8fe3c2623eaea8ec8027564a857d5\n",
            "bc28e599e69d23edcb60b0dd5b428f6f\n",
            "d32c82e4632a1e6656b05678ae5560fd\n",
            "ec34196b53dd111997b88eaa2920b7f4\n"
          ],
          "name": "stdout"
        }
      ]
    },
    {
      "cell_type": "code",
      "metadata": {
        "id": "tOT-d-X_R2G6",
        "colab_type": "code",
        "outputId": "9b2b4f8e-0399-43de-bb9a-ba6304266154",
        "colab": {
          "base_uri": "https://localhost:8080/",
          "height": 171
        }
      },
      "source": [
        "# so the fist dump_dict is\n",
        "first_dict = pef_dumpdicts['07edeebc14b053fffdfb4dcc08959360']\n",
        "\n",
        "# you can now access the data you want\n",
        "# for example print all sections and their info.\n",
        "for sec in first_dict['PE Sections']:\n",
        "  print(sec)\n",
        "\n",
        "# or like this (as what we see in pefile demonstration)\n",
        "print(\"\\nName, Misc_VirtualSize, SizeOfRawData, Entropy, MD5\")\n",
        "for sec in first_dict['PE Sections']:\n",
        "  print(sec['Name']['Value'], sec['Misc_VirtualSize']['Value'], sec['SizeOfRawData']['Value'], sec['Entropy'], sec['MD5'])"
      ],
      "execution_count": 0,
      "outputs": [
        {
          "output_type": "stream",
          "text": [
            "{'Structure': 'IMAGE_SECTION_HEADER', 'Name': {'FileOffset': 464, 'Offset': 0, 'Value': 'UPX0\\\\x00\\\\x00\\\\x00\\\\x00'}, 'Misc': {'FileOffset': 472, 'Offset': 8, 'Value': 20480}, 'Misc_PhysicalAddress': {'FileOffset': 472, 'Offset': 8, 'Value': 20480}, 'Misc_VirtualSize': {'FileOffset': 472, 'Offset': 8, 'Value': 20480}, 'VirtualAddress': {'FileOffset': 476, 'Offset': 12, 'Value': 4096}, 'SizeOfRawData': {'FileOffset': 480, 'Offset': 16, 'Value': 0}, 'PointerToRawData': {'FileOffset': 484, 'Offset': 20, 'Value': 1024}, 'PointerToRelocations': {'FileOffset': 488, 'Offset': 24, 'Value': 0}, 'PointerToLinenumbers': {'FileOffset': 492, 'Offset': 28, 'Value': 0}, 'NumberOfRelocations': {'FileOffset': 496, 'Offset': 32, 'Value': 0}, 'NumberOfLinenumbers': {'FileOffset': 498, 'Offset': 34, 'Value': 0}, 'Characteristics': {'FileOffset': 500, 'Offset': 36, 'Value': 3758096512}, 'Flags': ['IMAGE_SCN_CNT_UNINITIALIZED_DATA', 'IMAGE_SCN_MEM_EXECUTE', 'IMAGE_SCN_MEM_READ', 'IMAGE_SCN_MEM_WRITE'], 'Entropy': 0.0, 'MD5': 'd41d8cd98f00b204e9800998ecf8427e', 'SHA1': 'da39a3ee5e6b4b0d3255bfef95601890afd80709', 'SHA256': 'e3b0c44298fc1c149afbf4c8996fb92427ae41e4649b934ca495991b7852b855', 'SHA512': 'cf83e1357eefb8bdf1542850d66d8007d620e4050b5715dc83f4a921d36ce9ce47d0d13c5d85f2b0ff8318d2877eec2f63b931bd47417a81a538327af927da3e'}\n",
            "{'Structure': 'IMAGE_SECTION_HEADER', 'Name': {'FileOffset': 504, 'Offset': 0, 'Value': 'UPX1\\\\x00\\\\x00\\\\x00\\\\x00'}, 'Misc': {'FileOffset': 512, 'Offset': 8, 'Value': 8192}, 'Misc_PhysicalAddress': {'FileOffset': 512, 'Offset': 8, 'Value': 8192}, 'Misc_VirtualSize': {'FileOffset': 512, 'Offset': 8, 'Value': 8192}, 'VirtualAddress': {'FileOffset': 516, 'Offset': 12, 'Value': 24576}, 'SizeOfRawData': {'FileOffset': 520, 'Offset': 16, 'Value': 7680}, 'PointerToRawData': {'FileOffset': 524, 'Offset': 20, 'Value': 1024}, 'PointerToRelocations': {'FileOffset': 528, 'Offset': 24, 'Value': 0}, 'PointerToLinenumbers': {'FileOffset': 532, 'Offset': 28, 'Value': 0}, 'NumberOfRelocations': {'FileOffset': 536, 'Offset': 32, 'Value': 0}, 'NumberOfLinenumbers': {'FileOffset': 538, 'Offset': 34, 'Value': 0}, 'Characteristics': {'FileOffset': 540, 'Offset': 36, 'Value': 3758096480}, 'Flags': ['IMAGE_SCN_CNT_CODE', 'IMAGE_SCN_CNT_INITIALIZED_DATA', 'IMAGE_SCN_MEM_EXECUTE', 'IMAGE_SCN_MEM_READ', 'IMAGE_SCN_MEM_WRITE'], 'Entropy': 7.902853096944673, 'MD5': '99b34761df700a7b4dbdcb53733675af', 'SHA1': '31ac1e3b861f35375e93afcefbf5ee8f834ec07c', 'SHA256': 'dfc82f58da6e8c5a88910a50aaf2b7f9fbb3dcaa1b07379ea809438efdc1cc9d', 'SHA512': '308a94d7ff014068b8701828979859c6a56363051b5f74a049bbf73d2e6d663c0ab511a4fe3a62444e16d9f69524c8df4d1968f6d18cfa5367ac4bd7187c6956'}\n",
            "{'Structure': 'IMAGE_SECTION_HEADER', 'Name': {'FileOffset': 544, 'Offset': 0, 'Value': 'UPX2\\\\x00\\\\x00\\\\x00\\\\x00'}, 'Misc': {'FileOffset': 552, 'Offset': 8, 'Value': 8192}, 'Misc_PhysicalAddress': {'FileOffset': 552, 'Offset': 8, 'Value': 8192}, 'Misc_VirtualSize': {'FileOffset': 552, 'Offset': 8, 'Value': 8192}, 'VirtualAddress': {'FileOffset': 556, 'Offset': 12, 'Value': 32768}, 'SizeOfRawData': {'FileOffset': 560, 'Offset': 16, 'Value': 1024}, 'PointerToRawData': {'FileOffset': 564, 'Offset': 20, 'Value': 8704}, 'PointerToRelocations': {'FileOffset': 568, 'Offset': 24, 'Value': 0}, 'PointerToLinenumbers': {'FileOffset': 572, 'Offset': 28, 'Value': 0}, 'NumberOfRelocations': {'FileOffset': 576, 'Offset': 32, 'Value': 0}, 'NumberOfLinenumbers': {'FileOffset': 578, 'Offset': 34, 'Value': 0}, 'Characteristics': {'FileOffset': 580, 'Offset': 36, 'Value': 3758096480}, 'Flags': ['IMAGE_SCN_CNT_CODE', 'IMAGE_SCN_CNT_INITIALIZED_DATA', 'IMAGE_SCN_MEM_EXECUTE', 'IMAGE_SCN_MEM_READ', 'IMAGE_SCN_MEM_WRITE'], 'Entropy': 2.6755684369499013, 'MD5': '1139f90a792caa1154e9908f13fe19ef', 'SHA1': '494983fe50ae27c98f7edfda300e73833e2f9fc6', 'SHA256': '132782397e571aa500143cd152e28c7b4927ac23545f5cfc15f2b864fd7850c0', 'SHA512': '28c524834ee6b1de70067ba4664768834174694107646df40bd9283b5fbd742e127908d4434bd9a80886030f687efad19fd4963165b3b04b47e265cbdbfa3b3a'}\n",
            "\n",
            "Name, Misc_VirtualSize, SizeOfRawData, Entropy, MD5\n",
            "UPX0\\x00\\x00\\x00\\x00 20480 0 0.0 d41d8cd98f00b204e9800998ecf8427e\n",
            "UPX1\\x00\\x00\\x00\\x00 8192 7680 7.902853096944673 99b34761df700a7b4dbdcb53733675af\n",
            "UPX2\\x00\\x00\\x00\\x00 8192 1024 2.6755684369499013 1139f90a792caa1154e9908f13fe19ef\n"
          ],
          "name": "stdout"
        }
      ]
    },
    {
      "cell_type": "code",
      "metadata": {
        "id": "91l0xXqYTfbJ",
        "colab_type": "code",
        "outputId": "88980133-6478-46cb-b46b-73d7dfdf6b35",
        "colab": {
          "base_uri": "https://localhost:8080/",
          "height": 185
        }
      },
      "source": [
        "# Here you can output the dll and windows api used by a pe file\n",
        "# You may print dump_dict['Imported symbols'] first\n",
        "# and try to locate the info you want to retrive.\n",
        "\n",
        "api_dict = dict()\n",
        "for records in first_dict['Imported symbols']:\n",
        "  for record in records:\n",
        "    if 'Name' in record:\n",
        "      if isinstance(record['Name'], bytes):\n",
        "        dll = record['DLL'].decode(\"ascii\")\n",
        "        name = record['Name'].decode(\"ascii\")\n",
        "        if dll not in api_dict:\n",
        "          api_dict[dll] = set()\n",
        "        api_dict[dll].add(name)\n",
        "\n",
        "for dll in api_dict:\n",
        "  print(dll)\n",
        "  print(\"\", api_dict[dll])"
      ],
      "execution_count": 0,
      "outputs": [
        {
          "output_type": "stream",
          "text": [
            "KERNEL32.DLL\n",
            " {'LoadLibraryA', 'GetProcAddress', 'ExitProcess'}\n",
            "ADVAPI32.dll\n",
            " {'RegCloseKey'}\n",
            "MSVCRT.dll\n",
            " {'rand'}\n",
            "USER32.dll\n",
            " {'wsprintfA'}\n",
            "WININET.dll\n",
            " {'InternetOpenA'}\n"
          ],
          "name": "stdout"
        }
      ]
    },
    {
      "cell_type": "markdown",
      "metadata": {
        "id": "wO_ubYtCWcer",
        "colab_type": "text"
      },
      "source": [
        "### Extract more information\n",
        "\n",
        "Now its your turn.\n",
        "Try to buld a feature table for these 40 malwares.\n",
        "Here is an example for api call."
      ]
    },
    {
      "cell_type": "code",
      "metadata": {
        "id": "fm8pQyFrWuB6",
        "colab_type": "code",
        "colab": {}
      },
      "source": [
        "api_set = set()\n",
        "for key in pef_dumpdicts.keys(): # iter 40 malwares\n",
        "  pef_dump_dict = pef_dumpdicts[key]\n",
        "  for records in pef_dump_dict['Imported symbols']:\n",
        "    for record in records:\n",
        "      if 'Name' in record:\n",
        "        if isinstance(record['Name'], bytes):\n",
        "          name = record['Name'].decode(\"ascii\")\n",
        "          api_set.add(name)\n",
        "\n",
        "api_list = list(api_set) "
      ],
      "execution_count": 0,
      "outputs": []
    },
    {
      "cell_type": "code",
      "metadata": {
        "id": "V_mcz6G5jRlZ",
        "colab_type": "code",
        "outputId": "abe72af8-53b4-4698-b7fc-0743cf070703",
        "colab": {
          "base_uri": "https://localhost:8080/",
          "height": 134
        }
      },
      "source": [
        "api_list"
      ],
      "execution_count": 0,
      "outputs": [
        {
          "output_type": "execute_result",
          "data": {
            "text/plain": [
              "['InternetOpenA',\n",
              " 'LoadLibraryA',\n",
              " 'RegCloseKey',\n",
              " 'rand',\n",
              " 'GetProcAddress',\n",
              " 'ExitProcess',\n",
              " 'wsprintfA']"
            ]
          },
          "metadata": {
            "tags": []
          },
          "execution_count": 17
        }
      ]
    },
    {
      "cell_type": "markdown",
      "metadata": {
        "id": "8PpRf7Jnj4UI",
        "colab_type": "text"
      },
      "source": [
        "Now you find an interesting thing, that all 40 malwares calls these 7 APIs. So it is impossible to distinguish them by using these 7 APIs. So please try to use some other features."
      ]
    },
    {
      "cell_type": "markdown",
      "metadata": {
        "id": "fi5esIstkNBe",
        "colab_type": "text"
      },
      "source": [
        "Hint #1: these malwares are packed. UPX may unpacked them.\n",
        "\n",
        "Hint #2: these 40 malware samples are from 4 families. Can you classify or cluster them into 4 groups?"
      ]
    },
    {
      "cell_type": "markdown",
      "metadata": {
        "id": "ET51zJ2MkLKo",
        "colab_type": "text"
      },
      "source": [
        "### Your solution"
      ]
    },
    {
      "cell_type": "code",
      "metadata": {
        "id": "37mrikPNY6pn",
        "colab_type": "code",
        "colab": {}
      },
      "source": [
        "import pandas as pd"
      ],
      "execution_count": 0,
      "outputs": []
    },
    {
      "cell_type": "code",
      "metadata": {
        "id": "uM4tan2jOT8g",
        "colab_type": "code",
        "outputId": "9f58a051-37a6-4422-f5fe-f903e3524bbf",
        "colab": {
          "base_uri": "https://localhost:8080/",
          "height": 34
        }
      },
      "source": [
        "pef_dumpdicts['0cfab9961285ab6e04f449c6d09cec37'].keys()"
      ],
      "execution_count": 0,
      "outputs": [
        {
          "output_type": "execute_result",
          "data": {
            "text/plain": [
              "dict_keys(['Parsing Warnings', 'DOS_HEADER', 'NT_HEADERS', 'FILE_HEADER', 'Flags', 'OPTIONAL_HEADER', 'DllCharacteristics', 'PE Sections', 'Directories', 'Imported symbols'])"
            ]
          },
          "metadata": {
            "tags": []
          },
          "execution_count": 19
        }
      ]
    },
    {
      "cell_type": "code",
      "metadata": {
        "id": "7bGtzQa3cPQo",
        "colab_type": "code",
        "colab": {}
      },
      "source": [
        "# 用工人智慧選擇這些feature\n",
        "index = pef_dumpdicts.keys()\n",
        "pe_section2_MD5 = [pef_dumpdicts[key]['PE Sections'][1]['MD5'] for key in index]\n",
        "pe_section2_entropy = [pef_dumpdicts[key]['PE Sections'][1]['Entropy'] for key in index]\n",
        "pe_section3_entropy = [pef_dumpdicts[key]['PE Sections'][2]['Entropy'] for key in index]\n",
        "pe_section4_entropy = [pef_dumpdicts[key]['PE Sections'][3]['Entropy'] if pef_dumpdicts[key]['FILE_HEADER']['NumberOfSections']['Value']==4 else 0 for key in index ]\n",
        "number_of_section = [pef_dumpdicts[key]['FILE_HEADER']['NumberOfSections']['Value'] for key in index]\n",
        "signature_offset = [pef_dumpdicts[key]['NT_HEADERS']['Signature']['Offset'] for key in index]\n",
        "warnings = [pef_dumpdicts[key]['Parsing Warnings'][0] for key in index]"
      ],
      "execution_count": 0,
      "outputs": []
    },
    {
      "cell_type": "code",
      "metadata": {
        "colab_type": "code",
        "id": "K4TB7YxMn_A6",
        "colab": {}
      },
      "source": [
        "df = pd.DataFrame([index, pe_section2_MD5, pe_section2_entropy, pe_section3_entropy, pe_section4_entropy, number_of_section, signature_offset, warnings]).T\n",
        "df.columns = ['index', 'pe_section2_MD5', 'pe_section2_entropy', 'pe_section3_entropy', 'pe_section4_entropy', 'number_of_section', 'signature_offset', 'warnings']"
      ],
      "execution_count": 0,
      "outputs": []
    },
    {
      "cell_type": "code",
      "metadata": {
        "id": "hvT57KjaiX29",
        "colab_type": "code",
        "outputId": "99f46e27-cd8c-4110-ae40-a3c3874943ae",
        "colab": {
          "base_uri": "https://localhost:8080/",
          "height": 447
        }
      },
      "source": [
        "df.head()"
      ],
      "execution_count": 0,
      "outputs": [
        {
          "output_type": "execute_result",
          "data": {
            "text/html": [
              "<div>\n",
              "<style scoped>\n",
              "    .dataframe tbody tr th:only-of-type {\n",
              "        vertical-align: middle;\n",
              "    }\n",
              "\n",
              "    .dataframe tbody tr th {\n",
              "        vertical-align: top;\n",
              "    }\n",
              "\n",
              "    .dataframe thead th {\n",
              "        text-align: right;\n",
              "    }\n",
              "</style>\n",
              "<table border=\"1\" class=\"dataframe\">\n",
              "  <thead>\n",
              "    <tr style=\"text-align: right;\">\n",
              "      <th></th>\n",
              "      <th>index</th>\n",
              "      <th>pe_section2_MD5</th>\n",
              "      <th>pe_section2_entropy</th>\n",
              "      <th>pe_section3_entropy</th>\n",
              "      <th>pe_section4_entropy</th>\n",
              "      <th>number_of_section</th>\n",
              "      <th>signature_offset</th>\n",
              "      <th>warnings</th>\n",
              "    </tr>\n",
              "  </thead>\n",
              "  <tbody>\n",
              "    <tr>\n",
              "      <th>0</th>\n",
              "      <td>07edeebc14b053fffdfb4dcc08959360</td>\n",
              "      <td>99b34761df700a7b4dbdcb53733675af</td>\n",
              "      <td>7.90285</td>\n",
              "      <td>2.67557</td>\n",
              "      <td>0</td>\n",
              "      <td>3</td>\n",
              "      <td>0</td>\n",
              "      <td>Suspicious flags set for section 0. Both IMAGE...</td>\n",
              "    </tr>\n",
              "    <tr>\n",
              "      <th>1</th>\n",
              "      <td>0cfab9961285ab6e04f449c6d09cec37</td>\n",
              "      <td>99b34761df700a7b4dbdcb53733675af</td>\n",
              "      <td>7.90285</td>\n",
              "      <td>2.67557</td>\n",
              "      <td>0</td>\n",
              "      <td>3</td>\n",
              "      <td>0</td>\n",
              "      <td>Suspicious flags set for section 0. Both IMAGE...</td>\n",
              "    </tr>\n",
              "    <tr>\n",
              "      <th>2</th>\n",
              "      <td>2c1e90810ca30865cbf4440118c4aa0f</td>\n",
              "      <td>99b34761df700a7b4dbdcb53733675af</td>\n",
              "      <td>7.90285</td>\n",
              "      <td>2.67557</td>\n",
              "      <td>0</td>\n",
              "      <td>3</td>\n",
              "      <td>0</td>\n",
              "      <td>Byte 0x00 makes up 70.5090% of the file's cont...</td>\n",
              "    </tr>\n",
              "    <tr>\n",
              "      <th>3</th>\n",
              "      <td>412c8d4d6afc88391e6dad508106681a</td>\n",
              "      <td>99b34761df700a7b4dbdcb53733675af</td>\n",
              "      <td>7.90285</td>\n",
              "      <td>2.67557</td>\n",
              "      <td>0</td>\n",
              "      <td>3</td>\n",
              "      <td>0</td>\n",
              "      <td>Suspicious flags set for section 0. Both IMAGE...</td>\n",
              "    </tr>\n",
              "    <tr>\n",
              "      <th>4</th>\n",
              "      <td>656f628856a62f1dc14748bff4cee2e5</td>\n",
              "      <td>99b34761df700a7b4dbdcb53733675af</td>\n",
              "      <td>7.90285</td>\n",
              "      <td>2.67557</td>\n",
              "      <td>0</td>\n",
              "      <td>3</td>\n",
              "      <td>0</td>\n",
              "      <td>Byte 0x00 makes up 72.7470% of the file's cont...</td>\n",
              "    </tr>\n",
              "  </tbody>\n",
              "</table>\n",
              "</div>"
            ],
            "text/plain": [
              "                              index  ...                                           warnings\n",
              "0  07edeebc14b053fffdfb4dcc08959360  ...  Suspicious flags set for section 0. Both IMAGE...\n",
              "1  0cfab9961285ab6e04f449c6d09cec37  ...  Suspicious flags set for section 0. Both IMAGE...\n",
              "2  2c1e90810ca30865cbf4440118c4aa0f  ...  Byte 0x00 makes up 70.5090% of the file's cont...\n",
              "3  412c8d4d6afc88391e6dad508106681a  ...  Suspicious flags set for section 0. Both IMAGE...\n",
              "4  656f628856a62f1dc14748bff4cee2e5  ...  Byte 0x00 makes up 72.7470% of the file's cont...\n",
              "\n",
              "[5 rows x 8 columns]"
            ]
          },
          "metadata": {
            "tags": []
          },
          "execution_count": 22
        }
      ]
    },
    {
      "cell_type": "code",
      "metadata": {
        "id": "afVySA1buIJF",
        "colab_type": "code",
        "colab": {}
      },
      "source": [
        "#one-hot\n",
        "dummies = pd.get_dummies(\n",
        "    df, \n",
        "    columns=['pe_section2_MD5', 'warnings'],\n",
        "    prefix=['sec2_MD5', 'warnings'],\n",
        "    prefix_sep=\"_\",\n",
        "    dummy_na=False,\n",
        "    drop_first=False\n",
        ")"
      ],
      "execution_count": 0,
      "outputs": []
    },
    {
      "cell_type": "code",
      "metadata": {
        "id": "scsI70t6u1EM",
        "colab_type": "code",
        "outputId": "a9c812c5-e7b1-486d-e29e-1f7fc37f7066",
        "colab": {
          "base_uri": "https://localhost:8080/",
          "height": 350
        }
      },
      "source": [
        "dummies.head()"
      ],
      "execution_count": 0,
      "outputs": [
        {
          "output_type": "execute_result",
          "data": {
            "text/html": [
              "<div>\n",
              "<style scoped>\n",
              "    .dataframe tbody tr th:only-of-type {\n",
              "        vertical-align: middle;\n",
              "    }\n",
              "\n",
              "    .dataframe tbody tr th {\n",
              "        vertical-align: top;\n",
              "    }\n",
              "\n",
              "    .dataframe thead th {\n",
              "        text-align: right;\n",
              "    }\n",
              "</style>\n",
              "<table border=\"1\" class=\"dataframe\">\n",
              "  <thead>\n",
              "    <tr style=\"text-align: right;\">\n",
              "      <th></th>\n",
              "      <th>index</th>\n",
              "      <th>pe_section2_entropy</th>\n",
              "      <th>pe_section3_entropy</th>\n",
              "      <th>pe_section4_entropy</th>\n",
              "      <th>number_of_section</th>\n",
              "      <th>signature_offset</th>\n",
              "      <th>sec2_MD5_35a9f31f6b24b9fcefc14f98710deedb</th>\n",
              "      <th>sec2_MD5_99b34761df700a7b4dbdcb53733675af</th>\n",
              "      <th>sec2_MD5_e8719b838eb3baa3d985a0dd40d00563</th>\n",
              "      <th>warnings_Byte 0x00 makes up 50.3020% of the file's contents. This may indicate truncation / malformation.</th>\n",
              "      <th>warnings_Byte 0x00 makes up 55.1518% of the file's contents. This may indicate truncation / malformation.</th>\n",
              "      <th>warnings_Byte 0x00 makes up 69.8301% of the file's contents. This may indicate truncation / malformation.</th>\n",
              "      <th>warnings_Byte 0x00 makes up 70.5090% of the file's contents. This may indicate truncation / malformation.</th>\n",
              "      <th>warnings_Byte 0x00 makes up 70.9366% of the file's contents. This may indicate truncation / malformation.</th>\n",
              "      <th>warnings_Byte 0x00 makes up 72.7470% of the file's contents. This may indicate truncation / malformation.</th>\n",
              "      <th>warnings_Byte 0x00 makes up 81.2918% of the file's contents. This may indicate truncation / malformation.</th>\n",
              "      <th>warnings_Suspicious flags set for section 0. Both IMAGE_SCN_MEM_WRITE and IMAGE_SCN_MEM_EXECUTE are set. This might indicate a packed executable.</th>\n",
              "    </tr>\n",
              "  </thead>\n",
              "  <tbody>\n",
              "    <tr>\n",
              "      <th>0</th>\n",
              "      <td>07edeebc14b053fffdfb4dcc08959360</td>\n",
              "      <td>7.90285</td>\n",
              "      <td>2.67557</td>\n",
              "      <td>0</td>\n",
              "      <td>3</td>\n",
              "      <td>0</td>\n",
              "      <td>0</td>\n",
              "      <td>1</td>\n",
              "      <td>0</td>\n",
              "      <td>0</td>\n",
              "      <td>0</td>\n",
              "      <td>0</td>\n",
              "      <td>0</td>\n",
              "      <td>0</td>\n",
              "      <td>0</td>\n",
              "      <td>0</td>\n",
              "      <td>1</td>\n",
              "    </tr>\n",
              "    <tr>\n",
              "      <th>1</th>\n",
              "      <td>0cfab9961285ab6e04f449c6d09cec37</td>\n",
              "      <td>7.90285</td>\n",
              "      <td>2.67557</td>\n",
              "      <td>0</td>\n",
              "      <td>3</td>\n",
              "      <td>0</td>\n",
              "      <td>0</td>\n",
              "      <td>1</td>\n",
              "      <td>0</td>\n",
              "      <td>0</td>\n",
              "      <td>0</td>\n",
              "      <td>0</td>\n",
              "      <td>0</td>\n",
              "      <td>0</td>\n",
              "      <td>0</td>\n",
              "      <td>0</td>\n",
              "      <td>1</td>\n",
              "    </tr>\n",
              "    <tr>\n",
              "      <th>2</th>\n",
              "      <td>2c1e90810ca30865cbf4440118c4aa0f</td>\n",
              "      <td>7.90285</td>\n",
              "      <td>2.67557</td>\n",
              "      <td>0</td>\n",
              "      <td>3</td>\n",
              "      <td>0</td>\n",
              "      <td>0</td>\n",
              "      <td>1</td>\n",
              "      <td>0</td>\n",
              "      <td>0</td>\n",
              "      <td>0</td>\n",
              "      <td>0</td>\n",
              "      <td>1</td>\n",
              "      <td>0</td>\n",
              "      <td>0</td>\n",
              "      <td>0</td>\n",
              "      <td>0</td>\n",
              "    </tr>\n",
              "    <tr>\n",
              "      <th>3</th>\n",
              "      <td>412c8d4d6afc88391e6dad508106681a</td>\n",
              "      <td>7.90285</td>\n",
              "      <td>2.67557</td>\n",
              "      <td>0</td>\n",
              "      <td>3</td>\n",
              "      <td>0</td>\n",
              "      <td>0</td>\n",
              "      <td>1</td>\n",
              "      <td>0</td>\n",
              "      <td>0</td>\n",
              "      <td>0</td>\n",
              "      <td>0</td>\n",
              "      <td>0</td>\n",
              "      <td>0</td>\n",
              "      <td>0</td>\n",
              "      <td>0</td>\n",
              "      <td>1</td>\n",
              "    </tr>\n",
              "    <tr>\n",
              "      <th>4</th>\n",
              "      <td>656f628856a62f1dc14748bff4cee2e5</td>\n",
              "      <td>7.90285</td>\n",
              "      <td>2.67557</td>\n",
              "      <td>0</td>\n",
              "      <td>3</td>\n",
              "      <td>0</td>\n",
              "      <td>0</td>\n",
              "      <td>1</td>\n",
              "      <td>0</td>\n",
              "      <td>0</td>\n",
              "      <td>0</td>\n",
              "      <td>0</td>\n",
              "      <td>0</td>\n",
              "      <td>0</td>\n",
              "      <td>1</td>\n",
              "      <td>0</td>\n",
              "      <td>0</td>\n",
              "    </tr>\n",
              "  </tbody>\n",
              "</table>\n",
              "</div>"
            ],
            "text/plain": [
              "                              index  ... warnings_Suspicious flags set for section 0. Both IMAGE_SCN_MEM_WRITE and IMAGE_SCN_MEM_EXECUTE are set. This might indicate a packed executable.\n",
              "0  07edeebc14b053fffdfb4dcc08959360  ...                                                  1                                                                                               \n",
              "1  0cfab9961285ab6e04f449c6d09cec37  ...                                                  1                                                                                               \n",
              "2  2c1e90810ca30865cbf4440118c4aa0f  ...                                                  0                                                                                               \n",
              "3  412c8d4d6afc88391e6dad508106681a  ...                                                  1                                                                                               \n",
              "4  656f628856a62f1dc14748bff4cee2e5  ...                                                  0                                                                                               \n",
              "\n",
              "[5 rows x 17 columns]"
            ]
          },
          "metadata": {
            "tags": []
          },
          "execution_count": 24
        }
      ]
    },
    {
      "cell_type": "markdown",
      "metadata": {
        "id": "q5qM_pFadrpw",
        "colab_type": "text"
      },
      "source": [
        "# By hierarchical clustering"
      ]
    },
    {
      "cell_type": "code",
      "metadata": {
        "id": "3SEsJNSkxr_y",
        "colab_type": "code",
        "colab": {}
      },
      "source": [
        "dfFinal = dummies.drop(columns=['index'])"
      ],
      "execution_count": 0,
      "outputs": []
    },
    {
      "cell_type": "code",
      "metadata": {
        "id": "DzvP_jA9Z4NA",
        "colab_type": "code",
        "outputId": "3e933865-0cc8-4c5e-ddd1-789c2de46b34",
        "colab": {
          "base_uri": "https://localhost:8080/",
          "height": 323
        }
      },
      "source": [
        "import matplotlib.pyplot as plt\n",
        "from scipy.cluster import hierarchy\n",
        "from scipy.spatial.distance import pdist\n",
        "\n",
        "distance_mat = pdist(dfFinal.values) # pdist calculates the uxpper triangle of the distance matrix\n",
        "\n",
        "Z = hierarchy.linkage(distance_mat, 'ward') # linkage is agglomerative clustering algorithm\n",
        "plt.figure(figsize=(10, 5))\n",
        "dn = hierarchy.dendrogram(Z, color_threshold=6)"
      ],
      "execution_count": 0,
      "outputs": [
        {
          "output_type": "display_data",
          "data": {
            "image/png": "[encoded data removed]",
            "text/plain": [
              "<Figure size 720x360 with 1 Axes>"
            ]
          },
          "metadata": {
            "tags": [],
            "needs_background": "light"
          }
        }
      ]
    },
    {
      "cell_type": "code",
      "metadata": {
        "id": "7AWwxA0GwN_H",
        "colab_type": "code",
        "colab": {}
      },
      "source": [
        "from sklearn import cluster\n",
        "\n",
        "kmeans_fit = cluster.KMeans(n_clusters = 4).fit(dfFinal.values)\n",
        "cluster_labels = kmeans_fit.labels_"
      ],
      "execution_count": 0,
      "outputs": []
    },
    {
      "cell_type": "code",
      "metadata": {
        "id": "3vA5UFLexogV",
        "colab_type": "code",
        "outputId": "6653e188-0c97-4a8e-cd3b-838ac19520d4",
        "colab": {
          "base_uri": "https://localhost:8080/",
          "height": 1000
        }
      },
      "source": [
        "pd.DataFrame({'index':list(index), 'class':cluster_labels})"
      ],
      "execution_count": 0,
      "outputs": [
        {
          "output_type": "execute_result",
          "data": {
            "text/html": [
              "<div>\n",
              "<style scoped>\n",
              "    .dataframe tbody tr th:only-of-type {\n",
              "        vertical-align: middle;\n",
              "    }\n",
              "\n",
              "    .dataframe tbody tr th {\n",
              "        vertical-align: top;\n",
              "    }\n",
              "\n",
              "    .dataframe thead th {\n",
              "        text-align: right;\n",
              "    }\n",
              "</style>\n",
              "<table border=\"1\" class=\"dataframe\">\n",
              "  <thead>\n",
              "    <tr style=\"text-align: right;\">\n",
              "      <th></th>\n",
              "      <th>index</th>\n",
              "      <th>class</th>\n",
              "    </tr>\n",
              "  </thead>\n",
              "  <tbody>\n",
              "    <tr>\n",
              "      <th>0</th>\n",
              "      <td>07edeebc14b053fffdfb4dcc08959360</td>\n",
              "      <td>0</td>\n",
              "    </tr>\n",
              "    <tr>\n",
              "      <th>1</th>\n",
              "      <td>0cfab9961285ab6e04f449c6d09cec37</td>\n",
              "      <td>0</td>\n",
              "    </tr>\n",
              "    <tr>\n",
              "      <th>2</th>\n",
              "      <td>2c1e90810ca30865cbf4440118c4aa0f</td>\n",
              "      <td>0</td>\n",
              "    </tr>\n",
              "    <tr>\n",
              "      <th>3</th>\n",
              "      <td>412c8d4d6afc88391e6dad508106681a</td>\n",
              "      <td>0</td>\n",
              "    </tr>\n",
              "    <tr>\n",
              "      <th>4</th>\n",
              "      <td>656f628856a62f1dc14748bff4cee2e5</td>\n",
              "      <td>0</td>\n",
              "    </tr>\n",
              "    <tr>\n",
              "      <th>5</th>\n",
              "      <td>8595c554539a172534c95222260650e5</td>\n",
              "      <td>0</td>\n",
              "    </tr>\n",
              "    <tr>\n",
              "      <th>6</th>\n",
              "      <td>88b666fd4ef1c21f4051ad3f859ee5bd</td>\n",
              "      <td>0</td>\n",
              "    </tr>\n",
              "    <tr>\n",
              "      <th>7</th>\n",
              "      <td>8aa66c2a430c3545c542e8419de13385</td>\n",
              "      <td>0</td>\n",
              "    </tr>\n",
              "    <tr>\n",
              "      <th>8</th>\n",
              "      <td>e776d8d8d187bdb68f41dc9ccfc86444</td>\n",
              "      <td>0</td>\n",
              "    </tr>\n",
              "    <tr>\n",
              "      <th>9</th>\n",
              "      <td>ed1304342c5794cb0a55840253793b45</td>\n",
              "      <td>0</td>\n",
              "    </tr>\n",
              "    <tr>\n",
              "      <th>10</th>\n",
              "      <td>2650e58a609438ba18706f539b49a6af</td>\n",
              "      <td>1</td>\n",
              "    </tr>\n",
              "    <tr>\n",
              "      <th>11</th>\n",
              "      <td>2a5932a800123709eff21dbd2310e090</td>\n",
              "      <td>1</td>\n",
              "    </tr>\n",
              "    <tr>\n",
              "      <th>12</th>\n",
              "      <td>4271ba51876b1e931dd55b2ccff25789</td>\n",
              "      <td>1</td>\n",
              "    </tr>\n",
              "    <tr>\n",
              "      <th>13</th>\n",
              "      <td>52cae62ada8b02adae128e35686cbc16</td>\n",
              "      <td>1</td>\n",
              "    </tr>\n",
              "    <tr>\n",
              "      <th>14</th>\n",
              "      <td>774b71a232568ca7ea09c0a26b82f8e5</td>\n",
              "      <td>1</td>\n",
              "    </tr>\n",
              "    <tr>\n",
              "      <th>15</th>\n",
              "      <td>7b57508defc0934c69b98544b4bac185</td>\n",
              "      <td>1</td>\n",
              "    </tr>\n",
              "    <tr>\n",
              "      <th>16</th>\n",
              "      <td>8081b6b58cc3372ad62a5d8b6ce09c0b</td>\n",
              "      <td>1</td>\n",
              "    </tr>\n",
              "    <tr>\n",
              "      <th>17</th>\n",
              "      <td>8e6d8d46e4a7482b9475e6c5b211dc61</td>\n",
              "      <td>1</td>\n",
              "    </tr>\n",
              "    <tr>\n",
              "      <th>18</th>\n",
              "      <td>b4e89348aa9b635b8edce746f8231303</td>\n",
              "      <td>1</td>\n",
              "    </tr>\n",
              "    <tr>\n",
              "      <th>19</th>\n",
              "      <td>e0ad769d1bd2b9b6444796f99b52a43f</td>\n",
              "      <td>1</td>\n",
              "    </tr>\n",
              "    <tr>\n",
              "      <th>20</th>\n",
              "      <td>0c6e68a34804df907df26d7139b1f052</td>\n",
              "      <td>3</td>\n",
              "    </tr>\n",
              "    <tr>\n",
              "      <th>21</th>\n",
              "      <td>0e751a5b6db31895c283ddd9757477de</td>\n",
              "      <td>3</td>\n",
              "    </tr>\n",
              "    <tr>\n",
              "      <th>22</th>\n",
              "      <td>0f74a58af435599ec94eff2b72d5e55e</td>\n",
              "      <td>3</td>\n",
              "    </tr>\n",
              "    <tr>\n",
              "      <th>23</th>\n",
              "      <td>1d0ce31c6d7129a74e2921e8d161c752</td>\n",
              "      <td>3</td>\n",
              "    </tr>\n",
              "    <tr>\n",
              "      <th>24</th>\n",
              "      <td>2cceeae738cae520544e9d9fda9ca30e</td>\n",
              "      <td>3</td>\n",
              "    </tr>\n",
              "    <tr>\n",
              "      <th>25</th>\n",
              "      <td>2ea5285f04bc9a0b3008165779a382ec</td>\n",
              "      <td>3</td>\n",
              "    </tr>\n",
              "    <tr>\n",
              "      <th>26</th>\n",
              "      <td>2f45c7132f623cd7caea6d7965d53a0f</td>\n",
              "      <td>3</td>\n",
              "    </tr>\n",
              "    <tr>\n",
              "      <th>27</th>\n",
              "      <td>3b569cd1c63b83446420dd798a8622b7</td>\n",
              "      <td>3</td>\n",
              "    </tr>\n",
              "    <tr>\n",
              "      <th>28</th>\n",
              "      <td>3f07e530430d1d450bfeaf0a595109b1</td>\n",
              "      <td>0</td>\n",
              "    </tr>\n",
              "    <tr>\n",
              "      <th>29</th>\n",
              "      <td>4aa9b2104ac7c7602c4258a0f7ce2b44</td>\n",
              "      <td>3</td>\n",
              "    </tr>\n",
              "    <tr>\n",
              "      <th>30</th>\n",
              "      <td>17af47cdfd7c327ebfc2ab21221fee03</td>\n",
              "      <td>2</td>\n",
              "    </tr>\n",
              "    <tr>\n",
              "      <th>31</th>\n",
              "      <td>1f6bcbaaefaec970de211d47c7c57854</td>\n",
              "      <td>2</td>\n",
              "    </tr>\n",
              "    <tr>\n",
              "      <th>32</th>\n",
              "      <td>573054f5a9b74edc86ede736876bcb57</td>\n",
              "      <td>2</td>\n",
              "    </tr>\n",
              "    <tr>\n",
              "      <th>33</th>\n",
              "      <td>60c4a8055b75c25d60932d1e6c34e05a</td>\n",
              "      <td>2</td>\n",
              "    </tr>\n",
              "    <tr>\n",
              "      <th>34</th>\n",
              "      <td>6a3943016197db960f00e27f1b154093</td>\n",
              "      <td>2</td>\n",
              "    </tr>\n",
              "    <tr>\n",
              "      <th>35</th>\n",
              "      <td>6db56b93657419ea946b2db489d88908</td>\n",
              "      <td>2</td>\n",
              "    </tr>\n",
              "    <tr>\n",
              "      <th>36</th>\n",
              "      <td>91e8fe3c2623eaea8ec8027564a857d5</td>\n",
              "      <td>2</td>\n",
              "    </tr>\n",
              "    <tr>\n",
              "      <th>37</th>\n",
              "      <td>bc28e599e69d23edcb60b0dd5b428f6f</td>\n",
              "      <td>2</td>\n",
              "    </tr>\n",
              "    <tr>\n",
              "      <th>38</th>\n",
              "      <td>d32c82e4632a1e6656b05678ae5560fd</td>\n",
              "      <td>2</td>\n",
              "    </tr>\n",
              "    <tr>\n",
              "      <th>39</th>\n",
              "      <td>ec34196b53dd111997b88eaa2920b7f4</td>\n",
              "      <td>2</td>\n",
              "    </tr>\n",
              "  </tbody>\n",
              "</table>\n",
              "</div>"
            ],
            "text/plain": [
              "                               index  class\n",
              "0   07edeebc14b053fffdfb4dcc08959360      0\n",
              "1   0cfab9961285ab6e04f449c6d09cec37      0\n",
              "2   2c1e90810ca30865cbf4440118c4aa0f      0\n",
              "3   412c8d4d6afc88391e6dad508106681a      0\n",
              "4   656f628856a62f1dc14748bff4cee2e5      0\n",
              "5   8595c554539a172534c95222260650e5      0\n",
              "6   88b666fd4ef1c21f4051ad3f859ee5bd      0\n",
              "7   8aa66c2a430c3545c542e8419de13385      0\n",
              "8   e776d8d8d187bdb68f41dc9ccfc86444      0\n",
              "9   ed1304342c5794cb0a55840253793b45      0\n",
              "10  2650e58a609438ba18706f539b49a6af      1\n",
              "11  2a5932a800123709eff21dbd2310e090      1\n",
              "12  4271ba51876b1e931dd55b2ccff25789      1\n",
              "13  52cae62ada8b02adae128e35686cbc16      1\n",
              "14  774b71a232568ca7ea09c0a26b82f8e5      1\n",
              "15  7b57508defc0934c69b98544b4bac185      1\n",
              "16  8081b6b58cc3372ad62a5d8b6ce09c0b      1\n",
              "17  8e6d8d46e4a7482b9475e6c5b211dc61      1\n",
              "18  b4e89348aa9b635b8edce746f8231303      1\n",
              "19  e0ad769d1bd2b9b6444796f99b52a43f      1\n",
              "20  0c6e68a34804df907df26d7139b1f052      3\n",
              "21  0e751a5b6db31895c283ddd9757477de      3\n",
              "22  0f74a58af435599ec94eff2b72d5e55e      3\n",
              "23  1d0ce31c6d7129a74e2921e8d161c752      3\n",
              "24  2cceeae738cae520544e9d9fda9ca30e      3\n",
              "25  2ea5285f04bc9a0b3008165779a382ec      3\n",
              "26  2f45c7132f623cd7caea6d7965d53a0f      3\n",
              "27  3b569cd1c63b83446420dd798a8622b7      3\n",
              "28  3f07e530430d1d450bfeaf0a595109b1      0\n",
              "29  4aa9b2104ac7c7602c4258a0f7ce2b44      3\n",
              "30  17af47cdfd7c327ebfc2ab21221fee03      2\n",
              "31  1f6bcbaaefaec970de211d47c7c57854      2\n",
              "32  573054f5a9b74edc86ede736876bcb57      2\n",
              "33  60c4a8055b75c25d60932d1e6c34e05a      2\n",
              "34  6a3943016197db960f00e27f1b154093      2\n",
              "35  6db56b93657419ea946b2db489d88908      2\n",
              "36  91e8fe3c2623eaea8ec8027564a857d5      2\n",
              "37  bc28e599e69d23edcb60b0dd5b428f6f      2\n",
              "38  d32c82e4632a1e6656b05678ae5560fd      2\n",
              "39  ec34196b53dd111997b88eaa2920b7f4      2"
            ]
          },
          "metadata": {
            "tags": []
          },
          "execution_count": 29
        }
      ]
    },
    {
      "cell_type": "code",
      "metadata": {
        "id": "1VEbYTP3-x4d",
        "colab_type": "code",
        "colab": {}
      },
      "source": [
        ""
      ],
      "execution_count": 0,
      "outputs": []
    }
  ]
}